{
 "cells": [
  {
   "cell_type": "markdown",
   "metadata": {},
   "source": [
    "# Assignment 1\n",
    "\n",
    "**Group 22**\n",
    "\n",
    "A. Siganos ( 1283871 )     \n",
    "J. Gómez Robles ( 1286552 )"
   ]
  },
  {
   "cell_type": "code",
   "execution_count": 260,
   "metadata": {},
   "outputs": [],
   "source": [
    "import numpy as np\n",
    "np.random.seed(13) #TODO Check if this is used for sgd\n",
    "import keras.backend as K\n",
    "from keras.models import Sequential\n",
    "from keras.layers import Dense, Embedding, Reshape, Lambda\n",
    "from keras.utils import np_utils\n",
    "from keras.utils.data_utils import get_file\n",
    "from keras.preprocessing.text import Tokenizer\n",
    "from keras.utils.vis_utils import model_to_dot\n",
    "from keras.preprocessing import sequence\n",
    "from gensim.models import KeyedVectors\n",
    "from sklearn.manifold import TSNE\n",
    "from sklearn.metrics.pairwise import cosine_similarity\n",
    "from sklearn.neighbors import NearestNeighbors as nn\n",
    "from matplotlib import pylab\n",
    "from __future__ import division\n",
    "\n",
    "# For timestamps\n",
    "import time\n"
   ]
  },
  {
   "cell_type": "code",
   "execution_count": 261,
   "metadata": {},
   "outputs": [],
   "source": [
    "# DO NOT Modify the lines in this cell\n",
    "path = 'alice.txt'\n",
    "corpus = open(path).readlines()[0:700]\n",
    "\n",
    "corpus = [sentence for sentence in corpus if sentence.count(\" \") >= 2]\n",
    "\n",
    "tokenizer = Tokenizer(filters='!\"#$%&()*+,-./:;<=>?@[\\\\]^_`{|}~\\t\\n'+\"'\")\n",
    "tokenizer.fit_on_texts(corpus)\n",
    "corpus = tokenizer.texts_to_sequences(corpus)\n",
    "nb_samples = sum(len(s) for s in corpus)\n",
    "V = len(tokenizer.word_index) + 1\n",
    "\n",
    "# Is this something they need to change?\n",
    "dim = 100\n",
    "window_size = 2 #use this window size for Skipgram, CBOW, and the model with the additional hidden layer\n",
    "window_size_corpus = 4 #use this window size for the co-occurrence matrix"
   ]
  },
  {
   "cell_type": "markdown",
   "metadata": {},
   "source": [
    "## Question 1\n",
    "\n",
    "### Co-occurrence Matrix\n",
    "Use the provided code to load the \"Alice in Wonderland\" text document. \n",
    "1. Implement the word-word co-occurrence matrix for “Alice in Wonderland”\n",
    "2. Normalize the words such that every value lies within a range of 0 and 1\n",
    "3. Compute the cosine distance between the given words:\n",
    "    - Alice \n",
    "    - Dinah\n",
    "    - Rabbit\n",
    "4. List the 5 closest words to 'Alice'. Discuss the results.\n",
    "5. Discuss what the main drawbacks are of a term-term co-occurence matrix solutions?\n"
   ]
  },
  {
   "cell_type": "code",
   "execution_count": 262,
   "metadata": {},
   "outputs": [],
   "source": [
    "################################################################################\n",
    "############################## 0. Util functions ###############################\n",
    "################################################################################\n",
    "\n",
    "# Run this block first\n",
    "def getKeyFromValue(dictionary, target):\n",
    "    return list(dictionary.keys())[list(dictionary.values()).index(target)]\n"
   ]
  },
  {
   "cell_type": "code",
   "execution_count": 263,
   "metadata": {},
   "outputs": [
    {
     "name": "stdout",
     "output_type": "stream",
     "text": [
      "Sumary of the word-word co-ocurrence matrix\n",
      " - Shape (1183, 1183)\n",
      " - Min value 0.0\n",
      " - Max value 1.0\n"
     ]
    }
   ],
   "source": [
    "################################################################################\n",
    "################# 1. Implement word-word co-ocurrence matrix ###################\n",
    "################################################################################\n",
    "\n",
    "# Not changing V in the cell they do not want us to modify, but one never uses a \n",
    "# size variable to handle an iteration issue.\n",
    "#V = len(tokenizer.word_index)\n",
    "\n",
    "# Create my co-ocurrence matrix, initially 0 (VxV size)\n",
    "# How to access this matrix:\n",
    "#   Each column is an (index - 1) (column 0 is word in index 1; column 1 is word in index 2; ...)\n",
    "wcoMatrix = np.zeros([V, V]) \n",
    "\n",
    "# Using my window_size_corpus to define my context scope\n",
    "scope = window_size_corpus\n",
    "\n",
    "# TODO: Do not make that many iterations\n",
    "# Greedy approach first (to be able to compare the optimization)\n",
    "\n",
    "# For each line in the corpus. Note that they preserve the order, even when they are indexes now.\n",
    "for s in corpus:\n",
    "    # For each word\n",
    "    for current_index in range(0, len(s)):\n",
    "        current_value = s[current_index] # Get the 'word'\n",
    "        # From left to right\n",
    "        for neighbor_index in range(current_index - scope, current_index + scope + 1):\n",
    "            # Never out of boundaries and never the same index\n",
    "            if ( neighbor_index >= 0 and neighbor_index < len(s) ) and ( neighbor_index != current_index ):\n",
    "                # Get my neighbor 'word'\n",
    "                neighbor = s[neighbor_index] \n",
    "                # Never myself and myself (keeping diagonal to 0)\n",
    "                if current_value != neighbor:\n",
    "                    # Update the ocurrence\n",
    "                    #wcoMatrix[current_value - 1, neighbor - 1] += 1\n",
    "                    wcoMatrix[current_value, neighbor] += 1\n",
    "                    \n",
    "################################################################################\n",
    "################################# 2. Normalize #################################\n",
    "################################################################################\n",
    "wcoMatrix = wcoMatrix / wcoMatrix.max()\n",
    "wcoMatrix\n",
    "\n",
    "print(\"Sumary of the word-word co-ocurrence matrix\")\n",
    "print(\" - Shape\", wcoMatrix.shape)\n",
    "print(\" - Min value\", wcoMatrix.min())\n",
    "print(\" - Max value\", wcoMatrix.max())\n"
   ]
  },
  {
   "cell_type": "code",
   "execution_count": 264,
   "metadata": {},
   "outputs": [
    {
     "name": "stdout",
     "output_type": "stream",
     "text": [
      "cosine_similarity(alice, dinah)=[[0.39360011]]\n",
      "cosine_similarity(alice, rabbit)=[[0.47890931]]\n",
      "cosine_similarity(dinah, alice)=[[0.39360011]]\n",
      "cosine_similarity(dinah, rabbit)=[[0.29862324]]\n",
      "cosine_similarity(rabbit, alice)=[[0.47890931]]\n",
      "cosine_similarity(rabbit, dinah)=[[0.29862324]]\n"
     ]
    }
   ],
   "source": [
    "################################################################################\n",
    "########### 3. Compute cosine similarity to Alice, Dinah and Rabbit ############\n",
    "################################################################################\n",
    "\n",
    "words_to_compare = [\"Alice\", \"Dinah\", \"Rabbit\"]\n",
    "\n",
    "# Get my index\n",
    "full_index = tokenizer.word_index\n",
    "\n",
    "# Iterate on all possible combinations\n",
    "for w1 in words_to_compare:\n",
    "    w1 = w1.lower() \n",
    "    x = full_index[w1]\n",
    "    for w2 in words_to_compare:\n",
    "        w2 = w2.lower()\n",
    "        if w1 != w2:\n",
    "            y = full_index[w2]\n",
    "            X = wcoMatrix[x, :].reshape((1, V))\n",
    "            Y = wcoMatrix[y, :].reshape((1, V))\n",
    "            print(\"cosine_similarity(%s, %s)=%s\" % (w1, w2, cosine_similarity(X, Y)))\n",
    "            "
   ]
  },
  {
   "cell_type": "code",
   "execution_count": 265,
   "metadata": {
    "scrolled": false
   },
   "outputs": [
    {
     "name": "stdout",
     "output_type": "stream",
     "text": [
      "Nearest neighbors (co-ocurrence matrix based) to alice (index 11):\n",
      "her [index 14] with distance: 0.5616433150108668\n",
      "that [index 13] with distance: 0.5692975698101006\n",
      "herself [index 41] with distance: 0.5700573426956416\n",
      "for [index 18] with distance: 0.5811858638252018\n",
      "on [index 21] with distance: 0.5837124477057559\n"
     ]
    }
   ],
   "source": [
    "################################################################################\n",
    "################## 4a. List the 5 closest words to 'Alice'. ####################\n",
    "################################################################################\n",
    "\n",
    "################################\n",
    "### We use Nearest Neighbors ###\n",
    "################################\n",
    "\n",
    "# It was not importing\n",
    "from sklearn.neighbors import NearestNeighbors\n",
    "\n",
    "# Define our variables\n",
    "targetWord = \"Alice\".lower()\n",
    "X = wcoMatrix\n",
    "N_NEIGHBORS = 5\n",
    "full_index = tokenizer.word_index\n",
    "\n",
    "# Perfrom the NearestNeibhbors algorithm\n",
    "# TODO: Tune parameters\n",
    "nbrs = NearestNeighbors(n_neighbors = N_NEIGHBORS).fit(X)\n",
    "\n",
    "# Get the index corresponding to the target word\n",
    "aliceMatrixIndex = full_index[targetWord]\n",
    "\n",
    "# Get results from nearest neighbors\n",
    "distances, indices = nbrs.kneighbors()\n",
    "aliceIndices = indices[aliceMatrixIndex, :]\n",
    "aliceDistances = distances[aliceMatrixIndex, :]\n",
    "\n",
    "# Output result\n",
    "print(\"Nearest neighbors (co-ocurrence matrix based) to %s (index %s):\" % (targetWord, aliceMatrixIndex))\n",
    "for i in range(0, N_NEIGHBORS):\n",
    "    print( \"%s [index %s] with distance: %s\" % (getKeyFromValue(full_index, aliceIndices[i]), aliceIndices[i], aliceDistances[i]) )\n",
    "\n",
    "# TODO: Think about what we are computing. \n",
    "# With first approach, a neighbor would be a word with a similar vector in the co-ocurrence matrix, \n",
    "# not a word within the same context (window_size). Although words in the similar window_size should have a\n",
    "# similar vector, isn't?"
   ]
  },
  {
   "cell_type": "markdown",
   "metadata": {},
   "source": [
    "**4b. Discuss the results**\n",
    "\n",
    "We observe that the most similar words are possesives and prepositions. Although these results intuitively make some sense (Alice is the main character of the book and consequently, describing her behaviour is expected), no idiomatic relations can be achieved by means of the simple word-word co-ocurrence matrix.\n",
    "\n",
    "Furthermore, the minimal distance (cosine similarity normalized) found for alice is of 0.5616, which suggests a poor result - one would be interested on a similarity close to 0.\n"
   ]
  },
  {
   "cell_type": "markdown",
   "metadata": {},
   "source": [
    "**5. Discuss what the main drawbacks are of a term-term co-occurence matrix solutions? **\n",
    "\n",
    "TODO. Add some ideas!\n",
    "\n",
    "Jorge's ideas: sparse matrix VxV size (computation time increases).\n",
    "\n"
   ]
  },
  {
   "cell_type": "code",
   "execution_count": 266,
   "metadata": {},
   "outputs": [],
   "source": [
    "#Save your all the vector representations of your word embeddings in this way\n",
    "#Change when necessary the sizes of the vocabulary/embedding dimension\n",
    "\n",
    "f = open('vectors_co_occurrence.txt',\"w\")\n",
    "f.write(\" \".join([str(V-1),str(V-1)]))\n",
    "f.write(\"\\n\")\n",
    "\n",
    "#vectors = your word co-occurrence matrix\n",
    "vectors = wcoMatrix\n",
    "for word, i in tokenizer.word_index.items():    \n",
    "    f.write(word)\n",
    "    f.write(\" \")\n",
    "    f.write(\" \".join(map(str, list(vectors[i,:]))))\n",
    "    f.write(\"\\n\")\n",
    "f.close()\n"
   ]
  },
  {
   "cell_type": "code",
   "execution_count": 267,
   "metadata": {},
   "outputs": [],
   "source": [
    "#reopen your file as follows\n",
    "# TODO: Check! It is not reloading the file D:\n",
    "# co_occurrence = KeyedVectors.load_word2vec_format('./vectors_co_occurrence.txt', binary=False)\n"
   ]
  },
  {
   "cell_type": "markdown",
   "metadata": {},
   "source": [
    "## Question 2\n",
    "\n",
    "### Word embeddings\n",
    "Build embeddings with a keras implementation where the embedding vector is of length 50, 150 and 300. Use the Alice in Wonderland text book for training.\n",
    "1. Using the CBOW model\n",
    "2. Using Skipgram model\n",
    "3. Add extra hidden dense layer to CBow and Skipgram implementations. Choose an activation function for that layer and justify your answer.\n",
    "4. Analyze the four different word embeddings\n",
    "    - Implement your own function to perform the analogy task with. Do not use existing libraries for this task such as Gensim. Your function should be able to answer whether an anaology as in the example given in the pdf-file is true.\n",
    "    - Compare the performance on the analogy task between the word embeddings that you have trained in 2.1, 2.2 and 2.3.  \n",
    "    - Visualize your results and interpret your results\n",
    "5. Use the word co-occurence matrix from Question 1. Compare the performance on the analogy task with the performance of your trained word embeddings.  \n",
    "6. Discuss:\n",
    "    - What are the main advantages of CBOW and Skipgram?\n",
    "    - What is the advantage of negative sampling?\n",
    "    - What are the main drawbacks of CBOW and Skipgram?\n",
    "7. Load pre-trained embeddings on large corpuses (see the pdf file). You only have to consider the word embeddings with an embedding size of 300\n",
    "    - Compare performance on the analogy task with your own trained embeddings from \"Alice in Wonderland\". You can limit yourself to the vocabulary of Alice in Wonderland. Visualize the pre-trained word embeddings and compare these with the results of your own trained word embeddings. \n"
   ]
  },
  {
   "cell_type": "code",
   "execution_count": 268,
   "metadata": {},
   "outputs": [],
   "source": [
    "#prepare data for cbow\n"
   ]
  },
  {
   "cell_type": "code",
   "execution_count": 269,
   "metadata": {},
   "outputs": [],
   "source": [
    "#create CBOW model\n"
   ]
  },
  {
   "cell_type": "code",
   "execution_count": 270,
   "metadata": {},
   "outputs": [],
   "source": [
    "#define loss function\n"
   ]
  },
  {
   "cell_type": "code",
   "execution_count": 271,
   "metadata": {},
   "outputs": [],
   "source": [
    "#train model\n"
   ]
  },
  {
   "cell_type": "code",
   "execution_count": 272,
   "metadata": {},
   "outputs": [],
   "source": [
    "#prepare data for Skipgram\n",
    "\n",
    "# This function creates a list where _each word_ in the text file (with non-empty content)\n",
    "# is encoded into two arrays:\n",
    "#   - x: an array of the size of all his windows_size neighbors with the value of the word (i.e, repeated values)\n",
    "#   - y: an array of the same size as x pointing to each neighbor. Finally encoded in a |V|-list as one-hot enc\n",
    "def generate_data_skipgram(corpus, window_size, V):\n",
    "    all_in = [] \n",
    "    all_out = []\n",
    "    for sentence in corpus: # For, sentence in corpus\n",
    "        L = len(sentence) # Limit for the iteration (per sentence)\n",
    "\n",
    "        # For each pair in the index\n",
    "        for index, word in enumerate(sentence):\n",
    "            # Create X and Y\n",
    "            in_words = [] # list of lists\n",
    "            labels = [] # list of integers\n",
    "\n",
    "            # Iterate over all the sentence, for each word in the line. I.e, for each word:\n",
    "            for i in range(index - window_size, index + window_size + 1):\n",
    "                # If between the limits and not myself\n",
    "                if i != index and (0 <= i < L):\n",
    "                    # This means: Associating the words in my neighbor (context) \n",
    "                    in_words.append([word]) # Current word (as a list) is associated to...\n",
    "                    labels.append(sentence[i]) # ... this word (as a simple integer).\n",
    "                    \n",
    "            # Once I have saved the context for the current word...\n",
    "            # ... if there is something in the arrays\n",
    "            if in_words != []:\n",
    "                # Save the information to the all_in/out arrays\n",
    "                all_in.append(np.array(in_words,dtype=np.int32)) # X in integer format\n",
    "                # Set Y to categorical values. If my output is ([6, 26]). Then I create\n",
    "                # a vector from 0 to V and mark 6 and 26 as 1\n",
    "                all_out.append(np_utils.to_categorical(labels, V))\n",
    "    return (all_in,all_out) # return the values\n",
    "\n",
    "# Prepare data for skipgram\n",
    "X, Y = generate_data_skipgram(corpus, window_size, V)\n"
   ]
  },
  {
   "cell_type": "code",
   "execution_count": 273,
   "metadata": {},
   "outputs": [],
   "source": [
    "#save the preprocessed data of Skipgram\n",
    "f = open('data_skipgram.txt' ,'w')\n",
    "\n",
    "for input, outcome in zip(X,Y):\n",
    "    input = np.concatenate(input)\n",
    "    f.write(\" \".join(map(str, list(input))))\n",
    "    f.write(\",\")\n",
    "    outcome = np.concatenate(outcome)\n",
    "    f.write(\" \".join(map(str,list(outcome))))\n",
    "    f.write(\"\\n\")\n",
    "f.close()\n"
   ]
  },
  {
   "cell_type": "code",
   "execution_count": 274,
   "metadata": {},
   "outputs": [],
   "source": [
    "#load the preprocessed Skipgram data\n",
    "def generate_data_skipgram_from_file():\n",
    "    f = open('data_skipgram.txt' ,'r')\n",
    "    for row in f:\n",
    "        inputs,outputs = row.split(\",\")\n",
    "        inputs = np.fromstring(inputs, dtype=int, sep=' ')\n",
    "        inputs = np.asarray(np.split(inputs, len(inputs)))\n",
    "        outputs = np.fromstring(outputs, dtype=float, sep=' ')\n",
    "        outputs = np.asarray(np.split(outputs, len(inputs)))\n",
    "        yield (inputs,outputs)\n",
    "        "
   ]
  },
  {
   "cell_type": "code",
   "execution_count": 275,
   "metadata": {},
   "outputs": [],
   "source": [
    "# create Skipgram model\n",
    "\n",
    "def getSkipgramModel(dim = 50, extra_layer = False, activation_extra_layer = 'softmax'):\n",
    "\n",
    "    # The Sequential model is a linear stack of layers.\n",
    "    skipgram = Sequential()\n",
    "    \n",
    "    # First layer (Projection layer. Embedding for wt)\n",
    "    # \n",
    "    # Parameters: \n",
    "    #   - input_dim: V (From the book: 1xV (input layer))\n",
    "    #   - embeddings_initializer = Glorot uniform. Is it for the uniform distribution of the noises?\n",
    "    #   - input_length: 1. It is needed for the dense layer (https://keras.io/layers/embeddings/#embedding)\n",
    "    # Input: One-hot ecoding of word wt in the 1xV space\n",
    "    # Output: vj in the dimension space 1xd\n",
    "    skipgram.add( Embedding(input_dim = V, output_dim = dim, embeddings_initializer = 'glorot_uniform', input_length = 1) )\n",
    "\n",
    "    # Intermediate layer. Can be seen as a helper only.\n",
    "    skipgram.add( Reshape((dim, )) )\n",
    "\n",
    "    # Second Layer (Output layer. Probabilities of context words)\n",
    "    # From documentation, Dense implements the operation: \n",
    "    #      output = activation(dot(input, kernel) + bias) \n",
    "    #   where:\n",
    "    #      activation is the element-wise activation function passed as the activation argument\n",
    "    #      kernel is a weights matrix created by the layer\n",
    "    #      and bias is a bias vector created by the layer (only applicable if use_bias is True). _WE DO NOT SET THIS_.\n",
    "    #\n",
    "    # Hence, we are computing ck*vj\n",
    "    #\n",
    "    # Parameters:\n",
    "    #   - input_dim: dim. From embedding layer, dx1\n",
    "    #   - units: V. The output dimension, From the book 1xV\n",
    "    #   - kernel_initializer: uniform (?)\n",
    "    #   - activation: softmax (as described in the book)\n",
    "    skipgram.add( Dense(input_dim=dim, units=V, kernel_initializer='uniform', activation='softmax') )\n",
    "    \n",
    "    # Extra layer ()\n",
    "    #\n",
    "    # Justification: \n",
    "    #\n",
    "    #\n",
    "    if extra_layer :\n",
    "        skipgram.add(Dense(input_dim=dim, units=V, kernel_initializer='uniform', activation= activation_extra_layer))\n",
    "    \n",
    "    # define loss function for Skipgram\n",
    "    skipgram.compile(loss='categorical_crossentropy', optimizer='adadelta')\n",
    "\n",
    "    return skipgram"
   ]
  },
  {
   "cell_type": "code",
   "execution_count": 276,
   "metadata": {},
   "outputs": [
    {
     "name": "stdout",
     "output_type": "stream",
     "text": [
      "Running Skipgram (dim = 50)...\n",
      "_________________________________________________________________\n",
      "Layer (type)                 Output Shape              Param #   \n",
      "=================================================================\n",
      "embedding_76 (Embedding)     (None, 1, 50)             59150     \n",
      "_________________________________________________________________\n",
      "reshape_79 (Reshape)         (None, 50)                0         \n",
      "_________________________________________________________________\n",
      "dense_120 (Dense)            (None, 1183)              60333     \n",
      "=================================================================\n",
      "Total params: 119,483\n",
      "Trainable params: 119,483\n",
      "Non-trainable params: 0\n",
      "_________________________________________________________________\n",
      "None\n",
      "0 41271.354353666306\n",
      "1 39126.84872126579\n",
      "2 39288.243480443954\n",
      "3 39363.89977931976\n",
      "4 39432.42705821991\n",
      "5 39512.00381720066\n",
      "6 39608.39477741718\n",
      "7 39723.90177810192\n",
      "8 39852.40308690071\n",
      "9 39986.98528444767\n",
      "--- 205.20500421524048 seconds ---\n",
      "Running Skipgram (dim = 150)...\n",
      "_________________________________________________________________\n",
      "Layer (type)                 Output Shape              Param #   \n",
      "=================================================================\n",
      "embedding_77 (Embedding)     (None, 1, 150)            177450    \n",
      "_________________________________________________________________\n",
      "reshape_80 (Reshape)         (None, 150)               0         \n",
      "_________________________________________________________________\n",
      "dense_121 (Dense)            (None, 1183)              178633    \n",
      "=================================================================\n",
      "Total params: 356,083\n",
      "Trainable params: 356,083\n",
      "Non-trainable params: 0\n",
      "_________________________________________________________________\n",
      "None\n",
      "0 41222.66726255417\n",
      "1 38923.405826091766\n",
      "2 38988.34153223038\n",
      "3 39005.65851843357\n",
      "4 39038.850791573524\n",
      "5 39093.70693171024\n",
      "6 39156.1373565197\n",
      "7 39216.62908184528\n",
      "8 39267.45712161064\n",
      "9 39305.054830908775\n",
      "--- 407.30793595314026 seconds ---\n",
      "Running Skipgram (dim = 300)...\n",
      "_________________________________________________________________\n",
      "Layer (type)                 Output Shape              Param #   \n",
      "=================================================================\n",
      "embedding_78 (Embedding)     (None, 1, 300)            354900    \n",
      "_________________________________________________________________\n",
      "reshape_81 (Reshape)         (None, 300)               0         \n",
      "_________________________________________________________________\n",
      "dense_122 (Dense)            (None, 1183)              356083    \n",
      "=================================================================\n",
      "Total params: 710,983\n",
      "Trainable params: 710,983\n",
      "Non-trainable params: 0\n",
      "_________________________________________________________________\n",
      "None\n",
      "0 41159.688249111176\n",
      "1 38730.84321022034\n",
      "2 38713.53493261337\n",
      "3 38676.76873719692\n",
      "4 38648.03688561916\n",
      "5 38631.884226202965\n",
      "6 38611.77913284302\n",
      "7 38578.92516541481\n",
      "8 38533.39816391468\n",
      "9 38484.56494319439\n",
      "--- 34263.677209854126 seconds ---\n"
     ]
    }
   ],
   "source": [
    "################################################################################\n",
    "########################## 2. Using Skipgram model #############################\n",
    "################################################################################\n",
    "\n",
    "dims = [50, 150, 300]\n",
    "iterations = 10\n",
    "\n",
    "for dimension in dims:\n",
    "    print(\"Running Skipgram (dim = %s)...\"% dimension)\n",
    "    skipgram = getSkipgramModel(dimension)\n",
    "    print(skipgram.summary())\n",
    "    X, Y = generate_data_skipgram(corpus, window_size, V)\n",
    "\n",
    "    start_time = time.time()\n",
    "    for ite in range(iterations):\n",
    "        loss = 0.\n",
    "        for x, y in zip(X,Y):\n",
    "            loss += skipgram.train_on_batch(x, y)\n",
    "        print(ite, loss)\n",
    "    end_time = time.time()\n",
    "    \n",
    "    print(\"--- %s seconds ---\" % (end_time - start_time))\n"
   ]
  },
  {
   "cell_type": "code",
   "execution_count": 277,
   "metadata": {},
   "outputs": [],
   "source": [
    "#create CBOW model with additional dense layer\n"
   ]
  },
  {
   "cell_type": "code",
   "execution_count": 278,
   "metadata": {},
   "outputs": [],
   "source": [
    "#define loss function for CBOW + dense\n"
   ]
  },
  {
   "cell_type": "code",
   "execution_count": 279,
   "metadata": {},
   "outputs": [],
   "source": [
    "#train model for CBOW + dense\n"
   ]
  },
  {
   "cell_type": "code",
   "execution_count": null,
   "metadata": {},
   "outputs": [
    {
     "name": "stdout",
     "output_type": "stream",
     "text": [
      "Running Skipgram (dim = 50) with activation rule 'softmax'...\n"
     ]
    }
   ],
   "source": [
    "################################################################################\n",
    "################### 3. Using Skipgram model (extra layer) ######################\n",
    "################################################################################\n",
    "\n",
    "dims = [50, 150, 300]\n",
    "iterations = 5\n",
    "activation_rules = [\"softmax\", \"elu\", \"selu\", \"softplus\", \"softsign\", \"relu\", \"tanh\", \"sigmoid\", \"hard_sigmoid\", \"linear\"]\n",
    "for dimension in dims:\n",
    "    for activation_rule in activation_rules:\n",
    "        print(\"Running Skipgram (dim = %s) with activation rule '%s'...\"% (dimension, activation_rule))\n",
    "        try:\n",
    "            # set extra_layer = true\n",
    "            skipgram = getSkipgramModel(dimension, True, activation_rule)\n",
    "            X, Y = generate_data_skipgram(corpus, window_size, V)\n",
    "\n",
    "            start_time = time.time()\n",
    "            for ite in range(iterations):\n",
    "                loss = 0.\n",
    "                for x, y in zip(X,Y):\n",
    "                    loss += skipgram.train_on_batch(x, y)\n",
    "                print(ite, loss)\n",
    "            end_time = time.time()\n",
    "\n",
    "            print(\"--- %s seconds ---\" % (end_time - start_time))\n",
    "        except:\n",
    "            print(\"Error with\", activation_rule)\n",
    "        "
   ]
  },
  {
   "cell_type": "code",
   "execution_count": null,
   "metadata": {},
   "outputs": [],
   "source": [
    "#Implement your own analogy function\n",
    "\n"
   ]
  },
  {
   "cell_type": "markdown",
   "metadata": {},
   "source": [
    "Comparison performance:"
   ]
  },
  {
   "cell_type": "code",
   "execution_count": null,
   "metadata": {},
   "outputs": [],
   "source": [
    "#Visualization results trained word embeddings\n"
   ]
  },
  {
   "cell_type": "markdown",
   "metadata": {},
   "source": [
    "Interpretation results of the visualization"
   ]
  },
  {
   "cell_type": "markdown",
   "metadata": {},
   "source": [
    "Compare the results of the trained word embeddings with the word-word co-occurrence matrix"
   ]
  },
  {
   "cell_type": "markdown",
   "metadata": {},
   "source": [
    "**6. Discuss**\n",
    "\n",
    "Jorge > We can pick ideas from the paper and the book. Should be easy\n",
    "\n",
    "#### What are the main advantages of CBOW and Skipgram?\n",
    "\n",
    "\n",
    "#### What is the advantage of negative sampling?\n",
    "\n",
    "\n",
    "#### What are the main drawbacks of CBOW and Skipgram?\n",
    "\n",
    "\n"
   ]
  },
  {
   "cell_type": "markdown",
   "metadata": {},
   "source": [
    "7 Load pre-trained embeddings on large corpuses (see the pdf file). You only have to consider the word embeddings with an embedding size of 300\n",
    "\n",
    "    - Compare performance on the analogy task with your own trained embeddings from \"Alice in Wonderland\". You can limit yourself to the vocabulary of Alice in Wonderland. Visualize the pre-trained word embeddings and compare these with the results of your own trained word embeddings. \n"
   ]
  },
  {
   "cell_type": "code",
   "execution_count": null,
   "metadata": {},
   "outputs": [],
   "source": [
    "#load pretrained word embeddings of word2vec\n",
    "path_word2vec = \"your path /GoogleNews-vectors-negative300.bin\"\n",
    "word2vec = KeyedVectors.load_word2vec_format(path, binary=True)\n",
    "\n"
   ]
  },
  {
   "cell_type": "code",
   "execution_count": null,
   "metadata": {},
   "outputs": [],
   "source": [
    "#load pretraind word embeddings of Glove\n",
    "\n",
    "path = \"your path /glove.6B/glove.6B.300d_converted.txt\"\n",
    "\n",
    "#convert GloVe into word2vec format\n",
    "gensim.scripts.glove2word2vec.get_glove_info(path)\n",
    "gensim.scripts.glove2word2vec.glove2word2vec(path, \"glove_converted.txt\")\n",
    "\n",
    "glove = KeyedVectors.load_word2vec_format(path, binary=False)\n"
   ]
  },
  {
   "cell_type": "code",
   "execution_count": null,
   "metadata": {},
   "outputs": [],
   "source": [
    "#Visualize the pre-trained word embeddings\n"
   ]
  },
  {
   "cell_type": "markdown",
   "metadata": {},
   "source": [
    "Comparison performance with your own trained word embeddings"
   ]
  },
  {
   "cell_type": "code",
   "execution_count": null,
   "metadata": {},
   "outputs": [],
   "source": []
  }
 ],
 "metadata": {
  "kernelspec": {
   "display_name": "Python 3",
   "language": "python",
   "name": "python3"
  },
  "language_info": {
   "codemirror_mode": {
    "name": "ipython",
    "version": 3
   },
   "file_extension": ".py",
   "mimetype": "text/x-python",
   "name": "python",
   "nbconvert_exporter": "python",
   "pygments_lexer": "ipython3",
   "version": "3.6.2"
  }
 },
 "nbformat": 4,
 "nbformat_minor": 2
}
