{
  "nbformat": 4,
  "nbformat_minor": 0,
  "metadata": {
    "colab": {
      "name": "Assignment-3.2.ipynb",
      "version": "0.3.2",
      "views": {},
      "default_view": {},
      "provenance": [],
      "collapsed_sections": []
    },
    "kernelspec": {
      "display_name": "Python 3",
      "language": "python",
      "name": "python3"
    }
  },
  "cells": [
    {
      "metadata": {
        "id": "mSeDLC9FfcVi",
        "colab_type": "text"
      },
      "cell_type": "markdown",
      "source": [
        "# Assignment 3.2"
      ]
    },
    {
      "metadata": {
        "id": "DspptvqkfcVl",
        "colab_type": "text"
      },
      "cell_type": "markdown",
      "source": [
        "# Sequence classification model"
      ]
    },
    {
      "metadata": {
        "id": "q8bMqWC0gtMA",
        "colab_type": "code",
        "colab": {
          "autoexec": {
            "startup": false,
            "wait_interval": 0
          }
        }
      },
      "cell_type": "code",
      "source": [
        "# Preparing environment\n",
        "\n",
        "# Install all general packages\n",
        "!pip install numpy scipy scikit-learn matplotlib pandas pillow graphviz scikit-image\n",
        "\n",
        "# Graphviz system level\n",
        "!apt-get install -y graphviz\n",
        "\n",
        "# Keras \n",
        "!pip install keras"
      ],
      "execution_count": 0,
      "outputs": []
    },
    {
      "metadata": {
        "id": "9TZeFXFF8O5l",
        "colab_type": "code",
        "colab": {
          "autoexec": {
            "startup": false,
            "wait_interval": 0
          },
          "base_uri": "https://localhost:8080/",
          "height": 35
        },
        "outputId": "5b14b824-c081-4265-ba1c-0b1eb5f32f7d",
        "executionInfo": {
          "status": "ok",
          "timestamp": 1523796798181,
          "user_tz": -120,
          "elapsed": 2222,
          "user": {
            "displayName": "metalrules211",
            "photoUrl": "//lh5.googleusercontent.com/-eXRoLTRTB4M/AAAAAAAAAAI/AAAAAAAAABY/a8zMwRWnaDU/s50-c-k-no/photo.jpg",
            "userId": "110111763941813844581"
          }
        }
      },
      "cell_type": "code",
      "source": [
        "from keras.models import Model\n",
        "from keras.layers import Dense, Input, Dropout\n",
        "from keras.layers import LSTM, Lambda\n",
        "import tensorflow as tf\n",
        "from keras.models import Sequential\n",
        "from keras.preprocessing import sequence\n",
        "from keras.models import Sequential\n",
        "from keras.layers import Dense, Dropout, Activation\n",
        "from keras.layers import Embedding\n",
        "from keras.layers import LSTM\n",
        "from keras.layers import Conv1D, MaxPooling1D"
      ],
      "execution_count": 2,
      "outputs": [
        {
          "output_type": "stream",
          "text": [
            "Using TensorFlow backend.\n"
          ],
          "name": "stderr"
        }
      ]
    },
    {
      "metadata": {
        "id": "-nBFouWD3H3V",
        "colab_type": "text"
      },
      "cell_type": "markdown",
      "source": [
        "##Import files we need"
      ]
    },
    {
      "metadata": {
        "id": "dUDIcdjQ_2EI",
        "colab_type": "code",
        "colab": {
          "autoexec": {
            "startup": false,
            "wait_interval": 0
          },
          "resources": {
            "http://localhost:8080/nbextensions/google.colab/files.js": {
              "data": "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",
              "ok": true,
              "headers": [
                [
                  "content-type",
                  "application/javascript"
                ]
              ],
              "status": 200,
              "status_text": ""
            }
          },
          "base_uri": "https://localhost:8080/",
          "height": 142
        },
        "outputId": "dc7c4d66-b4d8-4b46-b3c3-4d6d643a9a48",
        "executionInfo": {
          "status": "ok",
          "timestamp": 1523796820407,
          "user_tz": -120,
          "elapsed": 18578,
          "user": {
            "displayName": "metalrules211",
            "photoUrl": "//lh5.googleusercontent.com/-eXRoLTRTB4M/AAAAAAAAAAI/AAAAAAAAABY/a8zMwRWnaDU/s50-c-k-no/photo.jpg",
            "userId": "110111763941813844581"
          }
        }
      },
      "cell_type": "code",
      "source": [
        "from google.colab import files   #upload  labeled/unlabeled1/2 data\n",
        "uploaded = files.upload()"
      ],
      "execution_count": 3,
      "outputs": [
        {
          "output_type": "display_data",
          "data": {
            "text/html": [
              "\n",
              "     <input type=\"file\" id=\"files-2ec11b82-af78-4661-9bcd-7c894929c0e2\" name=\"files[]\" multiple disabled />\n",
              "     <output id=\"result-2ec11b82-af78-4661-9bcd-7c894929c0e2\">\n",
              "      Upload widget is only available when the cell has been executed in the\n",
              "      current browser session. Please rerun this cell to enable.\n",
              "      </output>\n",
              "      <script src=\"/nbextensions/google.colab/files.js\"></script> "
            ],
            "text/plain": [
              "<IPython.core.display.HTML object>"
            ]
          },
          "metadata": {
            "tags": []
          }
        },
        {
          "output_type": "stream",
          "text": [
            "Saving example1_labelled.tsv to example1_labelled.tsv\n",
            "Saving example2_labelled.tsv to example2_labelled.tsv\n",
            "Saving example2_unlabelled.tsv to example2_unlabelled.tsv\n"
          ],
          "name": "stdout"
        }
      ]
    },
    {
      "metadata": {
        "id": "b-WtrCogCH-v",
        "colab_type": "code",
        "colab": {
          "autoexec": {
            "startup": false,
            "wait_interval": 0
          },
          "base_uri": "https://localhost:8080/",
          "height": 35
        },
        "outputId": "9335e432-5d88-4b7d-a460-330c5512af72",
        "executionInfo": {
          "status": "ok",
          "timestamp": 1523385688704,
          "user_tz": -120,
          "elapsed": 494,
          "user": {
            "displayName": "metalrules211",
            "photoUrl": "//lh5.googleusercontent.com/-eXRoLTRTB4M/AAAAAAAAAAI/AAAAAAAAABY/a8zMwRWnaDU/s50-c-k-no/photo.jpg",
            "userId": "110111763941813844581"
          }
        }
      },
      "cell_type": "code",
      "source": [
        "pwd #working directory"
      ],
      "execution_count": 138,
      "outputs": [
        {
          "output_type": "execute_result",
          "data": {
            "text/plain": [
              "'/content'"
            ]
          },
          "metadata": {
            "tags": []
          },
          "execution_count": 138
        }
      ]
    },
    {
      "metadata": {
        "id": "jpJU1VDAfcVu",
        "colab_type": "text"
      },
      "cell_type": "markdown",
      "source": [
        "## 1. Preprocess data"
      ]
    },
    {
      "metadata": {
        "id": "Ndri4B7AfcVw",
        "colab_type": "text"
      },
      "cell_type": "markdown",
      "source": [
        "#### Tasks:\n",
        "\n",
        "* Create word vocabulary index (use 10.000 most frequent words)\n",
        "* Preprocess training and validation set for model input. Use vocabulary index as lookup dictionary to transform raw text into integer sequences. You may use code from Practical 5."
      ]
    },
    {
      "metadata": {
        "id": "ATxEK5aD3Ql2",
        "colab_type": "text"
      },
      "cell_type": "markdown",
      "source": [
        "Here we preprocess the data of labeled/unlabeled files. Note that we imported the imdb file from keras, so no preprocessing for that was needed"
      ]
    },
    {
      "metadata": {
        "id": "Hfslb8V94Dz6",
        "colab_type": "code",
        "colab": {
          "autoexec": {
            "startup": false,
            "wait_interval": 0
          }
        }
      },
      "cell_type": "code",
      "source": [
        "#Imports\n",
        "import os\n",
        "import sys\n",
        "import numpy as np\n",
        "import pandas as pd\n",
        "pd.options.display.max_colwidth = 100\n",
        "import re\n",
        "import nltk\n",
        "from __future__ import print_function\n",
        "import os\n",
        "from keras import backend as K\n",
        "\n"
      ],
      "execution_count": 0,
      "outputs": []
    },
    {
      "metadata": {
        "id": "4bJw6VlsCScn",
        "colab_type": "code",
        "colab": {
          "autoexec": {
            "startup": false,
            "wait_interval": 0
          }
        }
      },
      "cell_type": "code",
      "source": [
        "from keras.datasets import imdb\n",
        "from keras.models import Sequential\n",
        "from keras.layers import Dense\n",
        "from keras.layers import LSTM,GRU\n",
        "from keras.layers import Bidirectional\n",
        "from keras.layers.convolutional import Conv1D\n",
        "from keras.layers.convolutional import MaxPooling1D\n",
        "from keras.layers.embeddings import Embedding\n",
        "from keras.preprocessing import sequence\n",
        "import matplotlib.pyplot as plt\n",
        "\n"
      ],
      "execution_count": 0,
      "outputs": []
    },
    {
      "metadata": {
        "id": "6dXItlZzACvw",
        "colab_type": "code",
        "colab": {
          "autoexec": {
            "startup": false,
            "wait_interval": 0
          }
        }
      },
      "cell_type": "code",
      "source": [
        "DATA_PATH = '/content'\n",
        "EMBEDDING_PATH = 'embedding'\n",
        "MODEL_PATH = 'model'\n",
        "\n",
        "train_data = pd.read_csv(os.path.join(DATA_PATH,\"example1_labelled.tsv\"), header=0, delimiter=\"\\t\")     \n",
        "valid_data = pd.read_csv(os.path.join(DATA_PATH,\"example2_unlabelled.tsv\"), header=0, delimiter=\"\\t\")"
      ],
      "execution_count": 0,
      "outputs": []
    },
    {
      "metadata": {
        "id": "3EeqliAH4G4j",
        "colab_type": "code",
        "colab": {
          "autoexec": {
            "startup": false,
            "wait_interval": 0
          }
        }
      },
      "cell_type": "code",
      "source": [
        "# function to clean raw text data\n",
        "\n",
        "def striphtml(html):\n",
        "    p = re.compile(r'<.*?>')\n",
        "    return p.sub('', html)\n",
        "\n",
        "def clean(s):\n",
        "    return re.sub(r'[^\\x00-\\x7f]', r'', s)\n"
      ],
      "execution_count": 0,
      "outputs": []
    },
    {
      "metadata": {
        "id": "pWCKPhqK4HYD",
        "colab_type": "code",
        "colab": {
          "autoexec": {
            "startup": false,
            "wait_interval": 0
          }
        }
      },
      "cell_type": "code",
      "source": [
        "# this  will create a cleaned version of labeled 1 file (training)\n",
        "\n",
        "train_docs = []\n",
        "train_labels = []\n",
        "for word, label in zip(train_data.review, train_data.label):    #we clean the labele1 data set (label and review)\n",
        "    \n",
        "    doc = clean(striphtml(word))\n",
        "    doc = doc.lower() \n",
        "    train_docs.append(doc)\n",
        "    train_labels.append(label)"
      ],
      "execution_count": 0,
      "outputs": []
    },
    {
      "metadata": {
        "id": "fnSy39PSDml6",
        "colab_type": "code",
        "colab": {
          "autoexec": {
            "startup": false,
            "wait_interval": 0
          },
          "base_uri": "https://localhost:8080/",
          "height": 135
        },
        "outputId": "c0eb960c-08b8-4b5b-8d75-d21eb15b2793",
        "executionInfo": {
          "status": "ok",
          "timestamp": 1523799580845,
          "user_tz": -120,
          "elapsed": 482,
          "user": {
            "displayName": "metalrules211",
            "photoUrl": "//lh5.googleusercontent.com/-eXRoLTRTB4M/AAAAAAAAAAI/AAAAAAAAABY/a8zMwRWnaDU/s50-c-k-no/photo.jpg",
            "userId": "110111763941813844581"
          }
        }
      },
      "cell_type": "code",
      "source": [
        "train_data[:3]   #Print the data"
      ],
      "execution_count": 76,
      "outputs": [
        {
          "output_type": "execute_result",
          "data": {
            "text/html": [
              "<div>\n",
              "<style scoped>\n",
              "    .dataframe tbody tr th:only-of-type {\n",
              "        vertical-align: middle;\n",
              "    }\n",
              "\n",
              "    .dataframe tbody tr th {\n",
              "        vertical-align: top;\n",
              "    }\n",
              "\n",
              "    .dataframe thead th {\n",
              "        text-align: right;\n",
              "    }\n",
              "</style>\n",
              "<table border=\"1\" class=\"dataframe\">\n",
              "  <thead>\n",
              "    <tr style=\"text-align: right;\">\n",
              "      <th></th>\n",
              "      <th>label</th>\n",
              "      <th>review</th>\n",
              "    </tr>\n",
              "  </thead>\n",
              "  <tbody>\n",
              "    <tr>\n",
              "      <th>0</th>\n",
              "      <td>camera</td>\n",
              "      <td>My husband bought this camera about 3 months ago and we continue to love it...wow, what an impro...</td>\n",
              "    </tr>\n",
              "    <tr>\n",
              "      <th>1</th>\n",
              "      <td>laptop</td>\n",
              "      <td>I got this notebook several months ago and I've had a great experience with it. I've had zero pr...</td>\n",
              "    </tr>\n",
              "    <tr>\n",
              "      <th>2</th>\n",
              "      <td>mobilephone</td>\n",
              "      <td>I have this phone for about 10 months.  The calls are clear in many places where I can't get my ...</td>\n",
              "    </tr>\n",
              "  </tbody>\n",
              "</table>\n",
              "</div>"
            ],
            "text/plain": [
              "         label  \\\n",
              "0       camera   \n",
              "1       laptop   \n",
              "2  mobilephone   \n",
              "\n",
              "                                                                                                review  \n",
              "0  My husband bought this camera about 3 months ago and we continue to love it...wow, what an impro...  \n",
              "1  I got this notebook several months ago and I've had a great experience with it. I've had zero pr...  \n",
              "2  I have this phone for about 10 months.  The calls are clear in many places where I can't get my ...  "
            ]
          },
          "metadata": {
            "tags": []
          },
          "execution_count": 76
        }
      ]
    },
    {
      "metadata": {
        "id": "l7_hwKJr4_wi",
        "colab_type": "code",
        "colab": {
          "autoexec": {
            "startup": false,
            "wait_interval": 0
          }
        }
      },
      "cell_type": "code",
      "source": [
        "# FUNCTION to tokenize documents into array list of words\n",
        "\n",
        "def tokenizeWords(text):\n",
        "    \n",
        "    tokens = re.sub(r\"[^a-z0-9]+\", \" \", text.lower()).split()\n",
        "    return [str(strtokens) for strtokens in tokens]\n",
        "\n",
        "# FUNCTION to create word-level vocabulary index\n",
        "\n",
        "def indexingVocabulary(array_of_words):\n",
        "\n",
        "    wordIndex = list(array_of_words)\n",
        "    \n",
        "    # we will later pad our sequence into fixed length, so\n",
        "    # we will use '0' as the integer index of pad \n",
        "    wordIndex.insert(0,'<pad>')\n",
        "    \n",
        "    # index for word token '<start>' as a starting sign of sequence. We won't use it for this model\n",
        "    # but for the latter model (sequence-to-sequence model)\n",
        "    wordIndex.append('<start>')\n",
        "    \n",
        "    # index for word token '<end>' as an ending sign of sequence. We won't use it for this model\n",
        "    # but for the latter model (sequence-to-sequence model)\n",
        "    wordIndex.append('<end>')\n",
        "    \n",
        "    # index for word token '<unk>' or unknown words (out of vocabulary words) \n",
        "    wordIndex.append('<unk>')\n",
        "    \n",
        "    vocab=dict([(i,wordIndex[i]) for i in range(len(wordIndex))])\n",
        "    \n",
        "    return vocab"
      ],
      "execution_count": 0,
      "outputs": []
    },
    {
      "metadata": {
        "id": "W6cXrD-o5Ncp",
        "colab_type": "code",
        "colab": {
          "autoexec": {
            "startup": false,
            "wait_interval": 0
          }
        }
      },
      "cell_type": "code",
      "source": [
        "# tokenize text from training set\n",
        "\n",
        "train_str_tokens = []\n",
        "all_tokens = []\n",
        "for i, text in enumerate(train_docs):\n",
        "    \n",
        "    # this will create our training corpus\n",
        "    train_str_tokens.append(tokenizeWords(text))\n",
        "    \n",
        "    # this will be our merged array to create vocabulary index\n",
        "    all_tokens.extend(tokenizeWords(text))"
      ],
      "execution_count": 0,
      "outputs": []
    },
    {
      "metadata": {
        "id": "C3fqqx-V5Nrx",
        "colab_type": "code",
        "colab": {
          "autoexec": {
            "startup": false,
            "wait_interval": 0
          }
        }
      },
      "cell_type": "code",
      "source": [
        "# use nltk to count word frequency and use 10.000 most frequent words to generate vocabulary index\n",
        "\n",
        "tf = nltk.FreqDist(all_tokens)\n",
        "common_words = tf.most_common(10000)\n",
        "arr_common = np.array(common_words)\n",
        "words = arr_common[:,0]\n",
        "\n",
        "# create vocabulary index\n",
        "\n",
        "# word- index pairs\n",
        "words_indices = indexingVocabulary(words)\n",
        "\n",
        "# index - word pairs\n",
        "indices_words = dict((v,k) for (k,v) in words_indices.items())"
      ],
      "execution_count": 0,
      "outputs": []
    },
    {
      "metadata": {
        "id": "nOpjqbKZJSlm",
        "colab_type": "code",
        "colab": {
          "autoexec": {
            "startup": false,
            "wait_interval": 0
          },
          "base_uri": "https://localhost:8080/",
          "height": 3839
        },
        "outputId": "d8d7779d-b8d3-4b7c-c5e6-f3be061b9364",
        "executionInfo": {
          "status": "ok",
          "timestamp": 1523799587881,
          "user_tz": -120,
          "elapsed": 640,
          "user": {
            "displayName": "metalrules211",
            "photoUrl": "//lh5.googleusercontent.com/-eXRoLTRTB4M/AAAAAAAAAAI/AAAAAAAAABY/a8zMwRWnaDU/s50-c-k-no/photo.jpg",
            "userId": "110111763941813844581"
          }
        }
      },
      "cell_type": "code",
      "source": [
        "indices_words"
      ],
      "execution_count": 80,
      "outputs": [
        {
          "output_type": "execute_result",
          "data": {
            "text/plain": [
              "{'10': 167,\n",
              " '2': 149,\n",
              " '200': 198,\n",
              " '2100uz': 92,\n",
              " '3': 69,\n",
              " '<end>': 213,\n",
              " '<pad>': 0,\n",
              " '<start>': 212,\n",
              " '<unk>': 214,\n",
              " 'a': 4,\n",
              " 'about': 16,\n",
              " 'absolutely': 154,\n",
              " 'added': 159,\n",
              " 'admittedly': 85,\n",
              " 'aging': 89,\n",
              " 'ago': 21,\n",
              " 'all': 135,\n",
              " 'am': 152,\n",
              " 'an': 37,\n",
              " 'and': 3,\n",
              " 'any': 157,\n",
              " 'anywhere': 98,\n",
              " 'are': 169,\n",
              " 'as': 31,\n",
              " 'at': 83,\n",
              " 'authorized': 192,\n",
              " 'basic': 164,\n",
              " 'battery': 118,\n",
              " 'be': 59,\n",
              " 'before': 209,\n",
              " 'best': 210,\n",
              " 'booting': 131,\n",
              " 'bought': 35,\n",
              " 'but': 39,\n",
              " 'by': 141,\n",
              " 'c': 91,\n",
              " 'called': 190,\n",
              " 'calls': 168,\n",
              " 'camera': 36,\n",
              " 'can': 174,\n",
              " 'canon': 77,\n",
              " 'casio': 24,\n",
              " 'change': 126,\n",
              " 'changing': 142,\n",
              " 'charge': 200,\n",
              " 'clear': 170,\n",
              " 'computer': 33,\n",
              " 'concrete': 180,\n",
              " 'continue': 70,\n",
              " 'contract': 202,\n",
              " 'could': 58,\n",
              " 'couple': 205,\n",
              " 'course': 93,\n",
              " 'cradle': 115,\n",
              " 'days': 206,\n",
              " 'deluxe': 150,\n",
              " 'didn': 112,\n",
              " 'digital': 78,\n",
              " 'dried': 204,\n",
              " 'driveway': 181,\n",
              " 'dropped': 62,\n",
              " 'easy': 81,\n",
              " 'elph': 79,\n",
              " 'especially': 165,\n",
              " 'even': 26,\n",
              " 'ever': 211,\n",
              " 'everywhere': 99,\n",
              " 'experience': 123,\n",
              " 'extra': 117,\n",
              " 'fast': 57,\n",
              " 'feels': 43,\n",
              " 'few': 63,\n",
              " 'for': 8,\n",
              " 'from': 185,\n",
              " 'game': 153,\n",
              " 'get': 175,\n",
              " 'gets': 42,\n",
              " 'go': 55,\n",
              " 'good': 14,\n",
              " 'got': 46,\n",
              " 'great': 48,\n",
              " 'had': 15,\n",
              " 'handling': 156,\n",
              " 'happy': 107,\n",
              " 'has': 101,\n",
              " 'have': 12,\n",
              " 'haven': 119,\n",
              " 'help': 140,\n",
              " 'here': 151,\n",
              " 'how': 45,\n",
              " 'however': 137,\n",
              " 'huge': 102,\n",
              " 'husband': 68,\n",
              " 'i': 1,\n",
              " 'if': 161,\n",
              " 'impact': 186,\n",
              " 'improvement': 74,\n",
              " 'in': 60,\n",
              " 'incredibly': 105,\n",
              " 'is': 10,\n",
              " 'it': 2,\n",
              " 'just': 44,\n",
              " 'later': 207,\n",
              " 'lcd': 103,\n",
              " 'like': 41,\n",
              " 'little': 95,\n",
              " 'local': 191,\n",
              " 'looked': 82,\n",
              " 'lot': 100,\n",
              " 'love': 71,\n",
              " 'm': 28,\n",
              " 'manual': 84,\n",
              " 'many': 171,\n",
              " 'me': 66,\n",
              " 'mine': 127,\n",
              " 'months': 20,\n",
              " 'much': 114,\n",
              " 'my': 19,\n",
              " 'need': 163,\n",
              " 'needed': 120,\n",
              " 'negative': 146,\n",
              " 'never': 38,\n",
              " 'new': 67,\n",
              " 'no': 155,\n",
              " 'not': 40,\n",
              " 'notebook': 47,\n",
              " 'numerous': 178,\n",
              " 'of': 27,\n",
              " 'old': 76,\n",
              " 'oly': 90,\n",
              " 'on': 18,\n",
              " 'once': 134,\n",
              " 'one': 52,\n",
              " 'only': 145,\n",
              " 'open': 203,\n",
              " 'other': 61,\n",
              " 'our': 23,\n",
              " 'over': 75,\n",
              " 'phone': 34,\n",
              " 'picture': 108,\n",
              " 'places': 172,\n",
              " 'pleased': 50,\n",
              " 'pocketable': 94,\n",
              " 'pool': 188,\n",
              " 'price': 160,\n",
              " 'problem': 182,\n",
              " 'problems': 49,\n",
              " 'quality': 109,\n",
              " 'quite': 110,\n",
              " 'ready': 136,\n",
              " 'realize': 113,\n",
              " 'recharging': 116,\n",
              " 'repair': 193,\n",
              " 'repaired': 196,\n",
              " 'responsive': 106,\n",
              " 'runs': 56,\n",
              " 's': 13,\n",
              " 'save': 197,\n",
              " 'say': 147,\n",
              " 'scratches': 184,\n",
              " 'service': 176,\n",
              " 'settings': 144,\n",
              " 'several': 122,\n",
              " 'shop': 194,\n",
              " 'sign': 201,\n",
              " 'sims': 148,\n",
              " 'so': 80,\n",
              " 'soft': 87,\n",
              " 'software': 158,\n",
              " 'some': 143,\n",
              " 'something': 139,\n",
              " 'spot': 88,\n",
              " 'still': 86,\n",
              " 'stopped': 189,\n",
              " 'student': 166,\n",
              " 'sturdy': 104,\n",
              " 'subcompact': 111,\n",
              " 'sure': 138,\n",
              " 'sweet': 129,\n",
              " 't': 29,\n",
              " 'taken': 97,\n",
              " 'takes': 128,\n",
              " 'than': 183,\n",
              " 'that': 54,\n",
              " 'the': 5,\n",
              " 'they': 65,\n",
              " 'thing': 53,\n",
              " 'this': 7,\n",
              " 'time': 130,\n",
              " 'times': 179,\n",
              " 'to': 6,\n",
              " 'told': 195,\n",
              " 'turn': 133,\n",
              " 'up': 32,\n",
              " 'use': 25,\n",
              " 've': 11,\n",
              " 'very': 17,\n",
              " 'vista': 125,\n",
              " 'wanted': 199,\n",
              " 'was': 208,\n",
              " 'we': 22,\n",
              " 'weeks': 187,\n",
              " 'well': 51,\n",
              " 'what': 73,\n",
              " 'when': 132,\n",
              " 'where': 173,\n",
              " 'with': 9,\n",
              " 'work': 177,\n",
              " 'workhorse': 96,\n",
              " 'working': 64,\n",
              " 'would': 30,\n",
              " 'wow': 72,\n",
              " 'yet': 121,\n",
              " 'you': 162,\n",
              " 'zero': 124}"
            ]
          },
          "metadata": {
            "tags": []
          },
          "execution_count": 80
        }
      ]
    },
    {
      "metadata": {
        "id": "kc2zzfseZ88p",
        "colab_type": "code",
        "colab": {
          "autoexec": {
            "startup": false,
            "wait_interval": 0
          }
        }
      },
      "cell_type": "code",
      "source": [
        "vocab = []\n",
        "imdbindex = imdb.get_word_index()\n",
        "\n",
        "for key, word in indices_words.items():\n",
        "  imdbindex.get(word)\n",
        "  vocab.append(key)\n",
        "  \n",
        "\n",
        "# imdbindex.get(\"and\")"
      ],
      "execution_count": 0,
      "outputs": []
    },
    {
      "metadata": {
        "id": "Qbp0N9_w7Mb_",
        "colab_type": "code",
        "colab": {
          "autoexec": {
            "startup": false,
            "wait_interval": 0
          }
        }
      },
      "cell_type": "code",
      "source": [
        "# integer format of training input \n",
        "train_int_input = []\n",
        "for i, text in enumerate(train_str_tokens):\n",
        "    int_tokens = [indices_words[w] if w in indices_words.keys() else indices_words['<unk>'] for w in text ]\n",
        "    train_int_input.append(int_tokens)"
      ],
      "execution_count": 0,
      "outputs": []
    },
    {
      "metadata": {
        "id": "fKj9nUyVbzZu",
        "colab_type": "code",
        "colab": {
          "autoexec": {
            "startup": false,
            "wait_interval": 0
          }
        }
      },
      "cell_type": "code",
      "source": [
        "#Labeled 1 data set-------------------\n",
        "amazon_reviews = []\n",
        "for review in train_data.review:    \n",
        "    review_indices = []   \n",
        "    for word in review:\n",
        "      index = imdb.get_word_index().get(word)\n",
        "      if index == None:\n",
        "        index = 0\n",
        "      review_indices.append(index)  \n",
        "    amazon_reviews.append(review_indices)"
      ],
      "execution_count": 0,
      "outputs": []
    },
    {
      "metadata": {
        "id": "KlEj3sgFf3Ug",
        "colab_type": "code",
        "colab": {
          "autoexec": {
            "startup": false,
            "wait_interval": 0
          }
        }
      },
      "cell_type": "code",
      "source": [
        "#Keep the first 500 words\n",
        "amazon_reviews[0] = amazon_reviews[0][:500]   # We have 3 sets of sentences (reviews)\n",
        "amazon_reviews[1] = amazon_reviews[1][:500]\n",
        "amazon_reviews[2] = amazon_reviews[2][:500]"
      ],
      "execution_count": 0,
      "outputs": []
    },
    {
      "metadata": {
        "id": "hwcL0umihX3K",
        "colab_type": "text"
      },
      "cell_type": "markdown",
      "source": [
        "#Preprocessing for unlabbeled data set"
      ]
    },
    {
      "metadata": {
        "id": "pQb9lDI1hXJ_",
        "colab_type": "code",
        "colab": {
          "autoexec": {
            "startup": false,
            "wait_interval": 0
          }
        }
      },
      "cell_type": "code",
      "source": [
        "# this  will create a cleaned version of validation set (example 2 unlabelled)\n",
        "# we also need to extract labels from attribute 'id'\n",
        "\n",
        "valid_docs =[]\n",
        "valid_labels = []\n",
        "i=0\n",
        "for word in valid_data.review:    \n",
        "    \n",
        "    doc = clean(striphtml(word))\n",
        "    doc = doc.lower() \n",
        "    valid_docs.append(doc)"
      ],
      "execution_count": 0,
      "outputs": []
    },
    {
      "metadata": {
        "id": "-_lwvGk7hXeA",
        "colab_type": "code",
        "colab": {
          "autoexec": {
            "startup": false,
            "wait_interval": 0
          }
        }
      },
      "cell_type": "code",
      "source": [
        "# FUNCTION to tokenize documents into array list of words\n",
        "\n",
        "def tokenizeWords(text):\n",
        "    \n",
        "    tokens = re.sub(r\"[^a-z0-9]+\", \" \", text.lower()).split()\n",
        "    return [str(strtokens) for strtokens in tokens]\n",
        "\n",
        "# FUNCTION to create word-level vocabulary index\n",
        "\n",
        "def indexingVocabulary(array_of_words):\n",
        "\n",
        "    wordIndex = list(array_of_words)\n",
        "    \n",
        "    # we will later pad our sequence into fixed length, so\n",
        "    # we will use '0' as the integer index of pad \n",
        "    wordIndex.insert(0,'<pad>')\n",
        "    \n",
        "    # index for word token '<start>' as a starting sign of sequence. We won't use it for this model\n",
        "    # but for the latter model (sequence-to-sequence model)\n",
        "    wordIndex.append('<start>')\n",
        "    \n",
        "    # index for word token '<end>' as an ending sign of sequence. We won't use it for this model\n",
        "    # but for the latter model (sequence-to-sequence model)\n",
        "    wordIndex.append('<end>')\n",
        "    \n",
        "    # index for word token '<unk>' or unknown words (out of vocabulary words) \n",
        "    wordIndex.append('<unk>')\n",
        "    \n",
        "    vocab=dict([(i,wordIndex[i]) for i in range(len(wordIndex))])\n",
        "    \n",
        "    return vocab"
      ],
      "execution_count": 0,
      "outputs": []
    },
    {
      "metadata": {
        "id": "x6Ah25ZchXbv",
        "colab_type": "code",
        "colab": {
          "autoexec": {
            "startup": false,
            "wait_interval": 0
          }
        }
      },
      "cell_type": "code",
      "source": [
        "valid_str_tokens = []\n",
        "all_tokens = []\n",
        "for i, text in enumerate(valid_docs):\n",
        "    \n",
        "    # this will create our training corpus\n",
        "    valid_str_tokens.append(tokenizeWords(text))\n",
        "    \n",
        "    # this will be our merged array to create vocabulary index\n",
        "    all_tokens.extend(tokenizeWords(text))"
      ],
      "execution_count": 0,
      "outputs": []
    },
    {
      "metadata": {
        "id": "cxGX14Cv7MiB",
        "colab_type": "code",
        "colab": {
          "autoexec": {
            "startup": false,
            "wait_interval": 0
          }
        }
      },
      "cell_type": "code",
      "source": [
        "# integer format of test validation input \n",
        "valid_int_input = []\n",
        "for i, text in enumerate(valid_str_tokens):\n",
        "    int_tokens = [indices_words[w] if w in indices_words.keys() else indices_words['<unk>'] for w in text ]\n",
        "    valid_int_input.append(int_tokens)"
      ],
      "execution_count": 0,
      "outputs": []
    },
    {
      "metadata": {
        "id": "JfAE9oBDhXZg",
        "colab_type": "code",
        "colab": {
          "autoexec": {
            "startup": false,
            "wait_interval": 0
          }
        }
      },
      "cell_type": "code",
      "source": [
        "# use nltk to count word frequency and use 10.000 most frequent words to generate vocabulary index\n",
        "\n",
        "tf = nltk.FreqDist(all_tokens)\n",
        "common_words = tf.most_common(10000)\n",
        "arr_common = np.array(common_words)\n",
        "words = arr_common[:,0]\n",
        "\n",
        "# create vocabulary index\n",
        "\n",
        "# word- index pairs\n",
        "words_indices = indexingVocabulary(words)\n",
        "\n",
        "# index - word pairs\n",
        "indices_words = dict((v,k) for (k,v) in words_indices.items())"
      ],
      "execution_count": 0,
      "outputs": []
    },
    {
      "metadata": {
        "id": "hE_7n8uUhXW2",
        "colab_type": "code",
        "colab": {
          "autoexec": {
            "startup": false,
            "wait_interval": 0
          }
        }
      },
      "cell_type": "code",
      "source": [
        "#Unlabeled 1 data set\n",
        "amazon_reviews_valid = []\n",
        "for review in valid_data.review:    \n",
        "    review_indices = []   \n",
        "    for word in review:\n",
        "      index = imdb.get_word_index().get(word)\n",
        "      if index == None:\n",
        "        index = 0\n",
        "      review_indices.append(index)  \n",
        "    amazon_reviews_valid.append(review_indices)"
      ],
      "execution_count": 0,
      "outputs": []
    },
    {
      "metadata": {
        "id": "rHjZ3YtshXUg",
        "colab_type": "code",
        "colab": {
          "autoexec": {
            "startup": false,
            "wait_interval": 0
          }
        }
      },
      "cell_type": "code",
      "source": [
        "amazon_reviews_valid[0] = amazon_reviews_valid[0][:500]\n",
        "amazon_reviews_valid[1] = amazon_reviews_valid[1][:500]\n",
        "amazon_reviews_valid[2] = amazon_reviews_valid[2][:500]\n",
        "amazon_reviews_valid[3] = amazon_reviews_valid[3][:500]\n",
        "amazon_reviews_valid[4] = amazon_reviews_valid[4][:500]\n",
        "amazon_reviews_valid[5] = amazon_reviews_valid[5][:500]\n",
        "amazon_reviews_valid[6] = amazon_reviews_valid[6][:500]"
      ],
      "execution_count": 0,
      "outputs": []
    },
    {
      "metadata": {
        "id": "ti-uljIdcsmI",
        "colab_type": "code",
        "colab": {
          "autoexec": {
            "startup": false,
            "wait_interval": 0
          },
          "base_uri": "https://localhost:8080/",
          "height": 55
        },
        "outputId": "245437dc-8936-4e07-985b-084e7e196565",
        "executionInfo": {
          "status": "ok",
          "timestamp": 1523800044590,
          "user_tz": -120,
          "elapsed": 643,
          "user": {
            "displayName": "metalrules211",
            "photoUrl": "//lh5.googleusercontent.com/-eXRoLTRTB4M/AAAAAAAAAAI/AAAAAAAAABY/a8zMwRWnaDU/s50-c-k-no/photo.jpg",
            "userId": "110111763941813844581"
          }
        }
      },
      "cell_type": "code",
      "source": [
        "train_data.review[0]"
      ],
      "execution_count": 92,
      "outputs": [
        {
          "output_type": "execute_result",
          "data": {
            "text/plain": [
              "\"My husband bought this camera about 3 months ago and we continue to love it...wow, what an improvement over our old Canon Digital Elph. The Casio is SO easy to use: I've never even looked at the manual. Admittedly, I still have a soft spot for my (aging) Oly C-2100UZ but of course it is not pocketable like this Casio. This little workhorse gets taken anywhere and everywhere and gets a lot of use!The Casio has a HUGE LCD and it feels very sturdy. It's incredibly responsive and just feels good! I'm happy with the picture quality (quite good for a subcompact) and I didn't realize how much I would like the cradle for recharging the camera. We bought an extra battery, and haven't even needed to use it yet!\""
            ]
          },
          "metadata": {
            "tags": []
          },
          "execution_count": 92
        }
      ]
    },
    {
      "metadata": {
        "id": "gKH6Hp1ZFb13",
        "colab_type": "code",
        "colab": {
          "autoexec": {
            "startup": false,
            "wait_interval": 0
          },
          "base_uri": "https://localhost:8080/",
          "height": 8906
        },
        "outputId": "0d557664-8b7c-4645-9a16-cc49c4c2beec",
        "executionInfo": {
          "status": "ok",
          "timestamp": 1523800047601,
          "user_tz": -120,
          "elapsed": 590,
          "user": {
            "displayName": "metalrules211",
            "photoUrl": "//lh5.googleusercontent.com/-eXRoLTRTB4M/AAAAAAAAAAI/AAAAAAAAABY/a8zMwRWnaDU/s50-c-k-no/photo.jpg",
            "userId": "110111763941813844581"
          }
        }
      },
      "cell_type": "code",
      "source": [
        "amazon_reviews[2]  "
      ],
      "execution_count": 93,
      "outputs": [
        {
          "output_type": "execute_result",
          "data": {
            "text/plain": [
              "[0,\n",
              " 0,\n",
              " 2020,\n",
              " 3,\n",
              " 1961,\n",
              " 960,\n",
              " 0,\n",
              " 827,\n",
              " 2020,\n",
              " 10,\n",
              " 587,\n",
              " 0,\n",
              " 1654,\n",
              " 2020,\n",
              " 1601,\n",
              " 3360,\n",
              " 960,\n",
              " 0,\n",
              " 1206,\n",
              " 1601,\n",
              " 1476,\n",
              " 0,\n",
              " 3,\n",
              " 500,\n",
              " 1601,\n",
              " 1203,\n",
              " 827,\n",
              " 0,\n",
              " 297,\n",
              " 2238,\n",
              " 0,\n",
              " 1980,\n",
              " 1601,\n",
              " 3360,\n",
              " 827,\n",
              " 2020,\n",
              " 587,\n",
              " 0,\n",
              " 0,\n",
              " 0,\n",
              " 0,\n",
              " 2020,\n",
              " 960,\n",
              " 0,\n",
              " 1145,\n",
              " 3,\n",
              " 2011,\n",
              " 2011,\n",
              " 587,\n",
              " 0,\n",
              " 3,\n",
              " 1476,\n",
              " 960,\n",
              " 0,\n",
              " 1145,\n",
              " 2011,\n",
              " 960,\n",
              " 3,\n",
              " 1476,\n",
              " 0,\n",
              " 10,\n",
              " 3360,\n",
              " 0,\n",
              " 1980,\n",
              " 3,\n",
              " 3360,\n",
              " 5132,\n",
              " 0,\n",
              " 1654,\n",
              " 2011,\n",
              " 3,\n",
              " 1145,\n",
              " 960,\n",
              " 587,\n",
              " 0,\n",
              " 1989,\n",
              " 2020,\n",
              " 960,\n",
              " 1476,\n",
              " 960,\n",
              " 0,\n",
              " 0,\n",
              " 0,\n",
              " 1145,\n",
              " 3,\n",
              " 3360,\n",
              " 755,\n",
              " 827,\n",
              " 0,\n",
              " 1328,\n",
              " 960,\n",
              " 827,\n",
              " 0,\n",
              " 1980,\n",
              " 5132,\n",
              " 0,\n",
              " 1601,\n",
              " 827,\n",
              " 2020,\n",
              " 960,\n",
              " 1476,\n",
              " 0,\n",
              " 587,\n",
              " 960,\n",
              " 1476,\n",
              " 1961,\n",
              " 10,\n",
              " 1145,\n",
              " 960,\n",
              " 0,\n",
              " 827,\n",
              " 1601,\n",
              " 0,\n",
              " 1989,\n",
              " 1601,\n",
              " 1476,\n",
              " 2292,\n",
              " 0,\n",
              " 0,\n",
              " 0,\n",
              " 0,\n",
              " 2020,\n",
              " 3,\n",
              " 1961,\n",
              " 960,\n",
              " 0,\n",
              " 1092,\n",
              " 1476,\n",
              " 1601,\n",
              " 1654,\n",
              " 1654,\n",
              " 960,\n",
              " 1092,\n",
              " 0,\n",
              " 10,\n",
              " 827,\n",
              " 0,\n",
              " 3360,\n",
              " 1203,\n",
              " 1980,\n",
              " 960,\n",
              " 1476,\n",
              " 1601,\n",
              " 1203,\n",
              " 587,\n",
              " 0,\n",
              " 827,\n",
              " 10,\n",
              " 1980,\n",
              " 960,\n",
              " 587,\n",
              " 0,\n",
              " 1601,\n",
              " 3360,\n",
              " 0,\n",
              " 1601,\n",
              " 1203,\n",
              " 1476,\n",
              " 0,\n",
              " 1145,\n",
              " 1601,\n",
              " 3360,\n",
              " 1145,\n",
              " 1476,\n",
              " 960,\n",
              " 827,\n",
              " 960,\n",
              " 0,\n",
              " 1092,\n",
              " 1476,\n",
              " 10,\n",
              " 1961,\n",
              " 960,\n",
              " 1989,\n",
              " 3,\n",
              " 5132,\n",
              " 0,\n",
              " 3,\n",
              " 3360,\n",
              " 1092,\n",
              " 0,\n",
              " 3360,\n",
              " 960,\n",
              " 1961,\n",
              " 960,\n",
              " 1476,\n",
              " 0,\n",
              " 2020,\n",
              " 3,\n",
              " 1092,\n",
              " 0,\n",
              " 3,\n",
              " 0,\n",
              " 1654,\n",
              " 1476,\n",
              " 1601,\n",
              " 500,\n",
              " 2011,\n",
              " 960,\n",
              " 1980,\n",
              " 0,\n",
              " 1601,\n",
              " 827,\n",
              " 2020,\n",
              " 960,\n",
              " 1476,\n",
              " 0,\n",
              " 827,\n",
              " 2020,\n",
              " 3,\n",
              " 3360,\n",
              " 0,\n",
              " 3,\n",
              " 0,\n",
              " 1206,\n",
              " 960,\n",
              " 1989,\n",
              " 0,\n",
              " 587,\n",
              " 1145,\n",
              " 1476,\n",
              " 3,\n",
              " 827,\n",
              " 1145,\n",
              " 2020,\n",
              " 960,\n",
              " 587,\n",
              " 0,\n",
              " 1206,\n",
              " 1476,\n",
              " 1601,\n",
              " 1980,\n",
              " 0,\n",
              " 827,\n",
              " 2020,\n",
              " 960,\n",
              " 0,\n",
              " 10,\n",
              " 1980,\n",
              " 1654,\n",
              " 3,\n",
              " 1145,\n",
              " 827,\n",
              " 0,\n",
              " 0,\n",
              " 0,\n",
              " 0,\n",
              " 0,\n",
              " 1206,\n",
              " 960,\n",
              " 1989,\n",
              " 0,\n",
              " 1989,\n",
              " 960,\n",
              " 960,\n",
              " 2292,\n",
              " 587,\n",
              " 0,\n",
              " 3,\n",
              " 1328,\n",
              " 1601,\n",
              " 0,\n",
              " 0,\n",
              " 0,\n",
              " 960,\n",
              " 1961,\n",
              " 960,\n",
              " 3360,\n",
              " 0,\n",
              " 1092,\n",
              " 1476,\n",
              " 1601,\n",
              " 1654,\n",
              " 1654,\n",
              " 960,\n",
              " 1092,\n",
              " 0,\n",
              " 10,\n",
              " 827,\n",
              " 0,\n",
              " 10,\n",
              " 3360,\n",
              " 0,\n",
              " 1601,\n",
              " 1203,\n",
              " 1476,\n",
              " 0,\n",
              " 1654,\n",
              " 1601,\n",
              " 1601,\n",
              " 2011,\n",
              " 0,\n",
              " 0,\n",
              " 0,\n",
              " 0,\n",
              " 587,\n",
              " 0,\n",
              " 10,\n",
              " 827,\n",
              " 0,\n",
              " 587,\n",
              " 827,\n",
              " 1601,\n",
              " 1654,\n",
              " 1654,\n",
              " 960,\n",
              " 1092,\n",
              " 0,\n",
              " 1989,\n",
              " 1601,\n",
              " 1476,\n",
              " 2292,\n",
              " 10,\n",
              " 3360,\n",
              " 1328,\n",
              " 0,\n",
              " 0,\n",
              " 0,\n",
              " 0,\n",
              " 1145,\n",
              " 3,\n",
              " 2011,\n",
              " 2011,\n",
              " 960,\n",
              " 1092,\n",
              " 0,\n",
              " 3,\n",
              " 0,\n",
              " 2011,\n",
              " 1601,\n",
              " 1145,\n",
              " 3,\n",
              " 2011,\n",
              " 0,\n",
              " 3,\n",
              " 1203,\n",
              " 827,\n",
              " 2020,\n",
              " 1601,\n",
              " 1476,\n",
              " 10,\n",
              " 4540,\n",
              " 960,\n",
              " 1092,\n",
              " 0,\n",
              " 1476,\n",
              " 960,\n",
              " 1654,\n",
              " 3,\n",
              " 10,\n",
              " 1476,\n",
              " 0,\n",
              " 587,\n",
              " 2020,\n",
              " 1601,\n",
              " 1654,\n",
              " 0,\n",
              " 3,\n",
              " 3360,\n",
              " 1092,\n",
              " 0,\n",
              " 827,\n",
              " 2020,\n",
              " 960,\n",
              " 5132,\n",
              " 0,\n",
              " 827,\n",
              " 1601,\n",
              " 2011,\n",
              " 1092,\n",
              " 0,\n",
              " 1980,\n",
              " 960,\n",
              " 0,\n",
              " 10,\n",
              " 827,\n",
              " 0,\n",
              " 1145,\n",
              " 1601,\n",
              " 1203,\n",
              " 2011,\n",
              " 1092,\n",
              " 0,\n",
              " 3360,\n",
              " 1601,\n",
              " 827,\n",
              " 0,\n",
              " 500,\n",
              " 960,\n",
              " 0,\n",
              " 1476,\n",
              " 960,\n",
              " 1654,\n",
              " 3,\n",
              " 10,\n",
              " 1476,\n",
              " 960,\n",
              " 1092,\n",
              " 0,\n",
              " 0,\n",
              " 0,\n",
              " 0,\n",
              " 1601,\n",
              " 0,\n",
              " 587,\n",
              " 3,\n",
              " 1961,\n",
              " 960,\n",
              " 0,\n",
              " 827,\n",
              " 2020,\n",
              " 960,\n",
              " 0,\n",
              " 0,\n",
              " 238,\n",
              " 2238,\n",
              " 2238,\n",
              " 0,\n",
              " 827,\n",
              " 2020,\n",
              " 960,\n",
              " 5132,\n",
              " 0,\n",
              " 1989,\n",
              " 3,\n",
              " 3360,\n",
              " 827,\n",
              " 960,\n",
              " 1092,\n",
              " 0,\n",
              " 827,\n",
              " 1601,\n",
              " 0,\n",
              " 1145,\n",
              " 2020,\n",
              " 3,\n",
              " 1476,\n",
              " 1328,\n",
              " 960,\n",
              " 0,\n",
              " 1980,\n",
              " 960,\n",
              " 0,\n",
              " 1206,\n",
              " 1601,\n",
              " 1476,\n",
              " 0,\n",
              " 3,\n",
              " 0,\n",
              " 3360,\n",
              " 960,\n",
              " 1989,\n",
              " 0,\n",
              " 1654,\n",
              " 2020,\n",
              " 1601,\n",
              " 3360,\n",
              " 960,\n",
              " 0,\n",
              " 3,\n",
              " 3360,\n",
              " 1092,\n",
              " 0,\n",
              " 587,\n",
              " 10,\n",
              " 1328,\n",
              " 3360,\n",
              " 0,\n",
              " 1203,\n",
              " 1654,\n",
              " 0,\n",
              " 827,\n",
              " 1601,\n",
              " 0,\n",
              " 3,\n",
              " 0,\n",
              " 3360,\n",
              " 960,\n",
              " 1989,\n",
              " 0,\n",
              " 1145,\n",
              " 1601,\n",
              " 3360,\n",
              " 827,\n",
              " 1476,\n",
              " 3,\n",
              " 1145,\n",
              " 827,\n",
              " 0,\n",
              " 0,\n",
              " 0,\n",
              " 0,\n",
              " 1601,\n",
              " 1654,\n",
              " 960,\n",
              " 3360,\n",
              " 0,\n",
              " 10,\n",
              " 827,\n",
              " 0]"
            ]
          },
          "metadata": {
            "tags": []
          },
          "execution_count": 93
        }
      ]
    },
    {
      "metadata": {
        "id": "dDNE668xF44R",
        "colab_type": "text"
      },
      "cell_type": "markdown",
      "source": [
        "#Preprocessing done"
      ]
    },
    {
      "metadata": {
        "id": "6lsnRdQzfcV8",
        "colab_type": "text"
      },
      "cell_type": "markdown",
      "source": [
        "## 2. Sequence classification model"
      ]
    },
    {
      "metadata": {
        "id": "J6BJ-e8cfcV8",
        "colab_type": "text"
      },
      "cell_type": "markdown",
      "source": [
        "#### Tasks: \n",
        "\n",
        "* Create a RNN model to classify sequence of words on a binary classification task\n",
        "* Compare four (4) different gate memory units\n",
        "* Plot model performance (loss and accuracy) of these 4 models\n",
        "* Present the performance (loss and accuarcy) of these 4 models in a comparison table"
      ]
    },
    {
      "metadata": {
        "id": "InIcWl6hfcV9",
        "colab_type": "code",
        "colab": {
          "autoexec": {
            "startup": false,
            "wait_interval": 0
          }
        }
      },
      "cell_type": "code",
      "source": [
        "#Since the data set is quite large we tried with a realtive small number of epochs. 3 seemed to give the best results with relatively good time\n",
        "\n",
        "num_epochs = 3\n",
        "batch_size = 64\n",
        "embedding_vector_length = 32"
      ],
      "execution_count": 0,
      "outputs": []
    },
    {
      "metadata": {
        "id": "EZt187GLkq9x",
        "colab_type": "code",
        "colab": {
          "autoexec": {
            "startup": false,
            "wait_interval": 0
          }
        }
      },
      "cell_type": "code",
      "source": [
        "top_words = 10000\n",
        "(X1_train, y1_train), (X1_test, y1_test) = imdb.load_data(num_words=top_words)\n",
        "# truncate and pad input sequences\n",
        "max_review_length = 500 #number of words in review\n",
        "X1_train = sequence.pad_sequences(X1_train, maxlen=max_review_length)\n",
        "X1_test = sequence.pad_sequences(X1_test, maxlen=max_review_length)\n",
        "# create the model\n",
        "embedding_vector_length = 32\n",
        "\n",
        "\n",
        "X_train = X1_train[:10000]\n",
        "y_train = y1_train[:10000]\n",
        "\n",
        "X_test = X1_test[:5000]\n",
        "y_test = y1_test[:5000]\n",
        "\n"
      ],
      "execution_count": 0,
      "outputs": []
    },
    {
      "metadata": {
        "id": "8HTATiCf7N98",
        "colab_type": "text"
      },
      "cell_type": "markdown",
      "source": [
        "#Here we train the 4 models to find the one with the best accuracy"
      ]
    },
    {
      "metadata": {
        "id": "lDFiB9O6fcWD",
        "colab_type": "text"
      },
      "cell_type": "markdown",
      "source": [
        "### Model 1 : LSTM"
      ]
    },
    {
      "metadata": {
        "id": "FgOoM9j--Ckc",
        "colab_type": "code",
        "colab": {
          "autoexec": {
            "startup": false,
            "wait_interval": 0
          }
        }
      },
      "cell_type": "code",
      "source": [
        "#LSTM--------------------------------\n",
        "# create the model\n",
        "LSTM_model = Sequential()\n",
        "LSTM_model.add(Embedding(top_words, embedding_vector_length, input_length=max_review_length))\n",
        "LSTM_model.add(LSTM(64))\n",
        "LSTM_model.add(Dropout(0.2))\n",
        "LSTM_model.add(Dense(128,activation='relu',name='neural_codes'))\n",
        "LSTM_model.add(Dense(1, activation='sigmoid'))\n",
        "\n"
      ],
      "execution_count": 0,
      "outputs": []
    },
    {
      "metadata": {
        "id": "9IETUXXzfcWI",
        "colab_type": "text"
      },
      "cell_type": "markdown",
      "source": [
        "### Model 2: GRU"
      ]
    },
    {
      "metadata": {
        "id": "1lB006OafcWJ",
        "colab_type": "code",
        "colab": {
          "autoexec": {
            "startup": false,
            "wait_interval": 0
          }
        }
      },
      "cell_type": "code",
      "source": [
        "# MODEL-2: GRU------------\n",
        "gru_model = Sequential()\n",
        "gru_model.add(Embedding(top_words, embedding_vector_length, input_length=max_review_length))\n",
        "#model.add(Conv1D(filters=32, kernel_size=3, padding='same', activation='relu'))\n",
        "#model.add(MaxPooling1D(pool_size=2))\n",
        "gru_model.add(GRU(64))\n",
        "gru_model.add(Dropout(0.2))\n",
        "gru_model.add(Dense(1, activation='sigmoid'))\n",
        "\n"
      ],
      "execution_count": 0,
      "outputs": []
    },
    {
      "metadata": {
        "id": "HwJIKF0IfcWN",
        "colab_type": "text"
      },
      "cell_type": "markdown",
      "source": [
        "### Model 3 : Bidirectional LSTM"
      ]
    },
    {
      "metadata": {
        "id": "c6nNqONofcWP",
        "colab_type": "code",
        "colab": {
          "autoexec": {
            "startup": false,
            "wait_interval": 0
          }
        }
      },
      "cell_type": "code",
      "source": [
        "# MODEL-3: Bidirectional LSTM---------------\n",
        "\n",
        "BI_LSTM_model = Sequential()\n",
        "BI_LSTM_model.add(Embedding(top_words, embedding_vector_length, input_length=max_review_length))\n",
        "BI_LSTM_model.add(Bidirectional(LSTM(64)))\n",
        "BI_LSTM_model.add(Dropout(0.3))\n",
        "BI_LSTM_model.add(Dense(1, activation='sigmoid'))\n",
        "\n"
      ],
      "execution_count": 0,
      "outputs": []
    },
    {
      "metadata": {
        "id": "5PyX-bIufcWU",
        "colab_type": "text"
      },
      "cell_type": "markdown",
      "source": [
        "### Model 4 : Bidirectional GRU"
      ]
    },
    {
      "metadata": {
        "id": "NblekoZXfcWW",
        "colab_type": "code",
        "colab": {
          "autoexec": {
            "startup": false,
            "wait_interval": 0
          }
        }
      },
      "cell_type": "code",
      "source": [
        "# MODEL-4: Bidirectional GRU-----------------\n",
        "bi_gru_model = Sequential()\n",
        "bi_gru_model.add(Embedding(top_words, embedding_vector_length, input_length=max_review_length))\n",
        "bi_gru_model.add(Bidirectional(LSTM(64)))\n",
        "bi_gru_model.add(Dropout(0.2))\n",
        "bi_gru_model.add(Dense(1, activation='sigmoid'))\n",
        "\n",
        "\n"
      ],
      "execution_count": 0,
      "outputs": []
    },
    {
      "metadata": {
        "id": "p80KU3cyfcWa",
        "colab_type": "text"
      },
      "cell_type": "markdown",
      "source": [
        "### Compile models"
      ]
    },
    {
      "metadata": {
        "id": "FoiNItNnfcWc",
        "colab_type": "code",
        "colab": {
          "autoexec": {
            "startup": false,
            "wait_interval": 0
          },
          "base_uri": "https://localhost:8080/",
          "height": 337
        },
        "outputId": "6da87ca3-8f77-45d7-e17a-2a51fac567f9",
        "executionInfo": {
          "status": "ok",
          "timestamp": 1523801166834,
          "user_tz": -120,
          "elapsed": 530,
          "user": {
            "displayName": "metalrules211",
            "photoUrl": "//lh5.googleusercontent.com/-eXRoLTRTB4M/AAAAAAAAAAI/AAAAAAAAABY/a8zMwRWnaDU/s50-c-k-no/photo.jpg",
            "userId": "110111763941813844581"
          }
        }
      },
      "cell_type": "code",
      "source": [
        "LSTM_model.compile(loss='binary_crossentropy', optimizer='adam', metrics=['accuracy'])\n",
        "print(LSTM_model.summary())"
      ],
      "execution_count": 120,
      "outputs": [
        {
          "output_type": "stream",
          "text": [
            "_________________________________________________________________\n",
            "Layer (type)                 Output Shape              Param #   \n",
            "=================================================================\n",
            "embedding_5 (Embedding)      (None, 500, 32)           320000    \n",
            "_________________________________________________________________\n",
            "lstm_5 (LSTM)                (None, 64)                24832     \n",
            "_________________________________________________________________\n",
            "dropout_5 (Dropout)          (None, 64)                0         \n",
            "_________________________________________________________________\n",
            "neural_codes (Dense)         (None, 128)               8320      \n",
            "_________________________________________________________________\n",
            "dense_5 (Dense)              (None, 1)                 129       \n",
            "=================================================================\n",
            "Total params: 353,281\n",
            "Trainable params: 353,281\n",
            "Non-trainable params: 0\n",
            "_________________________________________________________________\n",
            "None\n"
          ],
          "name": "stdout"
        }
      ]
    },
    {
      "metadata": {
        "id": "5mci5uCyfcWg",
        "colab_type": "code",
        "colab": {
          "autoexec": {
            "startup": false,
            "wait_interval": 0
          },
          "base_uri": "https://localhost:8080/",
          "height": 301
        },
        "outputId": "68966b3d-d6cc-49c8-93fa-bb005bdd6fc5",
        "executionInfo": {
          "status": "ok",
          "timestamp": 1523730199011,
          "user_tz": -120,
          "elapsed": 587,
          "user": {
            "displayName": "metalrules211",
            "photoUrl": "//lh5.googleusercontent.com/-eXRoLTRTB4M/AAAAAAAAAAI/AAAAAAAAABY/a8zMwRWnaDU/s50-c-k-no/photo.jpg",
            "userId": "110111763941813844581"
          }
        }
      },
      "cell_type": "code",
      "source": [
        "gru_model.compile(loss='binary_crossentropy', optimizer='adam', metrics=['accuracy'])\n",
        "print(gru_model.summary())"
      ],
      "execution_count": 43,
      "outputs": [
        {
          "output_type": "stream",
          "text": [
            "_________________________________________________________________\n",
            "Layer (type)                 Output Shape              Param #   \n",
            "=================================================================\n",
            "embedding_5 (Embedding)      (None, 500, 32)           320000    \n",
            "_________________________________________________________________\n",
            "gru_1 (GRU)                  (None, 64)                18624     \n",
            "_________________________________________________________________\n",
            "dropout_5 (Dropout)          (None, 64)                0         \n",
            "_________________________________________________________________\n",
            "dense_5 (Dense)              (None, 1)                 65        \n",
            "=================================================================\n",
            "Total params: 338,689\n",
            "Trainable params: 338,689\n",
            "Non-trainable params: 0\n",
            "_________________________________________________________________\n",
            "None\n"
          ],
          "name": "stdout"
        }
      ]
    },
    {
      "metadata": {
        "id": "chkfDVeufcWj",
        "colab_type": "code",
        "colab": {
          "autoexec": {
            "startup": false,
            "wait_interval": 0
          },
          "base_uri": "https://localhost:8080/",
          "height": 301
        },
        "outputId": "1c3e5032-b89a-48c3-b124-3c0d4d832da3",
        "executionInfo": {
          "status": "ok",
          "timestamp": 1523731117248,
          "user_tz": -120,
          "elapsed": 473,
          "user": {
            "displayName": "metalrules211",
            "photoUrl": "//lh5.googleusercontent.com/-eXRoLTRTB4M/AAAAAAAAAAI/AAAAAAAAABY/a8zMwRWnaDU/s50-c-k-no/photo.jpg",
            "userId": "110111763941813844581"
          }
        }
      },
      "cell_type": "code",
      "source": [
        "BI_LSTM_model.compile(loss='binary_crossentropy', optimizer='adam', metrics=['accuracy'])\n",
        "print(BI_LSTM_model.summary())\n"
      ],
      "execution_count": 51,
      "outputs": [
        {
          "output_type": "stream",
          "text": [
            "_________________________________________________________________\n",
            "Layer (type)                 Output Shape              Param #   \n",
            "=================================================================\n",
            "embedding_8 (Embedding)      (None, 500, 32)           320000    \n",
            "_________________________________________________________________\n",
            "bidirectional_3 (Bidirection (None, 128)               49664     \n",
            "_________________________________________________________________\n",
            "dropout_8 (Dropout)          (None, 128)               0         \n",
            "_________________________________________________________________\n",
            "dense_8 (Dense)              (None, 1)                 129       \n",
            "=================================================================\n",
            "Total params: 369,793\n",
            "Trainable params: 369,793\n",
            "Non-trainable params: 0\n",
            "_________________________________________________________________\n",
            "None\n"
          ],
          "name": "stdout"
        }
      ]
    },
    {
      "metadata": {
        "id": "dHuhk-HVfcWn",
        "colab_type": "code",
        "colab": {
          "autoexec": {
            "startup": false,
            "wait_interval": 0
          },
          "base_uri": "https://localhost:8080/",
          "height": 301
        },
        "outputId": "15d10c35-244e-4df5-d320-f047faa92866",
        "executionInfo": {
          "status": "ok",
          "timestamp": 1523731774752,
          "user_tz": -120,
          "elapsed": 680,
          "user": {
            "displayName": "metalrules211",
            "photoUrl": "//lh5.googleusercontent.com/-eXRoLTRTB4M/AAAAAAAAAAI/AAAAAAAAABY/a8zMwRWnaDU/s50-c-k-no/photo.jpg",
            "userId": "110111763941813844581"
          }
        }
      },
      "cell_type": "code",
      "source": [
        "bi_gru_model.compile(loss='binary_crossentropy', optimizer='adam', metrics=['accuracy'])\n",
        "print(bi_gru_model.summary())"
      ],
      "execution_count": 62,
      "outputs": [
        {
          "output_type": "stream",
          "text": [
            "_________________________________________________________________\n",
            "Layer (type)                 Output Shape              Param #   \n",
            "=================================================================\n",
            "embedding_10 (Embedding)     (None, 500, 32)           320000    \n",
            "_________________________________________________________________\n",
            "bidirectional_5 (Bidirection (None, 128)               49664     \n",
            "_________________________________________________________________\n",
            "dropout_10 (Dropout)         (None, 128)               0         \n",
            "_________________________________________________________________\n",
            "dense_10 (Dense)             (None, 1)                 129       \n",
            "=================================================================\n",
            "Total params: 369,793\n",
            "Trainable params: 369,793\n",
            "Non-trainable params: 0\n",
            "_________________________________________________________________\n",
            "None\n"
          ],
          "name": "stdout"
        }
      ]
    },
    {
      "metadata": {
        "id": "s_3t9w3QflR9",
        "colab_type": "code",
        "colab": {
          "autoexec": {
            "startup": false,
            "wait_interval": 0
          },
          "base_uri": "https://localhost:8080/",
          "height": 141
        },
        "outputId": "e901fbf9-cd27-423b-d504-580901477c8b",
        "executionInfo": {
          "status": "ok",
          "timestamp": 1523379520858,
          "user_tz": -120,
          "elapsed": 402,
          "user": {
            "displayName": "metalrules211",
            "photoUrl": "//lh5.googleusercontent.com/-eXRoLTRTB4M/AAAAAAAAAAI/AAAAAAAAABY/a8zMwRWnaDU/s50-c-k-no/photo.jpg",
            "userId": "110111763941813844581"
          }
        }
      },
      "cell_type": "code",
      "source": [
        "X_train"
      ],
      "execution_count": 98,
      "outputs": [
        {
          "output_type": "execute_result",
          "data": {
            "text/plain": [
              "array([[   0,    0,    0, ...,   19,  178,   32],\n",
              "       [   0,    0,    0, ...,   16,  145,   95],\n",
              "       [   0,    0,    0, ...,    7,  129,  113],\n",
              "       ...,\n",
              "       [   0,    0,    0, ...,   20,   18, 2166],\n",
              "       [   0,    0,    0, ...,  154,  172,  154],\n",
              "       [   0,    0,    0, ...,   10,   10, 3288]], dtype=int32)"
            ]
          },
          "metadata": {
            "tags": []
          },
          "execution_count": 98
        }
      ]
    },
    {
      "metadata": {
        "id": "xgYDD2L-fcWr",
        "colab_type": "text"
      },
      "cell_type": "markdown",
      "source": [
        "### Train models"
      ]
    },
    {
      "metadata": {
        "id": "KlGb6Lk-fcWs",
        "colab_type": "code",
        "colab": {
          "autoexec": {
            "startup": false,
            "wait_interval": 0
          },
          "base_uri": "https://localhost:8080/",
          "height": 179
        },
        "outputId": "2b17c674-c7d3-446a-a0cb-1226d42efd7d",
        "executionInfo": {
          "status": "ok",
          "timestamp": 1523801436394,
          "user_tz": -120,
          "elapsed": 265610,
          "user": {
            "displayName": "metalrules211",
            "photoUrl": "//lh5.googleusercontent.com/-eXRoLTRTB4M/AAAAAAAAAAI/AAAAAAAAABY/a8zMwRWnaDU/s50-c-k-no/photo.jpg",
            "userId": "110111763941813844581"
          }
        }
      },
      "cell_type": "code",
      "source": [
        "#LSTM training\n",
        "\n",
        "historylstm = LSTM_model.fit(X_train, y_train, epochs=3, batch_size=64, validation_data=(X_test, y_test))\n",
        "\n",
        "LSTM_scores = LSTM_model.evaluate(X_test, y_test, verbose=0)\n",
        "print(\"Accuracy: %.2f%%\" % (LSTM_scores[1]*100))"
      ],
      "execution_count": 121,
      "outputs": [
        {
          "output_type": "stream",
          "text": [
            "Train on 10000 samples, validate on 5000 samples\n",
            "Epoch 1/3\n",
            "10000/10000 [==============================] - 85s 9ms/step - loss: 0.5388 - acc: 0.7177 - val_loss: 0.4014 - val_acc: 0.8180\n",
            "Epoch 2/3\n",
            "10000/10000 [==============================] - 85s 9ms/step - loss: 0.2590 - acc: 0.9005 - val_loss: 0.3655 - val_acc: 0.8360\n",
            "Epoch 3/3\n",
            " 5056/10000 [==============>...............] - ETA: 38s - loss: 0.1548 - acc: 0.9488"
          ],
          "name": "stdout"
        },
        {
          "output_type": "stream",
          "text": [
            "10000/10000 [==============================] - 85s 8ms/step - loss: 0.1652 - acc: 0.9425 - val_loss: 0.3801 - val_acc: 0.8532\n",
            "Accuracy: 85.32%\n"
          ],
          "name": "stdout"
        }
      ]
    },
    {
      "metadata": {
        "id": "P_ENNtfzgipu",
        "colab_type": "code",
        "colab": {
          "autoexec": {
            "startup": false,
            "wait_interval": 0
          },
          "base_uri": "https://localhost:8080/",
          "height": 35
        },
        "outputId": "a4927eed-8287-49be-ceaf-470ae507ed00",
        "executionInfo": {
          "status": "ok",
          "timestamp": 1523801646900,
          "user_tz": -120,
          "elapsed": 9841,
          "user": {
            "displayName": "metalrules211",
            "photoUrl": "//lh5.googleusercontent.com/-eXRoLTRTB4M/AAAAAAAAAAI/AAAAAAAAABY/a8zMwRWnaDU/s50-c-k-no/photo.jpg",
            "userId": "110111763941813844581"
          }
        }
      },
      "cell_type": "code",
      "source": [
        " LSTM_scores = LSTM_model.evaluate(X_test, y_test, verbose=0)\n",
        "print(\"Accuracy: %.2f%%\" % (LSTM_scores[1]*100))"
      ],
      "execution_count": 122,
      "outputs": [
        {
          "output_type": "stream",
          "text": [
            "Accuracy: 85.32%\n"
          ],
          "name": "stdout"
        }
      ]
    },
    {
      "metadata": {
        "id": "iz_Kee0ufcWw",
        "colab_type": "code",
        "colab": {
          "autoexec": {
            "startup": false,
            "wait_interval": 0
          },
          "base_uri": "https://localhost:8080/",
          "height": 179
        },
        "outputId": "a2d35ae6-2b6a-45ec-d7d8-dba9888be74e",
        "executionInfo": {
          "status": "ok",
          "timestamp": 1523730438898,
          "user_tz": -120,
          "elapsed": 233234,
          "user": {
            "displayName": "metalrules211",
            "photoUrl": "//lh5.googleusercontent.com/-eXRoLTRTB4M/AAAAAAAAAAI/AAAAAAAAABY/a8zMwRWnaDU/s50-c-k-no/photo.jpg",
            "userId": "110111763941813844581"
          }
        }
      },
      "cell_type": "code",
      "source": [
        "# GRU TRAINING\n",
        "historygru = gru_model.fit(X_train, y_train, epochs=3, batch_size=64, validation_data=(X_test, y_test))\n",
        "\n",
        "gru_scores = gru_model.evaluate(X_test, y_test, verbose=0)\n",
        "print(\"Accuracy: %.2f%%\" % (gru_scores[1]*100))\n"
      ],
      "execution_count": 44,
      "outputs": [
        {
          "output_type": "stream",
          "text": [
            "Train on 10000 samples, validate on 5000 samples\n",
            "Epoch 1/3\n",
            "10000/10000 [==============================] - 75s 8ms/step - loss: 0.6131 - acc: 0.6457 - val_loss: 0.5788 - val_acc: 0.7898\n",
            "Epoch 2/3\n",
            "10000/10000 [==============================] - 74s 7ms/step - loss: 0.3119 - acc: 0.8680 - val_loss: 0.3651 - val_acc: 0.8412\n",
            "Epoch 3/3\n",
            " 5056/10000 [==============>...............] - ETA: 33s - loss: 0.1588 - acc: 0.9438"
          ],
          "name": "stdout"
        },
        {
          "output_type": "stream",
          "text": [
            "10000/10000 [==============================] - 74s 7ms/step - loss: 0.1777 - acc: 0.9351 - val_loss: 0.4080 - val_acc: 0.8470\n",
            "Accuracy: 84.70%\n"
          ],
          "name": "stdout"
        }
      ]
    },
    {
      "metadata": {
        "id": "X1evZqeafcWz",
        "colab_type": "code",
        "colab": {
          "autoexec": {
            "startup": false,
            "wait_interval": 0
          },
          "base_uri": "https://localhost:8080/",
          "height": 179
        },
        "outputId": "319bddd2-e449-47c1-be8d-c7359ee6ab7e",
        "executionInfo": {
          "status": "ok",
          "timestamp": 1523731590066,
          "user_tz": -120,
          "elapsed": 465764,
          "user": {
            "displayName": "metalrules211",
            "photoUrl": "//lh5.googleusercontent.com/-eXRoLTRTB4M/AAAAAAAAAAI/AAAAAAAAABY/a8zMwRWnaDU/s50-c-k-no/photo.jpg",
            "userId": "110111763941813844581"
          }
        }
      },
      "cell_type": "code",
      "source": [
        "history_BI_LSTM = BI_LSTM_model.fit(X_train, y_train, epochs=3, batch_size=64,validation_data=(X_test, y_test))\n",
        "\n",
        "BI_LSTM_scores = BI_LSTM_model.evaluate(X_test, y_test, verbose=0)\n",
        "print(\"Accuracy: %.2f%%\" % (BI_LSTM_scores[1]*100))\n",
        "#dorpout 0.2 -> 83.9"
      ],
      "execution_count": 52,
      "outputs": [
        {
          "output_type": "stream",
          "text": [
            "Train on 10000 samples, validate on 5000 samples\n",
            "Epoch 1/3\n",
            "10000/10000 [==============================] - 150s 15ms/step - loss: 0.5615 - acc: 0.6961 - val_loss: 0.3779 - val_acc: 0.8386\n",
            "Epoch 2/3\n",
            "10000/10000 [==============================] - 148s 15ms/step - loss: 0.2963 - acc: 0.8863 - val_loss: 0.3791 - val_acc: 0.8446\n",
            "Epoch 3/3\n",
            " 4928/10000 [=============>................] - ETA: 1:08 - loss: 0.2082 - acc: 0.9257"
          ],
          "name": "stdout"
        },
        {
          "output_type": "stream",
          "text": [
            "10000/10000 [==============================] - 148s 15ms/step - loss: 0.2094 - acc: 0.9253 - val_loss: 0.3922 - val_acc: 0.8468\n",
            "Accuracy: 84.68%\n"
          ],
          "name": "stdout"
        }
      ]
    },
    {
      "metadata": {
        "id": "2fSgIh7UfcW1",
        "colab_type": "code",
        "colab": {
          "autoexec": {
            "startup": false,
            "wait_interval": 0
          },
          "base_uri": "https://localhost:8080/",
          "height": 179
        },
        "outputId": "4710360d-2b14-4a8e-bd03-1bb92b52204d",
        "executionInfo": {
          "status": "ok",
          "timestamp": 1523732265672,
          "user_tz": -120,
          "elapsed": 466559,
          "user": {
            "displayName": "metalrules211",
            "photoUrl": "//lh5.googleusercontent.com/-eXRoLTRTB4M/AAAAAAAAAAI/AAAAAAAAABY/a8zMwRWnaDU/s50-c-k-no/photo.jpg",
            "userId": "110111763941813844581"
          }
        }
      },
      "cell_type": "code",
      "source": [
        "history_gru_model = bi_gru_model.fit(X_train, y_train, epochs=3, batch_size=64,validation_data=(X_test, y_test))\n",
        "# Final evaluation of the model\n",
        "bi_gru_scores = bi_gru_model.evaluate(X_test, y_test, verbose=0)\n",
        "print(\"Accuracy: %.2f%%\" % (bi_gru_scores[1]*100))\n"
      ],
      "execution_count": 64,
      "outputs": [
        {
          "output_type": "stream",
          "text": [
            "Train on 10000 samples, validate on 5000 samples\n",
            "Epoch 1/3\n",
            "10000/10000 [==============================] - 150s 15ms/step - loss: 0.5836 - acc: 0.6900 - val_loss: 0.4217 - val_acc: 0.8184\n",
            "Epoch 2/3\n",
            "10000/10000 [==============================] - 148s 15ms/step - loss: 0.3486 - acc: 0.8593 - val_loss: 0.3634 - val_acc: 0.8444\n",
            "Epoch 3/3\n",
            " 4928/10000 [=============>................] - ETA: 1:07 - loss: 0.2249 - acc: 0.9188"
          ],
          "name": "stdout"
        },
        {
          "output_type": "stream",
          "text": [
            "10000/10000 [==============================] - 148s 15ms/step - loss: 0.2230 - acc: 0.9187 - val_loss: 0.3785 - val_acc: 0.8440\n",
            "Accuracy: 84.40%\n"
          ],
          "name": "stdout"
        }
      ]
    },
    {
      "metadata": {
        "id": "AFTnNM6N7k0d",
        "colab_type": "text"
      },
      "cell_type": "markdown",
      "source": [
        "As we can see the \"best\" model which provides us with the best accuracy is LSTM with an accuracy of 86.1%. Specifically we get:\n",
        "\n",
        "LSTM: 85.30%%\n",
        "GRU: 84.7%\n",
        "Bidirectional LSTM: 84.6%\n",
        "Bidirectional GRU: 84.4%\n",
        "\n",
        "Having a bigger number for the epochs did not seem to help with accuracy. 3 Seemed to be the optimal choice"
      ]
    },
    {
      "metadata": {
        "id": "zI7tC9XpfcW5",
        "colab_type": "text"
      },
      "cell_type": "markdown",
      "source": [
        "### Save models and weight parameters"
      ]
    },
    {
      "metadata": {
        "id": "cJHBGExTfcW6",
        "colab_type": "code",
        "colab": {
          "autoexec": {
            "startup": false,
            "wait_interval": 0
          }
        }
      },
      "cell_type": "code",
      "source": [
        "# Save model\n",
        "LSTM_model.save('lstm_model.h5')\n",
        "# Save trained weight parameters\n",
        "LSTM_model.save_weights('weights_lstm_model.hdf5')"
      ],
      "execution_count": 0,
      "outputs": []
    },
    {
      "metadata": {
        "id": "sE79xxwyfcW9",
        "colab_type": "code",
        "colab": {
          "autoexec": {
            "startup": false,
            "wait_interval": 0
          }
        }
      },
      "cell_type": "code",
      "source": [
        "# Save model\n",
        "gru_model.save('gru_model.h5')\n",
        "# Save trained weight parameters\n",
        "gru_model.save_weights('weights_gru_model.hdf5')"
      ],
      "execution_count": 0,
      "outputs": []
    },
    {
      "metadata": {
        "id": "sD_vm2KLfcW_",
        "colab_type": "code",
        "colab": {
          "autoexec": {
            "startup": false,
            "wait_interval": 0
          }
        }
      },
      "cell_type": "code",
      "source": [
        "# Save model\n",
        "BI_LSTM_model.save('bilstm_model.h5')\n",
        "# Save trained weight parameters\n",
        "BI_LSTM_model.save_weights('weights_bilstm_model.hdf5')"
      ],
      "execution_count": 0,
      "outputs": []
    },
    {
      "metadata": {
        "id": "SwOgMmJTfcXC",
        "colab_type": "code",
        "colab": {
          "autoexec": {
            "startup": false,
            "wait_interval": 0
          }
        }
      },
      "cell_type": "code",
      "source": [
        "# Save model\n",
        "bi_gru_model.save('bigru_model.h5')\n",
        "# Save trained weight parameters\n",
        "bi_gru_model.save_weights('weights_bigru_model.hdf5')"
      ],
      "execution_count": 0,
      "outputs": []
    },
    {
      "metadata": {
        "id": "JD-yoYXlfcXE",
        "colab_type": "text"
      },
      "cell_type": "markdown",
      "source": [
        "#### Plot model performance (loss, accuracy)"
      ]
    },
    {
      "metadata": {
        "id": "nNe5yhAhY3vj",
        "colab_type": "text"
      },
      "cell_type": "markdown",
      "source": [
        "#Plot for LSTM"
      ]
    },
    {
      "metadata": {
        "id": "ReR420bBfcXG",
        "colab_type": "code",
        "colab": {
          "autoexec": {
            "startup": false,
            "wait_interval": 0
          },
          "base_uri": "https://localhost:8080/",
          "height": 735
        },
        "outputId": "f052628a-b764-4300-a4b5-5325c9ece0d4",
        "executionInfo": {
          "status": "ok",
          "timestamp": 1523732385166,
          "user_tz": -120,
          "elapsed": 1006,
          "user": {
            "displayName": "metalrules211",
            "photoUrl": "//lh5.googleusercontent.com/-eXRoLTRTB4M/AAAAAAAAAAI/AAAAAAAAABY/a8zMwRWnaDU/s50-c-k-no/photo.jpg",
            "userId": "110111763941813844581"
          }
        }
      },
      "cell_type": "code",
      "source": [
        "plt.plot(historylstm.history['acc'])\n",
        "plt.plot(historylstm.history['val_acc'])\n",
        "plt.title('model accuracy')\n",
        "plt.ylabel('accuracy')\n",
        "plt.xlabel('epoch')\n",
        "plt.legend(['train', 'test'], loc='upper left')\n",
        "plt.show()\n",
        "\n",
        "# summarize history for loss\n",
        "plt.plot(historylstm.history['loss'])\n",
        "plt.plot(historylstm.history['val_acc']) #c = 'r', linestyle = \"--\")\n",
        "plt.title('model loss')\n",
        "plt.ylabel('loss')\n",
        "plt.xlabel('epoch')\n",
        "plt.legend(['train', 'test'], loc='upper left')\n",
        "plt.show()"
      ],
      "execution_count": 69,
      "outputs": [
        {
          "output_type": "display_data",
          "data": {
            "image/png": "[encoded data removed]",
            "text/plain": [
              "<matplotlib.figure.Figure at 0x7f33f2445550>"
            ]
          },
          "metadata": {
            "tags": []
          }
        },
        {
          "output_type": "display_data",
          "data": {
            "image/png": "[encoded data removed]",
            "text/plain": [
              "<matplotlib.figure.Figure at 0x7f33f0a1f828>"
            ]
          },
          "metadata": {
            "tags": []
          }
        }
      ]
    },
    {
      "metadata": {
        "id": "ocMd1jwPY8F8",
        "colab_type": "text"
      },
      "cell_type": "markdown",
      "source": [
        "#Plot for GRU"
      ]
    },
    {
      "metadata": {
        "id": "rV-0ATceXZYy",
        "colab_type": "code",
        "colab": {
          "autoexec": {
            "startup": false,
            "wait_interval": 0
          },
          "base_uri": "https://localhost:8080/",
          "height": 735
        },
        "outputId": "6816c37a-1407-432d-e30a-9ceb7194e262",
        "executionInfo": {
          "status": "ok",
          "timestamp": 1523629381911,
          "user_tz": -120,
          "elapsed": 1051,
          "user": {
            "displayName": "metalrules211",
            "photoUrl": "//lh5.googleusercontent.com/-eXRoLTRTB4M/AAAAAAAAAAI/AAAAAAAAABY/a8zMwRWnaDU/s50-c-k-no/photo.jpg",
            "userId": "110111763941813844581"
          }
        }
      },
      "cell_type": "code",
      "source": [
        "\n",
        "plt.plot(historygru.history['acc'])\n",
        "plt.plot(historygru.history['val_acc'])\n",
        "plt.title('model accuracy')\n",
        "plt.ylabel('accuracy')\n",
        "plt.xlabel('epoch')\n",
        "plt.legend(['train', 'test'], loc='upper left')\n",
        "plt.show()\n",
        "\n",
        "# summarize history for loss\n",
        "plt.plot(historygru.history['loss'])\n",
        "plt.plot(historygru.history['val_acc']) #c = 'r', linestyle = \"--\")\n",
        "plt.title('model loss')\n",
        "plt.ylabel('loss')\n",
        "plt.xlabel('epoch')\n",
        "plt.legend(['train', 'test'], loc='upper left')\n",
        "plt.show()"
      ],
      "execution_count": 100,
      "outputs": [
        {
          "output_type": "display_data",
          "data": {
            "image/png": "[encoded data removed]",
            "text/plain": [
              "<matplotlib.figure.Figure at 0x7f42fee51be0>"
            ]
          },
          "metadata": {
            "tags": []
          }
        },
        {
          "output_type": "display_data",
          "data": {
            "image/png": "[encoded data removed]",
            "text/plain": [
              "<matplotlib.figure.Figure at 0x7f42fee2cbe0>"
            ]
          },
          "metadata": {
            "tags": []
          }
        }
      ]
    },
    {
      "metadata": {
        "id": "VPW5VSEnY_Hy",
        "colab_type": "text"
      },
      "cell_type": "markdown",
      "source": [
        "#Plot for BI_LSTM"
      ]
    },
    {
      "metadata": {
        "id": "9IMvJHMnZDyo",
        "colab_type": "code",
        "colab": {
          "autoexec": {
            "startup": false,
            "wait_interval": 0
          },
          "base_uri": "https://localhost:8080/",
          "height": 735
        },
        "outputId": "6466f42a-824d-40fd-9e50-ae4448002ee9",
        "executionInfo": {
          "status": "ok",
          "timestamp": 1523633355396,
          "user_tz": -120,
          "elapsed": 1096,
          "user": {
            "displayName": "metalrules211",
            "photoUrl": "//lh5.googleusercontent.com/-eXRoLTRTB4M/AAAAAAAAAAI/AAAAAAAAABY/a8zMwRWnaDU/s50-c-k-no/photo.jpg",
            "userId": "110111763941813844581"
          }
        }
      },
      "cell_type": "code",
      "source": [
        "plt.plot(history_BI_LSTM.history['acc'])\n",
        "plt.plot(history_BI_LSTM.history['val_acc'])\n",
        "plt.title('model accuracy')\n",
        "plt.ylabel('accuracy')\n",
        "plt.xlabel('epoch')\n",
        "plt.legend(['train', 'test'], loc='upper left')\n",
        "plt.show()\n",
        "\n",
        "# summarize history for loss\n",
        "plt.plot(history_BI_LSTM.history['loss'])\n",
        "plt.plot(history_BI_LSTM.history['val_acc']) #c = 'r', linestyle = \"--\")\n",
        "plt.title('model loss')\n",
        "plt.ylabel('loss')\n",
        "plt.xlabel('epoch')\n",
        "plt.legend(['train', 'test'], loc='upper left')\n",
        "plt.show()"
      ],
      "execution_count": 139,
      "outputs": [
        {
          "output_type": "display_data",
          "data": {
            "image/png": "[encoded data removed]",
            "text/plain": [
              "<matplotlib.figure.Figure at 0x7f42fbf24a90>"
            ]
          },
          "metadata": {
            "tags": []
          }
        },
        {
          "output_type": "display_data",
          "data": {
            "image/png": "[encoded data removed]",
            "text/plain": [
              "<matplotlib.figure.Figure at 0x7f42fbfb0908>"
            ]
          },
          "metadata": {
            "tags": []
          }
        }
      ]
    },
    {
      "metadata": {
        "id": "6jnk2ZYvXPH3",
        "colab_type": "text"
      },
      "cell_type": "markdown",
      "source": [
        "#Plot for BI_GRU"
      ]
    },
    {
      "metadata": {
        "id": "L2oZpV9KXPkf",
        "colab_type": "code",
        "colab": {
          "autoexec": {
            "startup": false,
            "wait_interval": 0
          },
          "base_uri": "https://localhost:8080/",
          "height": 735
        },
        "outputId": "2a14d618-0095-40e9-fa3f-464d503dcdda",
        "executionInfo": {
          "status": "ok",
          "timestamp": 1523633364915,
          "user_tz": -120,
          "elapsed": 940,
          "user": {
            "displayName": "metalrules211",
            "photoUrl": "//lh5.googleusercontent.com/-eXRoLTRTB4M/AAAAAAAAAAI/AAAAAAAAABY/a8zMwRWnaDU/s50-c-k-no/photo.jpg",
            "userId": "110111763941813844581"
          }
        }
      },
      "cell_type": "code",
      "source": [
        "plt.plot(history_BI_LSTM.history['acc'])\n",
        "plt.plot(history_BI_LSTM.history['val_acc'])\n",
        "plt.title('model accuracy')\n",
        "plt.ylabel('accuracy')\n",
        "plt.xlabel('epoch')\n",
        "plt.legend(['train', 'test'], loc='upper left')\n",
        "plt.show()\n",
        "\n",
        "# summarize history for loss\n",
        "plt.plot(history_BI_LSTM.history['loss'])\n",
        "plt.plot(history_BI_LSTM.history['val_acc']) #c = 'r', linestyle = \"--\")\n",
        "plt.title('model loss')\n",
        "plt.ylabel('loss')\n",
        "plt.xlabel('epoch')\n",
        "plt.legend(['train', 'test'], loc='upper left')\n",
        "plt.show()"
      ],
      "execution_count": 140,
      "outputs": [
        {
          "output_type": "display_data",
          "data": {
            "image/png": "[encoded data removed]",
            "text/plain": [
              "<matplotlib.figure.Figure at 0x7f42fbe72f28>"
            ]
          },
          "metadata": {
            "tags": []
          }
        },
        {
          "output_type": "display_data",
          "data": {
            "image/png": "[encoded data removed]",
            "text/plain": [
              "<matplotlib.figure.Figure at 0x7f42fbec9550>"
            ]
          },
          "metadata": {
            "tags": []
          }
        }
      ]
    },
    {
      "metadata": {
        "id": "lDOb_a7QfcXI",
        "colab_type": "text"
      },
      "cell_type": "markdown",
      "source": [
        "#### Present table comparison of model performance\n",
        "\n",
        "#### Answer:\n",
        "\n",
        "=== write your answer here ===\n",
        "\n",
        "(can also be presented as figure of table)"
      ]
    },
    {
      "metadata": {
        "id": "ws5LH3pf9HPl",
        "colab_type": "code",
        "colab": {
          "autoexec": {
            "startup": false,
            "wait_interval": 0
          },
          "base_uri": "https://localhost:8080/",
          "height": 77
        },
        "outputId": "70931d02-ce2f-46af-8843-b003c2497617",
        "executionInfo": {
          "status": "ok",
          "timestamp": 1523807326030,
          "user_tz": -120,
          "elapsed": 473,
          "user": {
            "displayName": "metalrules211",
            "photoUrl": "//lh5.googleusercontent.com/-eXRoLTRTB4M/AAAAAAAAAAI/AAAAAAAAABY/a8zMwRWnaDU/s50-c-k-no/photo.jpg",
            "userId": "110111763941813844581"
          }
        }
      },
      "cell_type": "code",
      "source": [
        "# Presenting a table with accuracies\n",
        "\n",
        "df = pd.DataFrame({'$LSTM':[85.3], '$GRU': [84.7],  '$BI_LSTM':[84.6], '$BI_GRU': [84.4]})\n",
        "df.columns = ['BI_GRU', 'BI_LSTM','GRU', 'LSTM']\n",
        "df"
      ],
      "execution_count": 159,
      "outputs": [
        {
          "output_type": "execute_result",
          "data": {
            "text/html": [
              "<div>\n",
              "<style scoped>\n",
              "    .dataframe tbody tr th:only-of-type {\n",
              "        vertical-align: middle;\n",
              "    }\n",
              "\n",
              "    .dataframe tbody tr th {\n",
              "        vertical-align: top;\n",
              "    }\n",
              "\n",
              "    .dataframe thead th {\n",
              "        text-align: right;\n",
              "    }\n",
              "</style>\n",
              "<table border=\"1\" class=\"dataframe\">\n",
              "  <thead>\n",
              "    <tr style=\"text-align: right;\">\n",
              "      <th></th>\n",
              "      <th>BI_GRU</th>\n",
              "      <th>BI_LSTM</th>\n",
              "      <th>GRU</th>\n",
              "      <th>LSTM</th>\n",
              "    </tr>\n",
              "  </thead>\n",
              "  <tbody>\n",
              "    <tr>\n",
              "      <th>0</th>\n",
              "      <td>84.4</td>\n",
              "      <td>84.6</td>\n",
              "      <td>84.7</td>\n",
              "      <td>85.3</td>\n",
              "    </tr>\n",
              "  </tbody>\n",
              "</table>\n",
              "</div>"
            ],
            "text/plain": [
              "   BI_GRU  BI_LSTM   GRU  LSTM\n",
              "0    84.4     84.6  84.7  85.3"
            ]
          },
          "metadata": {
            "tags": []
          },
          "execution_count": 159
        }
      ]
    },
    {
      "metadata": {
        "id": "6L6hlMFgfcXJ",
        "colab_type": "text"
      },
      "cell_type": "markdown",
      "source": [
        "### 3. Feature extraction"
      ]
    },
    {
      "metadata": {
        "id": "fJ6XLB14fcXJ",
        "colab_type": "text"
      },
      "cell_type": "markdown",
      "source": [
        "#### Tasks: \n",
        "\n",
        "* Choose one model with the best performance and use the model to produce ”neural codes” (document embedding) of raw text (5000 instances of unseen validation set) from RNN layer.\n",
        "*  Use tSNE to reduce the dimension of extracted text features (encoded version of 5000 documents) into two (2) dimensions and visualize it towards their sentiment labels.\n"
      ]
    },
    {
      "metadata": {
        "id": "1axIvBcwfcXO",
        "colab_type": "text"
      },
      "cell_type": "markdown",
      "source": [
        "#### Produce Neural codes of text reviews"
      ]
    },
    {
      "metadata": {
        "id": "xm47ErT8gbPb",
        "colab_type": "code",
        "colab": {
          "autoexec": {
            "startup": false,
            "wait_interval": 0
          }
        }
      },
      "cell_type": "code",
      "source": [
        "# Make neural codes for IMDB data set\n",
        "neural_codes_output = K.function([LSTM_model.layers[0].input],       #encoder model\n",
        "                                 [LSTM_model.get_layer(\"neural_codes\").output])\n",
        " # embedings for IMDB\n",
        "IMDB_embeddings = neural_codes_output([ X1_test])[0] \n"
      ],
      "execution_count": 0,
      "outputs": []
    },
    {
      "metadata": {
        "id": "BLb5ElTtfcXP",
        "colab_type": "code",
        "colab": {
          "autoexec": {
            "startup": false,
            "wait_interval": 0
          }
        }
      },
      "cell_type": "code",
      "source": [
        "\n",
        "# # define sub model to retrieve \"neural codes\" (document embedding) from recurrent layer\n",
        "# # generate \"neural codes\" (document embedding) from the model\n",
        "\n",
        "\n",
        "\n",
        "# # Make neural codes for IMDB data set\n",
        "encoder_model = K.function([LSTM_model.layers[0].input],       #encoder model\n",
        "                                 [LSTM_model.get_layer(\"neural_codes\").output])\n",
        " # embedings for IMDB\n",
        "doc_embedding = neural_codes_output([ X1_test])[0] \n"
      ],
      "execution_count": 0,
      "outputs": []
    },
    {
      "metadata": {
        "id": "TMTNOFDnfcXS",
        "colab_type": "text"
      },
      "cell_type": "markdown",
      "source": [
        "#### tSNE visualization"
      ]
    },
    {
      "metadata": {
        "id": "GKXAUoysfcXU",
        "colab_type": "code",
        "colab": {
          "autoexec": {
            "startup": false,
            "wait_interval": 0
          },
          "base_uri": "https://localhost:8080/",
          "height": 347
        },
        "outputId": "a8ae5304-ce1c-4f37-cb57-2f5296a5900f",
        "executionInfo": {
          "status": "ok",
          "timestamp": 1523802667405,
          "user_tz": -120,
          "elapsed": 888936,
          "user": {
            "displayName": "metalrules211",
            "photoUrl": "//lh5.googleusercontent.com/-eXRoLTRTB4M/AAAAAAAAAAI/AAAAAAAAABY/a8zMwRWnaDU/s50-c-k-no/photo.jpg",
            "userId": "110111763941813844581"
          }
        }
      },
      "cell_type": "code",
      "source": [
        "# use tSNE to plot document embedding on its sentiment label\n",
        "from sklearn.manifold import TSNE\n",
        "\n",
        "tsne = TSNE(n_components = 2)\n",
        "tsne_model = tsne.fit_transform(IMDB_embeddings)   #TSNE for imdb data set\n",
        "tsne_model.shape\n",
        "\n",
        "plt.scatter(tsne_model[:,0],tsne_model[:,1])\n",
        "plt.show()"
      ],
      "execution_count": 125,
      "outputs": [
        {
          "output_type": "display_data",
          "data": {
            "image/png": "[encoded data removed]",
            "text/plain": [
              "<matplotlib.figure.Figure at 0x7f4c4199ebe0>"
            ]
          },
          "metadata": {
            "tags": []
          }
        }
      ]
    },
    {
      "metadata": {
        "id": "vIE8o6S9fcXW",
        "colab_type": "text"
      },
      "cell_type": "markdown",
      "source": [
        "### 4. One shot learning on multi-class classification"
      ]
    },
    {
      "metadata": {
        "id": "_tjPyaBDfcXW",
        "colab_type": "text"
      },
      "cell_type": "markdown",
      "source": [
        "#### Tasks: \n",
        "\n",
        "* Use the RNN model that has been trained on binary classification task to extract features from different data set (Amazon product reviews)\n",
        "* Define and implement an approach to assign labels on unlabelled set of reviews, by using the concept of \"one shot learning\"\n",
        "* Compute accuracy, given ground truth labels\n",
        "* Discuss the results "
      ]
    },
    {
      "metadata": {
        "id": "tA7Ov9sW85Ru",
        "colab_type": "text"
      },
      "cell_type": "markdown",
      "source": [
        "#EMBEDDINGS FOR LABELED FILE"
      ]
    },
    {
      "metadata": {
        "id": "f1WBjaeFVpJ6",
        "colab_type": "code",
        "colab": {
          "autoexec": {
            "startup": false,
            "wait_interval": 0
          }
        }
      },
      "cell_type": "code",
      "source": [
        "neural_codes_output = K.function([LSTM_model.layers[0].input],       #encoder model\n",
        "                                 [LSTM_model.get_layer(\"neural_codes\").output])\n",
        "\n",
        "#PREPROCESS amazon, get the integers \n",
        "tests_embeddings = neural_codes_output([ amazon_reviews])[0]  \n"
      ],
      "execution_count": 0,
      "outputs": []
    },
    {
      "metadata": {
        "id": "aePFZMVvgXoU",
        "colab_type": "code",
        "colab": {
          "autoexec": {
            "startup": false,
            "wait_interval": 0
          },
          "base_uri": "https://localhost:8080/",
          "height": 35
        },
        "outputId": "9d0f9bb0-8f28-4cb8-a20b-0ed5fa3c2065",
        "executionInfo": {
          "status": "ok",
          "timestamp": 1523802799590,
          "user_tz": -120,
          "elapsed": 473,
          "user": {
            "displayName": "metalrules211",
            "photoUrl": "//lh5.googleusercontent.com/-eXRoLTRTB4M/AAAAAAAAAAI/AAAAAAAAABY/a8zMwRWnaDU/s50-c-k-no/photo.jpg",
            "userId": "110111763941813844581"
          }
        }
      },
      "cell_type": "code",
      "source": [
        "len(tests_embeddings[2])"
      ],
      "execution_count": 138,
      "outputs": [
        {
          "output_type": "execute_result",
          "data": {
            "text/plain": [
              "128"
            ]
          },
          "metadata": {
            "tags": []
          },
          "execution_count": 138
        }
      ]
    },
    {
      "metadata": {
        "id": "xMaEKsYNhF_d",
        "colab_type": "code",
        "colab": {
          "autoexec": {
            "startup": false,
            "wait_interval": 0
          }
        }
      },
      "cell_type": "code",
      "source": [
        "tests_embeddings = neural_codes_output([ amazon_reviews])[0]  #try with diff brackets  #doc embeding #for unlabeled"
      ],
      "execution_count": 0,
      "outputs": []
    },
    {
      "metadata": {
        "id": "eHTY8YBTg6Ot",
        "colab_type": "code",
        "colab": {
          "autoexec": {
            "startup": false,
            "wait_interval": 0
          }
        }
      },
      "cell_type": "code",
      "source": [
        "#make nearets neigbours with the 3 embedings\n",
        "from sklearn.neighbors import NearestNeighbors\n",
        "nn = NearestNeighbors(n_neighbors = 1, metric = \"l2\").fit( tests_embeddings )  #create the nearest neighbours \"space\""
      ],
      "execution_count": 0,
      "outputs": []
    },
    {
      "metadata": {
        "id": "dMUtUIEwk8R-",
        "colab_type": "text"
      },
      "cell_type": "markdown",
      "source": [
        "#Embedings for validation file"
      ]
    },
    {
      "metadata": {
        "id": "ICtDxEcgky3p",
        "colab_type": "code",
        "colab": {
          "autoexec": {
            "startup": false,
            "wait_interval": 0
          }
        }
      },
      "cell_type": "code",
      "source": [
        "valid_embeddings = neural_codes_output([ amazon_reviews_valid])[0]  #doc embeding for unlabeled"
      ],
      "execution_count": 0,
      "outputs": []
    },
    {
      "metadata": {
        "id": "t6WEIW1AlFIJ",
        "colab_type": "code",
        "colab": {
          "autoexec": {
            "startup": false,
            "wait_interval": 0
          }
        }
      },
      "cell_type": "code",
      "source": [
        "amazon_class = []\n",
        "for embedding in valid_embeddings:\n",
        "  distances, indices = nn.kneighbors([ embedding ])\n",
        "  nearest_index = indices[0][0] # Get the nearest neighbor\n",
        "  distance = distances[0][0]\n",
        "  amazon_class.append(train_data.label[nearest_index])"
      ],
      "execution_count": 0,
      "outputs": []
    },
    {
      "metadata": {
        "id": "5x45169ClC-g",
        "colab_type": "code",
        "colab": {
          "autoexec": {
            "startup": false,
            "wait_interval": 0
          }
        }
      },
      "cell_type": "code",
      "source": [
        "#distances, indices = nn.kneighbors([ tests_embeddings ])"
      ],
      "execution_count": 0,
      "outputs": []
    },
    {
      "metadata": {
        "id": "1Mb2TA-SlyjV",
        "colab_type": "code",
        "colab": {
          "autoexec": {
            "startup": false,
            "wait_interval": 0
          },
          "base_uri": "https://localhost:8080/",
          "height": 35
        },
        "outputId": "4773a1ef-d141-4ef1-f96b-52db82ac8d80",
        "executionInfo": {
          "status": "ok",
          "timestamp": 1523802816194,
          "user_tz": -120,
          "elapsed": 465,
          "user": {
            "displayName": "metalrules211",
            "photoUrl": "//lh5.googleusercontent.com/-eXRoLTRTB4M/AAAAAAAAAAI/AAAAAAAAABY/a8zMwRWnaDU/s50-c-k-no/photo.jpg",
            "userId": "110111763941813844581"
          }
        }
      },
      "cell_type": "code",
      "source": [
        "amazon_class[:7]"
      ],
      "execution_count": 144,
      "outputs": [
        {
          "output_type": "execute_result",
          "data": {
            "text/plain": [
              "['camera', 'camera', 'laptop', 'camera', 'laptop', 'camera', 'camera']"
            ]
          },
          "metadata": {
            "tags": []
          },
          "execution_count": 144
        }
      ]
    },
    {
      "metadata": {
        "id": "WPgdgHFffcXW",
        "colab_type": "text"
      },
      "cell_type": "markdown",
      "source": [
        "Explain how the approach works.\n",
        "\n",
        "\n",
        "#### Answer:\n",
        "\n",
        "First we imported the IMDB data set from Keras. We trained our 4 models with that data to determine the best ones, with the smallent ammount of loss. After we determined our best model we get 2 different embedings, 1 for the labeled amazon dataset and one for the untrained amazon data set. After that we create a \"nearest neighbour space\" for the labeled file embedings. Now that we have our \"space\" we translate our unlabeled file embedings on that space and we find the closest labels for each word, by measuring the smallest distance. After that we have 7 predictions for the unlabeled amazon reviews."
      ]
    },
    {
      "metadata": {
        "id": "ITgYR_gO2zeS",
        "colab_type": "code",
        "colab": {
          "autoexec": {
            "startup": false,
            "wait_interval": 0
          }
        }
      },
      "cell_type": "code",
      "source": [
        "test_data = pd.read_csv(os.path.join(DATA_PATH,\"example2_labelled.tsv\"), header=0, delimiter=\"\\t\")"
      ],
      "execution_count": 0,
      "outputs": []
    },
    {
      "metadata": {
        "id": "bjlJFFk12zmP",
        "colab_type": "code",
        "colab": {
          "autoexec": {
            "startup": false,
            "wait_interval": 0
          }
        }
      },
      "cell_type": "code",
      "source": [
        "test_set = []\n",
        "\n",
        "for item in test_data.label:\n",
        "  test_set.append(item)"
      ],
      "execution_count": 0,
      "outputs": []
    },
    {
      "metadata": {
        "id": "N9VrvAxwzmZH",
        "colab_type": "code",
        "colab": {
          "autoexec": {
            "startup": false,
            "wait_interval": 0
          },
          "base_uri": "https://localhost:8080/",
          "height": 53
        },
        "outputId": "bbda736a-c212-4cf8-e9cd-24437512ecc5",
        "executionInfo": {
          "status": "ok",
          "timestamp": 1523802827908,
          "user_tz": -120,
          "elapsed": 866,
          "user": {
            "displayName": "metalrules211",
            "photoUrl": "//lh5.googleusercontent.com/-eXRoLTRTB4M/AAAAAAAAAAI/AAAAAAAAABY/a8zMwRWnaDU/s50-c-k-no/photo.jpg",
            "userId": "110111763941813844581"
          }
        }
      },
      "cell_type": "code",
      "source": [
        "print(amazon_class)\n",
        "print(test_set)"
      ],
      "execution_count": 147,
      "outputs": [
        {
          "output_type": "stream",
          "text": [
            "['camera', 'camera', 'laptop', 'camera', 'laptop', 'camera', 'camera']\n",
            "['camera', 'mobilephone', 'laptop', 'laptop', 'mobilephone', 'camera', 'camera']\n"
          ],
          "name": "stdout"
        }
      ]
    },
    {
      "metadata": {
        "id": "cymSykGBzyn3",
        "colab_type": "code",
        "colab": {
          "autoexec": {
            "startup": false,
            "wait_interval": 0
          },
          "base_uri": "https://localhost:8080/",
          "height": 35
        },
        "outputId": "03fc860a-ba52-483a-9949-de466d3e6678",
        "executionInfo": {
          "status": "ok",
          "timestamp": 1523802829240,
          "user_tz": -120,
          "elapsed": 470,
          "user": {
            "displayName": "metalrules211",
            "photoUrl": "//lh5.googleusercontent.com/-eXRoLTRTB4M/AAAAAAAAAAI/AAAAAAAAABY/a8zMwRWnaDU/s50-c-k-no/photo.jpg",
            "userId": "110111763941813844581"
          }
        }
      },
      "cell_type": "code",
      "source": [
        "count = 0;\n",
        "\n",
        "for x,y in zip(test_set, amazon_class):\n",
        "  if(x == y):\n",
        "    count = count+1\n",
        "\n",
        "    \n",
        "accuracy = (count/len(amazon_class))*100\n",
        "print(accuracy)"
      ],
      "execution_count": 148,
      "outputs": [
        {
          "output_type": "stream",
          "text": [
            "57.14285714285714\n"
          ],
          "name": "stdout"
        }
      ]
    },
    {
      "metadata": {
        "id": "u8Vfl-COfcXZ",
        "colab_type": "text"
      },
      "cell_type": "markdown",
      "source": [
        "Discuss the result. Why it works -- or why it does not work.\n",
        "\n",
        "#### Answer:\n",
        "\n",
        "As we can see the accuracy is relatively good (57%),  if we keep in mind that we used the sentiment embeddings for predicting the amazon product classes. We computed the accuracy ourselves since we have the provided data set with the correct predictions. As we can see also above 4/7 predictions were right. The point here is to understand that using sentiment values we have computed we could actually predict many classes correct , with an unorthodox way, since sentiment analysis is not frequently used for problems like this."
      ]
    }
  ]
}