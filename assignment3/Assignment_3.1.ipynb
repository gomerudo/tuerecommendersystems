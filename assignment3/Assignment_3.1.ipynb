{
  "nbformat": 4,
  "nbformat_minor": 0,
  "metadata": {
    "colab": {
      "name": "Assignment_3.1.ipynb",
      "version": "0.3.2",
      "views": {},
      "default_view": {},
      "provenance": [],
      "collapsed_sections": []
    },
    "kernelspec": {
      "display_name": "Python 3",
      "language": "python",
      "name": "python3"
    },
    "accelerator": "GPU"
  },
  "cells": [
    {
      "metadata": {
        "id": "uj4T8PEHGbMF",
        "colab_type": "text"
      },
      "cell_type": "markdown",
      "source": [
        "# Assignment 3\n",
        "## Question 1: Siamese networks & one-shot learning (8pt)\n",
        "The Cifar-100 dataset is similar to the Cifar-10 dataset. It also consists of 60,000 32x32 RGB images, but they are distributed over 100 classes instead of 10. Thus, each class has much less examples, only 500 training images and 100 testing images per class. For more info about the dataset, see https://www.cs.toronto.edu/~kriz/cifar.html.\n",
        "\n",
        "*HINT: Import the Cifar-100 dataset directly from Keras, no need to download it from the website. Use* `label_mode=\"fine\"`\n",
        "\n",
        "### Task 1.1: Siamese network\n",
        "**a)**\n",
        "* Train a Siamese Network on the first 80 classes of (the training set of) Cifar-100, i.e. let the network predict the probability that two input images are from the same class. Use 1 as a target for pairs of images from the same class (positive pairs), and 0 for pairs of images from different classes (negative pairs). Randomly select image pairs from Cifar-100, but make sure you train on as many positive pairs as negative pairs.\n",
        "\n",
        "* Evaluate the performance of the network on 20-way one-shot learning tasks. Do this by generating 250 random tasks and obtain the average accuracy for each evaluation round. Use the remaining 20 classes that were not used for training. The model should perform better than random guessing.\n",
        "\n",
        "For this question you may ignore the test set of Cifar-100; it suffices to use only the training set and split this, using the first 80 classes for training and the remaining 20 classes for one-shot testing.\n",
        "\n",
        "*HINT: First sort the data by their labels (see e.g.* `numpy.argsort()`*), then reshape the data to a shape of* `(n_classes, n_examples, width, height, depth)`*, similar to the Omniglot data in Practical 4. It is then easier to split the data by class, and to sample positive and negative images pairs for training the Siamese network.*\n",
        "\n",
        "*NOTE: do not expect the one-shot accuracy for Cifar-100 to be similar to that accuracy for Omniglot; a lower accuracy can be expected. However, accuracy higher than random guess is certainly achievable.*"
      ]
    },
    {
      "metadata": {
        "id": "KYzB4rwJ6ysI",
        "colab_type": "code",
        "colab": {
          "autoexec": {
            "startup": false,
            "wait_interval": 0
          }
        }
      },
      "cell_type": "code",
      "source": [
        "# For plotting\n",
        "import matplotlib.pyplot as plt\n",
        "\n",
        "# To download fashion mnist\n",
        "from keras.datasets import cifar100\n",
        "\n",
        "# To covert target (classes) into categorical vector\n",
        "from keras.utils import to_categorical\n",
        "\n",
        "# Keras backend as K\n",
        "from keras import backend as K\n",
        "\n",
        "# Numpy as np\n",
        "import numpy as np\n",
        "import pandas as pd\n",
        "\n",
        "# OS operations (for file operations)\n",
        "import os\n",
        "\n",
        "# To perform the dimensionality reduction with Principal Component Analysis\n",
        "from sklearn.decomposition import PCA\n",
        "\n",
        "# For MLP\n",
        "from keras.models import Sequential\n",
        "from keras.models import load_model\n",
        "from keras.models import Model\n",
        "from keras.layers import Input, Lambda, Dense, Flatten, Dropout, BatchNormalization\n",
        "\n",
        "# For regularization\n",
        "from keras.layers import Dropout, BatchNormalization\n",
        "from keras.regularizers import l2\n",
        "\n",
        "# For convolution\n",
        "from keras.layers import Conv2D, MaxPooling2D\n",
        "\n",
        "# For autoencoders\n",
        "from keras.layers import UpSampling2D, Reshape\n",
        "from keras import regularizers\n",
        "\n",
        "# Extra imports\n",
        "from sklearn.utils import shuffle\n",
        "from keras.losses import binary_crossentropy\n",
        "\n",
        "# For Task 1.2 only\n",
        "from sklearn.neighbors import NearestNeighbors"
      ],
      "execution_count": 0,
      "outputs": []
    },
    {
      "metadata": {
        "id": "GWWefzcfGUGb",
        "colab_type": "code",
        "colab": {
          "autoexec": {
            "startup": false,
            "wait_interval": 0
          },
          "base_uri": "https://localhost:8080/",
          "height": 85
        },
        "outputId": "064f57d1-9b6e-4054-90e6-6ef77fa4d199",
        "executionInfo": {
          "status": "ok",
          "timestamp": 1523826153314,
          "user_tz": -120,
          "elapsed": 980,
          "user": {
            "displayName": "Jorge Gómez",
            "photoUrl": "//lh5.googleusercontent.com/-OHXqZEKFiwY/AAAAAAAAAAI/AAAAAAAAG1Q/EYd5cagCTIo/s50-c-k-no/photo.jpg",
            "userId": "108155755194959101108"
          }
        }
      },
      "cell_type": "code",
      "source": [
        "################################################################################\n",
        "################################# PREPARE DATA #################################\n",
        "################################################################################\n",
        "\n",
        "# load the data\n",
        "# For CIFAR100 coarse labels are the superclass to which the image belongs to, \n",
        "# like: fish, flowers or insects. \n",
        "# Fine labels are the subclass, like: bee, beetle, butterfly, caterpillar...\n",
        "(x_train, y_train), (x_test, y_test) = cifar100.load_data(label_mode = \"fine\")\n",
        "\n",
        "# properties of the data\n",
        "img_rows, img_cols, chns = 32, 32, 3 # 3 because RGB\n",
        "n_classes = 100\n",
        "\n",
        "# reshape\n",
        "if K.image_data_format() == 'channels_first':\n",
        "    x_train = x_train.reshape(x_train.shape[0], chns, img_rows, img_cols)\n",
        "    x_test = x_test.reshape(x_test.shape[0], chns, img_rows, img_cols)\n",
        "    input_shape = (chns, img_rows, img_cols)\n",
        "else:\n",
        "    x_train = x_train.reshape(x_train.shape[0], img_rows, img_cols, chns)\n",
        "    x_test = x_test.reshape(x_test.shape[0], img_rows, img_cols, chns)\n",
        "    input_shape = (img_rows, img_cols, chns)\n",
        "\n",
        "# normalise\n",
        "x_train = x_train.astype(\"float32\")\n",
        "x_test = x_test.astype(\"float32\")\n",
        "x_train /= 255\n",
        "x_test /= 255\n",
        "\n",
        "# # transform labels to one-hot encoding, but also keep original single-digit encoding\n",
        "y_train_digits = y_train\n",
        "y_test_digits = y_test\n",
        "y_train = to_categorical(y_train_digits, n_classes)\n",
        "y_test = to_categorical(y_test_digits, n_classes)\n",
        "\n",
        "print(\"X_train shape:\", x_train.shape)\n",
        "print(\"y_train shape:\", y_train.shape)\n",
        "print(\"X_test shape:\", x_test.shape)\n",
        "print(\"y_test shape:\", y_test.shape)"
      ],
      "execution_count": 10,
      "outputs": [
        {
          "output_type": "stream",
          "text": [
            "X_train shape: (50000, 32, 32, 3)\n",
            "y_train shape: (50000, 100)\n",
            "X_test shape: (10000, 32, 32, 3)\n",
            "y_test shape: (10000, 100)\n"
          ],
          "name": "stdout"
        }
      ]
    },
    {
      "metadata": {
        "id": "K8yKTFZjfboY",
        "colab_type": "code",
        "colab": {
          "autoexec": {
            "startup": false,
            "wait_interval": 0
          }
        }
      },
      "cell_type": "code",
      "source": [
        "# *HINT: First sort the data by their labels (see e.g.* `numpy.argsort()`*), \n",
        "# then reshape the data to a shape of* `(n_classes, n_examples, width, height, depth)`*, \n",
        "# similar to the Omniglot data in Practical 4. \n",
        "# It is then easier to split the data by class, and to sample positive and \n",
        "# negative images pairs for training the Siamese network.*\n",
        "\n",
        "def getSortedLabels(isTestSet = False):\n",
        "  \"\"\"\n",
        "  Return a tuple (indices, labels)\n",
        "  \"\"\"\n",
        "  if isTestSet :\n",
        "    y = y_test\n",
        "    y_digits = y_test_digits\n",
        "  else :\n",
        "    y = y_train\n",
        "    y_digits = y_train_digits\n",
        "\n",
        "  indices = np.arange(len(y))\n",
        "  indices_sorted = y_digits.copy().flatten()\n",
        "  # We create a matrix where the first column is the label, the second the index\n",
        "  indices_sorted = np.vstack((indices_sorted, indices)).T\n",
        "  # Then we sort by label. i.e., the class 1 is first, the class 100 is last\n",
        "  indices_sorted = indices_sorted[\n",
        "      indices_sorted[:,0].argsort()]\n",
        "  # We return first indices, then labels sorted. (as tuple)\n",
        "  return indices_sorted[:,1], indices_sorted[:,0]\n"
      ],
      "execution_count": 0,
      "outputs": []
    },
    {
      "metadata": {
        "id": "EsyZXS-Jpjxo",
        "colab_type": "code",
        "colab": {
          "autoexec": {
            "startup": false,
            "wait_interval": 0
          },
          "base_uri": "https://localhost:8080/",
          "height": 68
        },
        "outputId": "bc9ab07c-1a4b-4e41-d3f1-7fcd7d01d7d2",
        "executionInfo": {
          "status": "ok",
          "timestamp": 1523826158082,
          "user_tz": -120,
          "elapsed": 1090,
          "user": {
            "displayName": "Jorge Gómez",
            "photoUrl": "//lh5.googleusercontent.com/-OHXqZEKFiwY/AAAAAAAAAAI/AAAAAAAAG1Q/EYd5cagCTIo/s50-c-k-no/photo.jpg",
            "userId": "108155755194959101108"
          }
        }
      },
      "cell_type": "code",
      "source": [
        "# Sort indices and labels\n",
        "indices_sorted, labels_sorted = getSortedLabels()\n",
        "\n",
        "# Get the x_train set sorted in the same way as the labels\n",
        "x_train_sorted = x_train[indices_sorted]\n",
        "\n",
        "# Then we reshape x_train as suggested\n",
        "x_train_sorted = x_train_sorted.reshape((n_classes, 500, 32, 32, 3))\n",
        "\n",
        "# We already have the labels sorted... though we do not need them\n",
        "y_train_digits_sorted = labels_sorted\n",
        "y_train_sorted = y_train[indices_sorted]\n",
        "\n",
        "# Split the set into 2 parts: first 80 classes, last 20 classes\n",
        "x_train_80 = x_train_sorted[:80]\n",
        "x_train_20 = x_train_sorted[80:]\n",
        "print(\"x_train shape : \\t\", x_train_sorted.shape)\n",
        "print(\"x_train shape_80 : \\t\", x_train_80.shape)\n",
        "print(\"x_train shape_20: \\t\", x_train_20.shape)\n",
        "# show_img(1, x_train_sorted[19])"
      ],
      "execution_count": 12,
      "outputs": [
        {
          "output_type": "stream",
          "text": [
            "x_train shape : \t (100, 500, 32, 32, 3)\n",
            "x_train shape_80 : \t (80, 500, 32, 32, 3)\n",
            "x_train shape_20: \t (20, 500, 32, 32, 3)\n"
          ],
          "name": "stdout"
        }
      ]
    },
    {
      "metadata": {
        "id": "MvYKmNmA6gue",
        "colab_type": "code",
        "colab": {
          "autoexec": {
            "startup": false,
            "wait_interval": 0
          }
        }
      },
      "cell_type": "code",
      "source": [
        "def get_batch(batch_size, X):\n",
        "    \"\"\"Create batch of n pairs, half same class, half different class\"\"\"\n",
        "    # We read the sape components\n",
        "    n_classes, n_examples, w, h, d = X.shape\n",
        "    \n",
        "    # randomly sample batch_size classes to use in the batch\n",
        "    categories = np.random.choice(n_classes, size=(batch_size,), replace=False)\n",
        "\n",
        "    # initialize 2 empty arrays for the input image batch\n",
        "    pairs = [np.zeros((batch_size, h, w, d)) for i in range(2)]\n",
        "\n",
        "    # initialize vector for the targets, and make one half of it '1's, so 2nd half of batch has same class\n",
        "    targets = np.zeros((batch_size,))\n",
        "    targets[batch_size//2:] = 1\n",
        "    for i in range(batch_size):\n",
        "        category = categories[i]\n",
        "        idx_1 = np.random.randint(0, n_examples)\n",
        "        pairs[0][i, :, :, :] = X[category, idx_1].reshape(w, h, d)\n",
        "        idx_2 = np.random.randint(0, n_examples)\n",
        "        # pick images of same class for 1st half, different for 2nd\n",
        "        if i >= batch_size // 2:\n",
        "            category_2 = category\n",
        "        else:\n",
        "            #add a random number to the category mod n_classes to ensure 2nd image has different category\n",
        "            category_2 = (category + np.random.randint(1,n_classes)) % n_classes\n",
        "        pairs[1][i, :, :, :] = X[category_2,idx_2].reshape(w, h, d)\n",
        "    return pairs, targets\n",
        "\n",
        "def batch_generator(batch_size, X):\n",
        "    \"\"\"a generator for batches, so model.fit_generator can be used. \"\"\"\n",
        "    while True:\n",
        "        pairs, targets = get_batch(batch_size, X)\n",
        "        yield (pairs, targets)\n",
        "\n",
        "def train(model, X_train, batch_size = 64, steps_per_epoch=100, epochs=1):\n",
        "    model.fit_generator(batch_generator(batch_size, X_train), steps_per_epoch=steps_per_epoch, epochs=epochs)\n",
        "    "
      ],
      "execution_count": 0,
      "outputs": []
    },
    {
      "metadata": {
        "id": "8ipGwQyjOPYD",
        "colab_type": "code",
        "colab": {
          "autoexec": {
            "startup": false,
            "wait_interval": 0
          },
          "base_uri": "https://localhost:8080/",
          "height": 901
        },
        "outputId": "766ba93f-d87c-43a3-b8f9-21b7d64220bf",
        "executionInfo": {
          "status": "ok",
          "timestamp": 1523826162627,
          "user_tz": -120,
          "elapsed": 1560,
          "user": {
            "displayName": "Jorge Gómez",
            "photoUrl": "//lh5.googleusercontent.com/-OHXqZEKFiwY/AAAAAAAAAAI/AAAAAAAAG1Q/EYd5cagCTIo/s50-c-k-no/photo.jpg",
            "userId": "108155755194959101108"
          }
        }
      },
      "cell_type": "code",
      "source": [
        "left_input = Input(input_shape)\n",
        "right_input = Input(input_shape)\n",
        "\n",
        "# build convnet to use in each siamese 'leg'\n",
        "convnet = Sequential()\n",
        "convnet.add(Conv2D(64, (3, 3), activation='relu', input_shape = input_shape, \n",
        "                   kernel_regularizer=l2(2e-4)))\n",
        "convnet.add(MaxPooling2D())\n",
        "convnet.add(BatchNormalization())\n",
        "convnet.add(Dropout(0.25))\n",
        "convnet.add(Conv2D(128, (3,3), activation='relu'))\n",
        "convnet.add(MaxPooling2D())\n",
        "convnet.add(BatchNormalization())\n",
        "convnet.add(Dropout(0.25))\n",
        "convnet.add(Conv2D(256, (3,3), activation='relu'))\n",
        "convnet.add(Flatten())\n",
        "convnet.add(BatchNormalization())\n",
        "convnet.add(Dropout(0.25))\n",
        "convnet.add(Dense(1024, activation=\"sigmoid\", kernel_regularizer=l2(0.1)))\n",
        "convnet.summary()\n",
        "\n",
        "# encode each of the two inputs into a vector with the convnet\n",
        "encoded_l = convnet(left_input)\n",
        "encoded_r = convnet(right_input)\n",
        "\n",
        "# merge two encoded inputs with the L1 distance between them, and connect to prediction output layer\n",
        "L1_distance = lambda x: K.abs(x[0]-x[1])\n",
        "both = Lambda(L1_distance)([encoded_l, encoded_r])\n",
        "prediction = Dense(1, activation='sigmoid')(both)\n",
        "siamese_net = Model(inputs=[left_input, right_input], outputs = prediction)\n",
        "\n",
        "\n",
        "siamese_net.compile(loss = \"binary_crossentropy\", optimizer = \"adam\", \n",
        "                    metrics = ['acc'])\n",
        "\n",
        "siamese_net.summary()"
      ],
      "execution_count": 14,
      "outputs": [
        {
          "output_type": "stream",
          "text": [
            "_________________________________________________________________\n",
            "Layer (type)                 Output Shape              Param #   \n",
            "=================================================================\n",
            "conv2d_4 (Conv2D)            (None, 30, 30, 64)        1792      \n",
            "_________________________________________________________________\n",
            "max_pooling2d_3 (MaxPooling2 (None, 15, 15, 64)        0         \n",
            "_________________________________________________________________\n",
            "batch_normalization_4 (Batch (None, 15, 15, 64)        256       \n",
            "_________________________________________________________________\n",
            "dropout_4 (Dropout)          (None, 15, 15, 64)        0         \n",
            "_________________________________________________________________\n",
            "conv2d_5 (Conv2D)            (None, 13, 13, 128)       73856     \n",
            "_________________________________________________________________\n",
            "max_pooling2d_4 (MaxPooling2 (None, 6, 6, 128)         0         \n",
            "_________________________________________________________________\n",
            "batch_normalization_5 (Batch (None, 6, 6, 128)         512       \n",
            "_________________________________________________________________\n",
            "dropout_5 (Dropout)          (None, 6, 6, 128)         0         \n",
            "_________________________________________________________________\n",
            "conv2d_6 (Conv2D)            (None, 4, 4, 256)         295168    \n",
            "_________________________________________________________________\n",
            "flatten_2 (Flatten)          (None, 4096)              0         \n",
            "_________________________________________________________________\n",
            "batch_normalization_6 (Batch (None, 4096)              16384     \n",
            "_________________________________________________________________\n",
            "dropout_6 (Dropout)          (None, 4096)              0         \n",
            "_________________________________________________________________\n",
            "dense_3 (Dense)              (None, 1024)              4195328   \n",
            "=================================================================\n",
            "Total params: 4,583,296\n",
            "Trainable params: 4,574,720\n",
            "Non-trainable params: 8,576\n",
            "_________________________________________________________________\n",
            "__________________________________________________________________________________________________\n",
            "Layer (type)                    Output Shape         Param #     Connected to                     \n",
            "==================================================================================================\n",
            "input_3 (InputLayer)            (None, 32, 32, 3)    0                                            \n",
            "__________________________________________________________________________________________________\n",
            "input_4 (InputLayer)            (None, 32, 32, 3)    0                                            \n",
            "__________________________________________________________________________________________________\n",
            "sequential_2 (Sequential)       (None, 1024)         4583296     input_3[0][0]                    \n",
            "                                                                 input_4[0][0]                    \n",
            "__________________________________________________________________________________________________\n",
            "lambda_2 (Lambda)               (None, 1024)         0           sequential_2[1][0]               \n",
            "                                                                 sequential_2[2][0]               \n",
            "__________________________________________________________________________________________________\n",
            "dense_4 (Dense)                 (None, 1)            1025        lambda_2[0][0]                   \n",
            "==================================================================================================\n",
            "Total params: 4,584,321\n",
            "Trainable params: 4,575,745\n",
            "Non-trainable params: 8,576\n",
            "__________________________________________________________________________________________________\n"
          ],
          "name": "stdout"
        }
      ]
    },
    {
      "metadata": {
        "id": "s9tZqrvvGEO-",
        "colab_type": "code",
        "colab": {
          "autoexec": {
            "startup": false,
            "wait_interval": 0
          }
        }
      },
      "cell_type": "code",
      "source": [
        "def make_oneshot_task(N, X):\n",
        "    \"\"\"Create pairs of (test image, support set image) with ground truth, for testing N-way one-shot learning.\"\"\"\n",
        "    \n",
        "    # Get shape components\n",
        "    n_classes, n_examples, w, h, d = X.shape\n",
        "    # Create N random indices within a class, from [0, n_examples)\n",
        "    indices = np.random.randint(0, n_examples, size=(N,))\n",
        "    # Fill N different random uniform samples in the range of [0, n_classes)\n",
        "    categories = np.random.choice(range(n_classes), size=(N,), replace=False)            \n",
        "    # The first sample is my point of reference\n",
        "    true_category = categories[0]\n",
        "    # Create 2 random uniform samples from [0, n_examples)\n",
        "    ex1, ex2 = np.random.choice(n_examples, replace=False, size=(2,))\n",
        "    # Get the ex1 in true_category, from X. N indentical samples.\n",
        "    test_image = np.asarray([X[true_category, ex1, :, :]]*N).reshape(N, w, h, d)\n",
        "    # The support contains 1 element per each of the random categories\n",
        "    support_set = X[categories, indices, :, :]\n",
        "    # The first element of the support set is an image of the same true_category\n",
        "    support_set[0, :, :] = X[true_category, ex2]\n",
        "    # Reshape to N-images format\n",
        "    support_set = support_set.reshape(N, w, h, d)\n",
        "    \n",
        "    # N zeros\n",
        "    targets = np.zeros((N,))\n",
        "    # image with itself is a 1 (true)\n",
        "    targets[0] = 1\n",
        "    # Shuffle together the targets, the test_images, and the support set.\n",
        "    targets, test_image, support_set = shuffle(targets, test_image, support_set)\n",
        "    # pairs of test_image, support_set\n",
        "    pairs = [test_image, support_set]\n",
        "    return pairs, targets\n",
        "\n",
        "def test_oneshot(model, X, N=20, k=250, verbose=True):\n",
        "    \"\"\"Test average N-way oneshot learning accuracy of a siamese neural net over k one-shot tasks.\"\"\"\n",
        "    n_correct = 0\n",
        "    if verbose:\n",
        "        print(\"Evaluating model on {} random {}-way one-shot learning tasks ...\".format(k, N))\n",
        "    # we perform the evaluation k times\n",
        "    for i in range(k):\n",
        "        # Create N pairs. One pair is true, others are 0\n",
        "        inputs, targets = make_oneshot_task(N, X)\n",
        "        # Predict all inputs. We would expect at least one to be true.\n",
        "        probs = model.predict(inputs)\n",
        "\n",
        "        if np.argmax(probs) == np.argmax(targets):\n",
        "            n_correct += 1\n",
        "    # Percetage from the k trials\n",
        "    percent_correct = (100.0*n_correct / k)\n",
        "    if verbose:\n",
        "        print(\"Got an average of {}% accuracy for {}-way one-shot learning\".format(percent_correct, N))\n",
        "    return percent_correct"
      ],
      "execution_count": 0,
      "outputs": []
    },
    {
      "metadata": {
        "id": "jp0e5ab2IkXJ",
        "colab_type": "code",
        "colab": {
          "autoexec": {
            "startup": false,
            "wait_interval": 0
          },
          "base_uri": "https://localhost:8080/",
          "height": 17054
        },
        "outputId": "3f1cf6e4-888d-426b-dbac-d4c4b7f785a0",
        "executionInfo": {
          "status": "ok",
          "timestamp": 1523300058479,
          "user_tz": -120,
          "elapsed": 1798706,
          "user": {
            "displayName": "Jorge Gómez",
            "photoUrl": "//lh5.googleusercontent.com/-OHXqZEKFiwY/AAAAAAAAAAI/AAAAAAAAG1Q/EYd5cagCTIo/s50-c-k-no/photo.jpg",
            "userId": "108155755194959101108"
          }
        }
      },
      "cell_type": "code",
      "source": [
        "loops = 200\n",
        "best_acc = 0\n",
        "best_loop = 0\n",
        "for i in range(loops):\n",
        "    print(\"=== Training loop {} ===\".format(i+1))\n",
        "    train(siamese_net, x_train_80, batch_size = 64, steps_per_epoch = 100, epochs = 1)\n",
        "    test_acc = test_oneshot(siamese_net, x_train_20)\n",
        "    if test_acc >= best_acc:\n",
        "        best_acc = test_acc\n",
        "        best_loop = i\n",
        "\n",
        "print(\"Best accuracy obtained in loop {}: {}\".format(best_loop, best_acc))\n"
      ],
      "execution_count": 0,
      "outputs": [
        {
          "output_type": "stream",
          "text": [
            "=== Training loop 1 ===\n",
            "Epoch 1/1\n",
            "100/100 [==============================] - 8s 81ms/step - loss: 13.1377 - acc: 0.5466\n",
            "Evaluating model on 250 random 20-way one-shot learning tasks ...\n",
            "Got an average of 4.4% accuracy for 20-way one-shot learning\n",
            "=== Training loop 2 ===\n",
            "Epoch 1/1\n",
            "100/100 [==============================] - 7s 66ms/step - loss: 0.9348 - acc: 0.5511\n",
            "Evaluating model on 250 random 20-way one-shot learning tasks ...\n",
            "Got an average of 6.8% accuracy for 20-way one-shot learning\n",
            "=== Training loop 3 ===\n",
            "Epoch 1/1\n",
            " 76/100 [=====================>........] - ETA: 1s - loss: 0.7762 - acc: 0.5374"
          ],
          "name": "stdout"
        },
        {
          "output_type": "stream",
          "text": [
            "100/100 [==============================] - 7s 66ms/step - loss: 0.7763 - acc: 0.5403\n",
            "Evaluating model on 250 random 20-way one-shot learning tasks ...\n",
            "Got an average of 7.6% accuracy for 20-way one-shot learning\n",
            "=== Training loop 4 ===\n",
            "Epoch 1/1\n",
            "100/100 [==============================] - 7s 66ms/step - loss: 0.7834 - acc: 0.5542\n",
            "Evaluating model on 250 random 20-way one-shot learning tasks ...\n",
            "Got an average of 5.2% accuracy for 20-way one-shot learning\n",
            "=== Training loop 5 ===\n",
            "Epoch 1/1\n",
            "100/100 [==============================] - 7s 65ms/step - loss: 0.7817 - acc: 0.5569\n",
            "Evaluating model on 250 random 20-way one-shot learning tasks ...\n",
            "Got an average of 10.0% accuracy for 20-way one-shot learning\n",
            "=== Training loop 6 ===\n",
            "Epoch 1/1\n",
            "  3/100 [..............................] - ETA: 6s - loss: 0.7917 - acc: 0.5312"
          ],
          "name": "stdout"
        },
        {
          "output_type": "stream",
          "text": [
            "100/100 [==============================] - 7s 66ms/step - loss: 0.7879 - acc: 0.5575\n",
            "Evaluating model on 250 random 20-way one-shot learning tasks ...\n",
            "Got an average of 9.2% accuracy for 20-way one-shot learning\n",
            "=== Training loop 7 ===\n",
            "Epoch 1/1\n",
            "100/100 [==============================] - 7s 66ms/step - loss: 0.7897 - acc: 0.5544\n",
            "Evaluating model on 250 random 20-way one-shot learning tasks ...\n",
            "Got an average of 11.2% accuracy for 20-way one-shot learning\n",
            "=== Training loop 8 ===\n",
            "Epoch 1/1\n",
            " 93/100 [==========================>...] - ETA: 0s - loss: 0.7877 - acc: 0.5534"
          ],
          "name": "stdout"
        },
        {
          "output_type": "stream",
          "text": [
            "100/100 [==============================] - 7s 66ms/step - loss: 0.7872 - acc: 0.5522\n",
            "Evaluating model on 250 random 20-way one-shot learning tasks ...\n",
            "Got an average of 8.4% accuracy for 20-way one-shot learning\n",
            "=== Training loop 9 ===\n",
            "Epoch 1/1\n",
            "100/100 [==============================] - 7s 66ms/step - loss: 0.7917 - acc: 0.5689\n",
            "Evaluating model on 250 random 20-way one-shot learning tasks ...\n",
            "Got an average of 11.2% accuracy for 20-way one-shot learning\n",
            "=== Training loop 10 ===\n",
            "Epoch 1/1\n",
            "100/100 [==============================] - 7s 66ms/step - loss: 0.7975 - acc: 0.5625\n",
            "Evaluating model on 250 random 20-way one-shot learning tasks ...\n",
            "Got an average of 9.6% accuracy for 20-way one-shot learning\n",
            "=== Training loop 11 ===\n",
            "Epoch 1/1\n",
            "  4/100 [>.............................] - ETA: 6s - loss: 0.8077 - acc: 0.5742"
          ],
          "name": "stdout"
        },
        {
          "output_type": "stream",
          "text": [
            "100/100 [==============================] - 7s 66ms/step - loss: 0.7855 - acc: 0.5698\n",
            "Evaluating model on 250 random 20-way one-shot learning tasks ...\n",
            "Got an average of 8.8% accuracy for 20-way one-shot learning\n",
            "=== Training loop 12 ===\n",
            "Epoch 1/1\n",
            "100/100 [==============================] - 7s 66ms/step - loss: 0.7853 - acc: 0.5636\n",
            "Evaluating model on 250 random 20-way one-shot learning tasks ...\n",
            "Got an average of 10.8% accuracy for 20-way one-shot learning\n",
            "=== Training loop 13 ===\n",
            "Epoch 1/1\n",
            " 98/100 [============================>.] - ETA: 0s - loss: 0.7884 - acc: 0.5620"
          ],
          "name": "stdout"
        },
        {
          "output_type": "stream",
          "text": [
            "100/100 [==============================] - 7s 66ms/step - loss: 0.7885 - acc: 0.5613\n",
            "Evaluating model on 250 random 20-way one-shot learning tasks ...\n",
            "Got an average of 11.2% accuracy for 20-way one-shot learning\n",
            "=== Training loop 14 ===\n",
            "Epoch 1/1\n",
            "100/100 [==============================] - 7s 66ms/step - loss: 0.7829 - acc: 0.5737\n",
            "Evaluating model on 250 random 20-way one-shot learning tasks ...\n",
            "Got an average of 6.0% accuracy for 20-way one-shot learning\n",
            "=== Training loop 15 ===\n",
            "Epoch 1/1\n",
            "100/100 [==============================] - 7s 66ms/step - loss: 0.7873 - acc: 0.5641\n",
            "Evaluating model on 250 random 20-way one-shot learning tasks ...\n",
            "Got an average of 7.6% accuracy for 20-way one-shot learning\n",
            "=== Training loop 16 ===\n",
            "Epoch 1/1\n",
            "  9/100 [=>............................] - ETA: 6s - loss: 0.7981 - acc: 0.6042"
          ],
          "name": "stdout"
        },
        {
          "output_type": "stream",
          "text": [
            "100/100 [==============================] - 7s 66ms/step - loss: 0.7865 - acc: 0.5819\n",
            "Evaluating model on 250 random 20-way one-shot learning tasks ...\n",
            "Got an average of 8.0% accuracy for 20-way one-shot learning\n",
            "=== Training loop 17 ===\n",
            "Epoch 1/1\n",
            "100/100 [==============================] - 7s 67ms/step - loss: 0.7928 - acc: 0.5692\n",
            "Evaluating model on 250 random 20-way one-shot learning tasks ...\n",
            "Got an average of 9.6% accuracy for 20-way one-shot learning\n",
            "=== Training loop 18 ===\n",
            "Epoch 1/1\n",
            " 92/100 [==========================>...] - ETA: 0s - loss: 0.7943 - acc: 0.5744"
          ],
          "name": "stdout"
        },
        {
          "output_type": "stream",
          "text": [
            "100/100 [==============================] - 7s 66ms/step - loss: 0.7927 - acc: 0.5758\n",
            "Evaluating model on 250 random 20-way one-shot learning tasks ...\n",
            "Got an average of 9.6% accuracy for 20-way one-shot learning\n",
            "=== Training loop 19 ===\n",
            "Epoch 1/1\n",
            "100/100 [==============================] - 7s 66ms/step - loss: 0.7934 - acc: 0.5739\n",
            "Evaluating model on 250 random 20-way one-shot learning tasks ...\n",
            "Got an average of 6.8% accuracy for 20-way one-shot learning\n",
            "=== Training loop 20 ===\n",
            "Epoch 1/1\n",
            "100/100 [==============================] - 7s 66ms/step - loss: 0.7940 - acc: 0.5730\n",
            "Evaluating model on 250 random 20-way one-shot learning tasks ...\n",
            "Got an average of 7.2% accuracy for 20-way one-shot learning\n",
            "=== Training loop 21 ===\n",
            "Epoch 1/1\n",
            "  4/100 [>.............................] - ETA: 6s - loss: 0.8049 - acc: 0.5742"
          ],
          "name": "stdout"
        },
        {
          "output_type": "stream",
          "text": [
            "100/100 [==============================] - 7s 66ms/step - loss: 0.8020 - acc: 0.5683\n",
            "Evaluating model on 250 random 20-way one-shot learning tasks ...\n",
            "Got an average of 10.8% accuracy for 20-way one-shot learning\n",
            "=== Training loop 22 ===\n",
            "Epoch 1/1\n",
            "100/100 [==============================] - 7s 66ms/step - loss: 0.8111 - acc: 0.5666\n",
            "Evaluating model on 250 random 20-way one-shot learning tasks ...\n",
            "Got an average of 8.8% accuracy for 20-way one-shot learning\n",
            "=== Training loop 23 ===\n",
            "Epoch 1/1\n",
            " 91/100 [==========================>...] - ETA: 0s - loss: 0.7970 - acc: 0.5695\b\b\b\b\b\b\b\b\b\b\b\b\b\b\b\b\b\b\b\b\b\b\b\b\b\b\b\b\b\b\b\b\b\b\b\b\b\b\b\b\b\b\b\b\b\b\b\b\b\b\b\b\b\b\b\b\b\b\b\b\b\b\b\b\b\b\b\b\b\b\b\b\b\b\b\b\b\b\b"
          ],
          "name": "stdout"
        },
        {
          "output_type": "stream",
          "text": [
            "100/100 [==============================] - 7s 66ms/step - loss: 0.7974 - acc: 0.5684\n",
            "Evaluating model on 250 random 20-way one-shot learning tasks ...\n",
            "Got an average of 7.2% accuracy for 20-way one-shot learning\n",
            "=== Training loop 24 ===\n",
            "Epoch 1/1\n",
            "100/100 [==============================] - 7s 66ms/step - loss: 0.7996 - acc: 0.5900\n",
            "Evaluating model on 250 random 20-way one-shot learning tasks ...\n",
            "Got an average of 9.6% accuracy for 20-way one-shot learning\n",
            "=== Training loop 25 ===\n",
            "Epoch 1/1\n",
            "100/100 [==============================] - 7s 66ms/step - loss: 0.7932 - acc: 0.5709\n",
            "Evaluating model on 250 random 20-way one-shot learning tasks ...\n",
            "Got an average of 8.4% accuracy for 20-way one-shot learning\n",
            "=== Training loop 26 ===\n",
            "Epoch 1/1\n",
            "  6/100 [>.............................] - ETA: 6s - loss: 0.7881 - acc: 0.5339"
          ],
          "name": "stdout"
        },
        {
          "output_type": "stream",
          "text": [
            "100/100 [==============================] - 7s 66ms/step - loss: 0.7913 - acc: 0.5759\n",
            "Evaluating model on 250 random 20-way one-shot learning tasks ...\n",
            "Got an average of 6.8% accuracy for 20-way one-shot learning\n",
            "=== Training loop 27 ===\n",
            "Epoch 1/1\n",
            "100/100 [==============================] - 7s 66ms/step - loss: 0.7973 - acc: 0.5742\n",
            "Evaluating model on 250 random 20-way one-shot learning tasks ...\n",
            "Got an average of 6.8% accuracy for 20-way one-shot learning\n",
            "=== Training loop 28 ===\n",
            "Epoch 1/1\n",
            " 96/100 [===========================>..] - ETA: 0s - loss: 0.7993 - acc: 0.5666"
          ],
          "name": "stdout"
        },
        {
          "output_type": "stream",
          "text": [
            "100/100 [==============================] - 7s 66ms/step - loss: 0.7988 - acc: 0.5672\n",
            "Evaluating model on 250 random 20-way one-shot learning tasks ...\n",
            "Got an average of 9.6% accuracy for 20-way one-shot learning\n",
            "=== Training loop 29 ===\n",
            "Epoch 1/1\n",
            "100/100 [==============================] - 7s 66ms/step - loss: 0.7908 - acc: 0.5731\n",
            "Evaluating model on 250 random 20-way one-shot learning tasks ...\n",
            "Got an average of 8.4% accuracy for 20-way one-shot learning\n",
            "=== Training loop 30 ===\n",
            "Epoch 1/1\n",
            "100/100 [==============================] - 7s 66ms/step - loss: 0.7886 - acc: 0.5825\n",
            "Evaluating model on 250 random 20-way one-shot learning tasks ...\n",
            "Got an average of 7.2% accuracy for 20-way one-shot learning\n",
            "=== Training loop 31 ===\n",
            "Epoch 1/1\n",
            "  6/100 [>.............................] - ETA: 6s - loss: 0.7992 - acc: 0.6068"
          ],
          "name": "stdout"
        },
        {
          "output_type": "stream",
          "text": [
            "100/100 [==============================] - 7s 67ms/step - loss: 0.7928 - acc: 0.5856\n",
            "Evaluating model on 250 random 20-way one-shot learning tasks ...\n",
            "Got an average of 10.0% accuracy for 20-way one-shot learning\n",
            "=== Training loop 32 ===\n",
            "Epoch 1/1\n",
            "100/100 [==============================] - 7s 66ms/step - loss: 0.7927 - acc: 0.5842\n",
            "Evaluating model on 250 random 20-way one-shot learning tasks ...\n",
            "Got an average of 10.0% accuracy for 20-way one-shot learning\n",
            "=== Training loop 33 ===\n",
            "Epoch 1/1\n",
            " 94/100 [===========================>..] - ETA: 0s - loss: 0.7970 - acc: 0.5708"
          ],
          "name": "stdout"
        },
        {
          "output_type": "stream",
          "text": [
            "100/100 [==============================] - 7s 66ms/step - loss: 0.7989 - acc: 0.5697\n",
            "Evaluating model on 250 random 20-way one-shot learning tasks ...\n",
            "Got an average of 11.6% accuracy for 20-way one-shot learning\n",
            "=== Training loop 34 ===\n",
            "Epoch 1/1\n",
            "100/100 [==============================] - 7s 66ms/step - loss: 0.7904 - acc: 0.5791\n",
            "Evaluating model on 250 random 20-way one-shot learning tasks ...\n",
            "Got an average of 13.6% accuracy for 20-way one-shot learning\n",
            "=== Training loop 35 ===\n",
            "Epoch 1/1\n",
            "100/100 [==============================] - 7s 66ms/step - loss: 0.7905 - acc: 0.5711\n",
            "Evaluating model on 250 random 20-way one-shot learning tasks ...\n",
            "Got an average of 10.4% accuracy for 20-way one-shot learning\n",
            "=== Training loop 36 ===\n",
            "Epoch 1/1\n",
            "  6/100 [>.............................] - ETA: 6s - loss: 0.8010 - acc: 0.5781"
          ],
          "name": "stdout"
        },
        {
          "output_type": "stream",
          "text": [
            "100/100 [==============================] - 7s 66ms/step - loss: 0.7869 - acc: 0.5727\n",
            "Evaluating model on 250 random 20-way one-shot learning tasks ...\n",
            "Got an average of 13.6% accuracy for 20-way one-shot learning\n",
            "=== Training loop 37 ===\n",
            "Epoch 1/1\n",
            "100/100 [==============================] - 7s 66ms/step - loss: 0.7880 - acc: 0.5777\n",
            "Evaluating model on 250 random 20-way one-shot learning tasks ...\n",
            "Got an average of 10.8% accuracy for 20-way one-shot learning\n",
            "=== Training loop 38 ===\n",
            "Epoch 1/1\n",
            " 91/100 [==========================>...] - ETA: 0s - loss: 0.7798 - acc: 0.5778"
          ],
          "name": "stdout"
        },
        {
          "output_type": "stream",
          "text": [
            "100/100 [==============================] - 7s 66ms/step - loss: 0.7832 - acc: 0.5773\n",
            "Evaluating model on 250 random 20-way one-shot learning tasks ...\n",
            "Got an average of 9.2% accuracy for 20-way one-shot learning\n",
            "=== Training loop 39 ===\n",
            "Epoch 1/1\n",
            "100/100 [==============================] - 7s 66ms/step - loss: 0.7868 - acc: 0.5825\n",
            "Evaluating model on 250 random 20-way one-shot learning tasks ...\n",
            "Got an average of 13.2% accuracy for 20-way one-shot learning\n",
            "=== Training loop 40 ===\n",
            "Epoch 1/1\n",
            "100/100 [==============================] - 7s 66ms/step - loss: 0.7988 - acc: 0.5683\n",
            "Evaluating model on 250 random 20-way one-shot learning tasks ...\n",
            "Got an average of 10.8% accuracy for 20-way one-shot learning\n",
            "=== Training loop 41 ===\n",
            "Epoch 1/1\n",
            "  5/100 [>.............................] - ETA: 6s - loss: 0.8033 - acc: 0.5563"
          ],
          "name": "stdout"
        },
        {
          "output_type": "stream",
          "text": [
            "100/100 [==============================] - 7s 66ms/step - loss: 0.7920 - acc: 0.5752\n",
            "Evaluating model on 250 random 20-way one-shot learning tasks ...\n",
            "Got an average of 8.4% accuracy for 20-way one-shot learning\n",
            "=== Training loop 42 ===\n",
            "Epoch 1/1\n",
            "100/100 [==============================] - 7s 66ms/step - loss: 0.7864 - acc: 0.5717\n",
            "Evaluating model on 250 random 20-way one-shot learning tasks ...\n",
            "Got an average of 11.6% accuracy for 20-way one-shot learning\n",
            "=== Training loop 43 ===\n",
            "Epoch 1/1\n",
            " 94/100 [===========================>..] - ETA: 0s - loss: 0.7887 - acc: 0.5819"
          ],
          "name": "stdout"
        },
        {
          "output_type": "stream",
          "text": [
            "100/100 [==============================] - 7s 66ms/step - loss: 0.7883 - acc: 0.5817\n",
            "Evaluating model on 250 random 20-way one-shot learning tasks ...\n",
            "Got an average of 9.2% accuracy for 20-way one-shot learning\n",
            "=== Training loop 44 ===\n",
            "Epoch 1/1\n",
            "100/100 [==============================] - 7s 66ms/step - loss: 0.8019 - acc: 0.5773\n",
            "Evaluating model on 250 random 20-way one-shot learning tasks ...\n",
            "Got an average of 9.2% accuracy for 20-way one-shot learning\n",
            "=== Training loop 45 ===\n",
            "Epoch 1/1\n",
            "100/100 [==============================] - 7s 66ms/step - loss: 0.7928 - acc: 0.5709\n",
            "Evaluating model on 250 random 20-way one-shot learning tasks ...\n",
            "Got an average of 9.2% accuracy for 20-way one-shot learning\n",
            "=== Training loop 46 ===\n",
            "Epoch 1/1\n",
            "  4/100 [>.............................] - ETA: 6s - loss: 0.7318 - acc: 0.6367"
          ],
          "name": "stdout"
        },
        {
          "output_type": "stream",
          "text": [
            "100/100 [==============================] - 7s 67ms/step - loss: 0.8108 - acc: 0.5802\n",
            "Evaluating model on 250 random 20-way one-shot learning tasks ...\n",
            "Got an average of 6.0% accuracy for 20-way one-shot learning\n",
            "=== Training loop 47 ===\n",
            "Epoch 1/1\n",
            "100/100 [==============================] - 7s 66ms/step - loss: 0.7863 - acc: 0.5891\n",
            "Evaluating model on 250 random 20-way one-shot learning tasks ...\n",
            "Got an average of 10.8% accuracy for 20-way one-shot learning\n",
            "=== Training loop 48 ===\n",
            "Epoch 1/1\n",
            " 94/100 [===========================>..] - ETA: 0s - loss: 0.7964 - acc: 0.5888"
          ],
          "name": "stdout"
        },
        {
          "output_type": "stream",
          "text": [
            "100/100 [==============================] - 7s 66ms/step - loss: 0.7974 - acc: 0.5858\n",
            "Evaluating model on 250 random 20-way one-shot learning tasks ...\n",
            "Got an average of 9.6% accuracy for 20-way one-shot learning\n",
            "=== Training loop 49 ===\n",
            "Epoch 1/1\n",
            "100/100 [==============================] - 7s 66ms/step - loss: 0.7946 - acc: 0.5848\n",
            "Evaluating model on 250 random 20-way one-shot learning tasks ...\n",
            "Got an average of 7.6% accuracy for 20-way one-shot learning\n",
            "=== Training loop 50 ===\n",
            "Epoch 1/1\n",
            " 98/100 [============================>.] - ETA: 0s - loss: 0.7926 - acc: 0.5730"
          ],
          "name": "stdout"
        },
        {
          "output_type": "stream",
          "text": [
            "100/100 [==============================] - 7s 66ms/step - loss: 0.7928 - acc: 0.5730\n",
            "Evaluating model on 250 random 20-way one-shot learning tasks ...\n",
            "Got an average of 10.0% accuracy for 20-way one-shot learning\n",
            "=== Training loop 51 ===\n",
            "Epoch 1/1\n",
            "100/100 [==============================] - 7s 66ms/step - loss: 0.7851 - acc: 0.5864\n",
            "Evaluating model on 250 random 20-way one-shot learning tasks ...\n",
            "Got an average of 8.4% accuracy for 20-way one-shot learning\n",
            "=== Training loop 52 ===\n",
            "Epoch 1/1\n",
            "100/100 [==============================] - 7s 66ms/step - loss: 0.7826 - acc: 0.5802\n",
            "Evaluating model on 250 random 20-way one-shot learning tasks ...\n",
            "Got an average of 12.0% accuracy for 20-way one-shot learning\n",
            "=== Training loop 53 ===\n",
            "Epoch 1/1\n",
            "  3/100 [..............................] - ETA: 6s - loss: 0.7978 - acc: 0.5573"
          ],
          "name": "stdout"
        },
        {
          "output_type": "stream",
          "text": [
            "100/100 [==============================] - 7s 66ms/step - loss: 0.7876 - acc: 0.5805\n",
            "Evaluating model on 250 random 20-way one-shot learning tasks ...\n",
            "Got an average of 9.2% accuracy for 20-way one-shot learning\n",
            "=== Training loop 54 ===\n",
            "Epoch 1/1\n",
            "100/100 [==============================] - 7s 66ms/step - loss: 0.7903 - acc: 0.5828\n",
            "Evaluating model on 250 random 20-way one-shot learning tasks ...\n",
            "Got an average of 9.6% accuracy for 20-way one-shot learning\n",
            "=== Training loop 55 ===\n",
            "Epoch 1/1\n",
            " 97/100 [============================>.] - ETA: 0s - loss: 0.7865 - acc: 0.5726"
          ],
          "name": "stdout"
        },
        {
          "output_type": "stream",
          "text": [
            "100/100 [==============================] - 7s 66ms/step - loss: 0.7875 - acc: 0.5719\n",
            "Evaluating model on 250 random 20-way one-shot learning tasks ...\n",
            "Got an average of 9.2% accuracy for 20-way one-shot learning\n",
            "=== Training loop 56 ===\n",
            "Epoch 1/1\n",
            "100/100 [==============================] - 7s 66ms/step - loss: 0.7907 - acc: 0.5730\n",
            "Evaluating model on 250 random 20-way one-shot learning tasks ...\n",
            "Got an average of 7.6% accuracy for 20-way one-shot learning\n",
            "=== Training loop 57 ===\n",
            "Epoch 1/1\n",
            "100/100 [==============================] - 7s 65ms/step - loss: 0.7802 - acc: 0.5752\n",
            "Evaluating model on 250 random 20-way one-shot learning tasks ...\n",
            "Got an average of 9.2% accuracy for 20-way one-shot learning\n",
            "=== Training loop 58 ===\n",
            "Epoch 1/1\n",
            "  6/100 [>.............................] - ETA: 6s - loss: 0.7928 - acc: 0.5599"
          ],
          "name": "stdout"
        },
        {
          "output_type": "stream",
          "text": [
            "100/100 [==============================] - 7s 66ms/step - loss: 0.7952 - acc: 0.5795\n",
            "Evaluating model on 250 random 20-way one-shot learning tasks ...\n",
            "Got an average of 8.8% accuracy for 20-way one-shot learning\n",
            "=== Training loop 59 ===\n",
            "Epoch 1/1\n",
            "100/100 [==============================] - 7s 66ms/step - loss: 0.7767 - acc: 0.5727\n",
            "Evaluating model on 250 random 20-way one-shot learning tasks ...\n",
            "Got an average of 12.0% accuracy for 20-way one-shot learning\n",
            "=== Training loop 60 ===\n",
            "Epoch 1/1\n",
            "100/100 [==============================] - 6s 65ms/step - loss: 0.7894 - acc: 0.5891\n"
          ],
          "name": "stdout"
        },
        {
          "output_type": "stream",
          "text": [
            "Evaluating model on 250 random 20-way one-shot learning tasks ...\n",
            "Got an average of 7.2% accuracy for 20-way one-shot learning\n",
            "=== Training loop 61 ===\n",
            "Epoch 1/1\n",
            "100/100 [==============================] - 7s 66ms/step - loss: 0.8012 - acc: 0.5725\n",
            "Evaluating model on 250 random 20-way one-shot learning tasks ...\n",
            "Got an average of 7.6% accuracy for 20-way one-shot learning\n",
            "=== Training loop 62 ===\n",
            "Epoch 1/1\n",
            "100/100 [==============================] - 7s 65ms/step - loss: 0.7897 - acc: 0.5891\n",
            "Evaluating model on 250 random 20-way one-shot learning tasks ...\n",
            "Got an average of 11.2% accuracy for 20-way one-shot learning\n",
            "=== Training loop 63 ===\n",
            "Epoch 1/1\n",
            " 30/100 [========>.....................] - ETA: 4s - loss: 0.7767 - acc: 0.5818"
          ],
          "name": "stdout"
        },
        {
          "output_type": "stream",
          "text": [
            "100/100 [==============================] - 7s 66ms/step - loss: 0.7778 - acc: 0.5845\n",
            "Evaluating model on 250 random 20-way one-shot learning tasks ...\n",
            "Got an average of 8.0% accuracy for 20-way one-shot learning\n",
            "=== Training loop 64 ===\n",
            "Epoch 1/1\n",
            "100/100 [==============================] - 7s 66ms/step - loss: 0.7813 - acc: 0.5863\n",
            "Evaluating model on 250 random 20-way one-shot learning tasks ...\n",
            "Got an average of 6.0% accuracy for 20-way one-shot learning\n",
            "=== Training loop 65 ===\n",
            "Epoch 1/1\n",
            " 99/100 [============================>.] - ETA: 0s - loss: 0.8020 - acc: 0.5682"
          ],
          "name": "stdout"
        },
        {
          "output_type": "stream",
          "text": [
            "\b\b\b\b\b\b\b\b\b\b\b\b\b\b\b\b\b\b\b\b\b\b\b\b\b\b\b\b\b\b\b\b\b\b\b\b\b\b\b\b\b\b\b\b\b\b\b\b\b\b\b\b\b\b\b\b\b\b\b\b\b\b\b\b\b\b\b\b\b\b\b\b\b\b\b\b\b\b\b\r100/100 [==============================] - 7s 66ms/step - loss: 0.8021 - acc: 0.5684\n",
            "Evaluating model on 250 random 20-way one-shot learning tasks ...\n",
            "Got an average of 5.6% accuracy for 20-way one-shot learning\n",
            "=== Training loop 66 ===\n",
            "Epoch 1/1\n",
            "100/100 [==============================] - 7s 67ms/step - loss: 0.7877 - acc: 0.5844\n",
            "Evaluating model on 250 random 20-way one-shot learning tasks ...\n",
            "Got an average of 7.6% accuracy for 20-way one-shot learning\n",
            "=== Training loop 67 ===\n",
            "Epoch 1/1\n",
            " 80/100 [=======================>......] - ETA: 1s - loss: 0.7947 - acc: 0.5756"
          ],
          "name": "stdout"
        },
        {
          "output_type": "stream",
          "text": [
            "100/100 [==============================] - 7s 66ms/step - loss: 0.7901 - acc: 0.5742\n",
            "Evaluating model on 250 random 20-way one-shot learning tasks ...\n",
            "Got an average of 11.2% accuracy for 20-way one-shot learning\n",
            "=== Training loop 68 ===\n",
            "Epoch 1/1\n",
            "100/100 [==============================] - 7s 66ms/step - loss: 0.7945 - acc: 0.5764\n",
            "Evaluating model on 250 random 20-way one-shot learning tasks ...\n",
            "Got an average of 8.8% accuracy for 20-way one-shot learning\n",
            "=== Training loop 69 ===\n",
            "Epoch 1/1\n",
            "100/100 [==============================] - 7s 67ms/step - loss: 0.7961 - acc: 0.5731\n",
            "Evaluating model on 250 random 20-way one-shot learning tasks ...\n",
            "Got an average of 16.8% accuracy for 20-way one-shot learning\n",
            "=== Training loop 70 ===\n",
            "Epoch 1/1\n",
            "  2/100 [..............................] - ETA: 7s - loss: 0.8004 - acc: 0.5625"
          ],
          "name": "stdout"
        },
        {
          "output_type": "stream",
          "text": [
            "100/100 [==============================] - 7s 66ms/step - loss: 0.7937 - acc: 0.5728\n",
            "Evaluating model on 250 random 20-way one-shot learning tasks ...\n",
            "Got an average of 10.0% accuracy for 20-way one-shot learning\n",
            "=== Training loop 71 ===\n",
            "Epoch 1/1\n",
            "100/100 [==============================] - 7s 66ms/step - loss: 0.7956 - acc: 0.5748\n",
            "Evaluating model on 250 random 20-way one-shot learning tasks ...\n",
            "Got an average of 11.6% accuracy for 20-way one-shot learning\n",
            "=== Training loop 72 ===\n",
            "Epoch 1/1\n",
            " 91/100 [==========================>...] - ETA: 0s - loss: 0.7939 - acc: 0.5749"
          ],
          "name": "stdout"
        },
        {
          "output_type": "stream",
          "text": [
            "100/100 [==============================] - 7s 67ms/step - loss: 0.7922 - acc: 0.5739\n",
            "Evaluating model on 250 random 20-way one-shot learning tasks ...\n",
            "Got an average of 12.4% accuracy for 20-way one-shot learning\n",
            "=== Training loop 73 ===\n",
            "Epoch 1/1\n",
            "100/100 [==============================] - 7s 66ms/step - loss: 0.7908 - acc: 0.5959\n",
            "Evaluating model on 250 random 20-way one-shot learning tasks ...\n",
            "Got an average of 8.0% accuracy for 20-way one-shot learning\n",
            "=== Training loop 74 ===\n",
            "Epoch 1/1\n",
            "100/100 [==============================] - 7s 66ms/step - loss: 0.7991 - acc: 0.5841\n",
            "Evaluating model on 250 random 20-way one-shot learning tasks ...\n",
            "Got an average of 13.2% accuracy for 20-way one-shot learning\n",
            "=== Training loop 75 ===\n",
            "Epoch 1/1\n",
            "  6/100 [>.............................] - ETA: 6s - loss: 0.7659 - acc: 0.6016"
          ],
          "name": "stdout"
        },
        {
          "output_type": "stream",
          "text": [
            "100/100 [==============================] - 7s 66ms/step - loss: 0.7934 - acc: 0.5906\n",
            "Evaluating model on 250 random 20-way one-shot learning tasks ...\n",
            "Got an average of 8.8% accuracy for 20-way one-shot learning\n",
            "=== Training loop 76 ===\n",
            "Epoch 1/1\n",
            "100/100 [==============================] - 7s 66ms/step - loss: 0.8054 - acc: 0.5847\n",
            "Evaluating model on 250 random 20-way one-shot learning tasks ...\n",
            "Got an average of 8.4% accuracy for 20-way one-shot learning\n",
            "=== Training loop 77 ===\n",
            "Epoch 1/1\n",
            " 96/100 [===========================>..] - ETA: 0s - loss: 0.7998 - acc: 0.5864"
          ],
          "name": "stdout"
        },
        {
          "output_type": "stream",
          "text": [
            "100/100 [==============================] - 7s 66ms/step - loss: 0.8013 - acc: 0.5853\n",
            "Evaluating model on 250 random 20-way one-shot learning tasks ...\n",
            "Got an average of 8.0% accuracy for 20-way one-shot learning\n",
            "=== Training loop 78 ===\n",
            "Epoch 1/1\n",
            "100/100 [==============================] - 7s 66ms/step - loss: 0.7936 - acc: 0.5905\n",
            "Evaluating model on 250 random 20-way one-shot learning tasks ...\n",
            "Got an average of 8.8% accuracy for 20-way one-shot learning\n",
            "=== Training loop 79 ===\n",
            "Epoch 1/1\n",
            "100/100 [==============================] - 7s 67ms/step - loss: 0.7963 - acc: 0.5923\n",
            "Evaluating model on 250 random 20-way one-shot learning tasks ...\n"
          ],
          "name": "stdout"
        },
        {
          "output_type": "stream",
          "text": [
            "Got an average of 9.2% accuracy for 20-way one-shot learning\n",
            "=== Training loop 80 ===\n",
            "Epoch 1/1\n",
            "100/100 [==============================] - 7s 67ms/step - loss: 0.8021 - acc: 0.5962\n",
            "Evaluating model on 250 random 20-way one-shot learning tasks ...\n",
            "Got an average of 8.0% accuracy for 20-way one-shot learning\n",
            "=== Training loop 81 ===\n",
            "Epoch 1/1\n",
            "100/100 [==============================] - 7s 67ms/step - loss: 0.8013 - acc: 0.5831\n",
            "Evaluating model on 250 random 20-way one-shot learning tasks ...\n",
            "Got an average of 10.8% accuracy for 20-way one-shot learning\n",
            "=== Training loop 82 ===\n",
            "Epoch 1/1\n",
            " 49/100 [=============>................] - ETA: 3s - loss: 0.7947 - acc: 0.6008"
          ],
          "name": "stdout"
        },
        {
          "output_type": "stream",
          "text": [
            "100/100 [==============================] - 7s 65ms/step - loss: 0.8014 - acc: 0.6009\n",
            "Evaluating model on 250 random 20-way one-shot learning tasks ...\n",
            "Got an average of 12.4% accuracy for 20-way one-shot learning\n",
            "=== Training loop 83 ===\n",
            "Epoch 1/1\n",
            "100/100 [==============================] - 7s 66ms/step - loss: 0.8117 - acc: 0.5914\n",
            "Evaluating model on 250 random 20-way one-shot learning tasks ...\n",
            "Got an average of 10.0% accuracy for 20-way one-shot learning\n",
            "=== Training loop 84 ===\n",
            "Epoch 1/1\n",
            " 97/100 [============================>.] - ETA: 0s - loss: 0.8099 - acc: 0.5847"
          ],
          "name": "stdout"
        },
        {
          "output_type": "stream",
          "text": [
            "100/100 [==============================] - 7s 66ms/step - loss: 0.8107 - acc: 0.5852\n",
            "Evaluating model on 250 random 20-way one-shot learning tasks ...\n",
            "Got an average of 9.6% accuracy for 20-way one-shot learning\n",
            "=== Training loop 85 ===\n",
            "Epoch 1/1\n",
            "100/100 [==============================] - 6s 65ms/step - loss: 0.8046 - acc: 0.5977\n",
            "Evaluating model on 250 random 20-way one-shot learning tasks ...\n",
            "Got an average of 6.8% accuracy for 20-way one-shot learning\n",
            "=== Training loop 86 ===\n",
            "Epoch 1/1\n",
            "100/100 [==============================] - 6s 64ms/step - loss: 0.8005 - acc: 0.5869\n",
            "Evaluating model on 250 random 20-way one-shot learning tasks ...\n",
            "Got an average of 10.8% accuracy for 20-way one-shot learning\n",
            "=== Training loop 87 ===\n",
            "Epoch 1/1\n",
            "  8/100 [=>............................] - ETA: 5s - loss: 0.7932 - acc: 0.5527"
          ],
          "name": "stdout"
        },
        {
          "output_type": "stream",
          "text": [
            "100/100 [==============================] - 7s 65ms/step - loss: 0.8008 - acc: 0.5927\n",
            "Evaluating model on 250 random 20-way one-shot learning tasks ...\n",
            "Got an average of 11.2% accuracy for 20-way one-shot learning\n",
            "=== Training loop 88 ===\n",
            "Epoch 1/1\n",
            "100/100 [==============================] - 7s 65ms/step - loss: 0.7999 - acc: 0.5941\n",
            "Evaluating model on 250 random 20-way one-shot learning tasks ...\n",
            "Got an average of 9.6% accuracy for 20-way one-shot learning\n",
            "=== Training loop 89 ===\n",
            "Epoch 1/1\n",
            "100/100 [==============================] - 7s 65ms/step - loss: 0.7924 - acc: 0.5903\n",
            "Evaluating model on 250 random 20-way one-shot learning tasks ...\n"
          ],
          "name": "stdout"
        },
        {
          "output_type": "stream",
          "text": [
            "Got an average of 10.8% accuracy for 20-way one-shot learning\n",
            "=== Training loop 90 ===\n",
            "Epoch 1/1\n",
            "100/100 [==============================] - 7s 66ms/step - loss: 0.8013 - acc: 0.5953\n",
            "Evaluating model on 250 random 20-way one-shot learning tasks ...\n",
            "Got an average of 8.8% accuracy for 20-way one-shot learning\n",
            "=== Training loop 91 ===\n",
            "Epoch 1/1\n",
            "100/100 [==============================] - 7s 67ms/step - loss: 0.8029 - acc: 0.5931\n",
            "Evaluating model on 250 random 20-way one-shot learning tasks ...\n",
            "Got an average of 10.4% accuracy for 20-way one-shot learning\n",
            "=== Training loop 92 ===\n",
            "Epoch 1/1\n",
            " 51/100 [==============>...............] - ETA: 3s - loss: 0.7965 - acc: 0.5971"
          ],
          "name": "stdout"
        },
        {
          "output_type": "stream",
          "text": [
            "100/100 [==============================] - 6s 65ms/step - loss: 0.7962 - acc: 0.5925\n",
            "Evaluating model on 250 random 20-way one-shot learning tasks ...\n",
            "Got an average of 10.8% accuracy for 20-way one-shot learning\n",
            "=== Training loop 93 ===\n",
            "Epoch 1/1\n",
            "100/100 [==============================] - 7s 66ms/step - loss: 0.7927 - acc: 0.5961\n",
            "Evaluating model on 250 random 20-way one-shot learning tasks ...\n",
            "Got an average of 8.8% accuracy for 20-way one-shot learning\n",
            "=== Training loop 94 ===\n",
            "Epoch 1/1\n",
            "100/100 [==============================] - 7s 65ms/step - loss: 0.7995 - acc: 0.5855\n",
            "Evaluating model on 250 random 20-way one-shot learning tasks ..."
          ],
          "name": "stdout"
        },
        {
          "output_type": "stream",
          "text": [
            "\n",
            "Got an average of 9.2% accuracy for 20-way one-shot learning\n",
            "=== Training loop 95 ===\n",
            "Epoch 1/1\n",
            "100/100 [==============================] - 6s 65ms/step - loss: 0.8080 - acc: 0.5953\n",
            "Evaluating model on 250 random 20-way one-shot learning tasks ...\n",
            "Got an average of 13.6% accuracy for 20-way one-shot learning\n",
            "=== Training loop 96 ===\n",
            "Epoch 1/1\n",
            "100/100 [==============================] - 7s 65ms/step - loss: 0.7950 - acc: 0.5864\n",
            "Evaluating model on 250 random 20-way one-shot learning tasks ...\n",
            "Got an average of 11.2% accuracy for 20-way one-shot learning\n",
            "=== Training loop 97 ===\n",
            "Epoch 1/1\n",
            " 53/100 [==============>...............] - ETA: 3s - loss: 0.7850 - acc: 0.5802"
          ],
          "name": "stdout"
        },
        {
          "output_type": "stream",
          "text": [
            "100/100 [==============================] - 6s 65ms/step - loss: 0.7815 - acc: 0.5861\n",
            "Evaluating model on 250 random 20-way one-shot learning tasks ...\n",
            "Got an average of 12.0% accuracy for 20-way one-shot learning\n",
            "=== Training loop 98 ===\n",
            "Epoch 1/1\n",
            "100/100 [==============================] - 7s 65ms/step - loss: 0.7906 - acc: 0.5808\n",
            "Evaluating model on 250 random 20-way one-shot learning tasks ...\n",
            "Got an average of 6.8% accuracy for 20-way one-shot learning\n",
            "=== Training loop 99 ===\n",
            "Epoch 1/1\n",
            "100/100 [==============================] - 6s 65ms/step - loss: 0.7853 - acc: 0.5958\n",
            "Evaluating model on 250 random 20-way one-shot learning tasks ...\n",
            "Got an average of 10.4% accuracy for 20-way one-shot learning\n",
            "=== Training loop 100 ===\n",
            "Epoch 1/1\n",
            "  3/100 [..............................] - ETA: 7s - loss: 0.7865 - acc: 0.6354"
          ],
          "name": "stdout"
        },
        {
          "output_type": "stream",
          "text": [
            "100/100 [==============================] - 6s 65ms/step - loss: 0.8038 - acc: 0.5808\n",
            "Evaluating model on 250 random 20-way one-shot learning tasks ...\n",
            "Got an average of 11.2% accuracy for 20-way one-shot learning\n",
            "=== Training loop 101 ===\n",
            "Epoch 1/1\n",
            "100/100 [==============================] - 7s 66ms/step - loss: 0.7823 - acc: 0.5848\n",
            "Evaluating model on 250 random 20-way one-shot learning tasks ...\n",
            "Got an average of 8.0% accuracy for 20-way one-shot learning\n",
            "=== Training loop 102 ===\n",
            "Epoch 1/1\n",
            " 96/100 [===========================>..] - ETA: 0s - loss: 0.7976 - acc: 0.5926"
          ],
          "name": "stdout"
        },
        {
          "output_type": "stream",
          "text": [
            "100/100 [==============================] - 6s 65ms/step - loss: 0.7988 - acc: 0.5931\n",
            "Evaluating model on 250 random 20-way one-shot learning tasks ...\n",
            "Got an average of 10.0% accuracy for 20-way one-shot learning\n",
            "=== Training loop 103 ===\n",
            "Epoch 1/1\n",
            "100/100 [==============================] - 7s 65ms/step - loss: 0.7933 - acc: 0.5903\n",
            "Evaluating model on 250 random 20-way one-shot learning tasks ...\n",
            "Got an average of 6.4% accuracy for 20-way one-shot learning\n",
            "=== Training loop 104 ===\n",
            "Epoch 1/1\n",
            "100/100 [==============================] - 7s 65ms/step - loss: 0.7823 - acc: 0.5878\n",
            "Evaluating model on 250 random 20-way one-shot learning tasks ...\n",
            "Got an average of 8.8% accuracy for 20-way one-shot learning\n",
            "=== Training loop 105 ===\n",
            "Epoch 1/1\n",
            "  5/100 [>.............................] - ETA: 6s - loss: 0.7643 - acc: 0.5719"
          ],
          "name": "stdout"
        },
        {
          "output_type": "stream",
          "text": [
            "100/100 [==============================] - 7s 66ms/step - loss: 0.7860 - acc: 0.5831\n",
            "Evaluating model on 250 random 20-way one-shot learning tasks ...\n",
            "Got an average of 9.6% accuracy for 20-way one-shot learning\n",
            "=== Training loop 106 ===\n",
            "Epoch 1/1\n",
            "100/100 [==============================] - 7s 65ms/step - loss: 0.7788 - acc: 0.5941\n",
            "Evaluating model on 250 random 20-way one-shot learning tasks ...\n",
            "Got an average of 10.4% accuracy for 20-way one-shot learning\n",
            "=== Training loop 107 ===\n",
            "Epoch 1/1\n",
            " 97/100 [============================>.] - ETA: 0s - loss: 0.7863 - acc: 0.5915"
          ],
          "name": "stdout"
        },
        {
          "output_type": "stream",
          "text": [
            "100/100 [==============================] - 6s 65ms/step - loss: 0.7866 - acc: 0.5911\n",
            "Evaluating model on 250 random 20-way one-shot learning tasks ...\n",
            "Got an average of 8.4% accuracy for 20-way one-shot learning\n",
            "=== Training loop 108 ===\n",
            "Epoch 1/1\n",
            "100/100 [==============================] - 6s 65ms/step - loss: 0.7907 - acc: 0.5908\n",
            "Evaluating model on 250 random 20-way one-shot learning tasks ...\n",
            "Got an average of 10.0% accuracy for 20-way one-shot learning\n",
            "=== Training loop 109 ===\n",
            "Epoch 1/1\n",
            "100/100 [==============================] - 7s 65ms/step - loss: 0.7868 - acc: 0.5981\n",
            "Evaluating model on 250 random 20-way one-shot learning tasks ...\n",
            "Got an average of 11.2% accuracy for 20-way one-shot learning\n",
            "=== Training loop 110 ===\n",
            "Epoch 1/1\n",
            "  8/100 [=>............................] - ETA: 5s - loss: 0.8104 - acc: 0.6074"
          ],
          "name": "stdout"
        },
        {
          "output_type": "stream",
          "text": [
            "100/100 [==============================] - 6s 65ms/step - loss: 0.7967 - acc: 0.5881\n",
            "Evaluating model on 250 random 20-way one-shot learning tasks ...\n",
            "Got an average of 11.2% accuracy for 20-way one-shot learning\n",
            "=== Training loop 111 ===\n",
            "Epoch 1/1\n",
            "100/100 [==============================] - 6s 65ms/step - loss: 0.7948 - acc: 0.5825\n",
            "Evaluating model on 250 random 20-way one-shot learning tasks ...\n",
            "Got an average of 11.2% accuracy for 20-way one-shot learning\n",
            "=== Training loop 112 ===\n",
            "Epoch 1/1\n",
            " 95/100 [===========================>..] - ETA: 0s - loss: 0.7898 - acc: 0.5947"
          ],
          "name": "stdout"
        },
        {
          "output_type": "stream",
          "text": [
            "100/100 [==============================] - 7s 66ms/step - loss: 0.7899 - acc: 0.5933\n",
            "Evaluating model on 250 random 20-way one-shot learning tasks ...\n",
            "Got an average of 11.2% accuracy for 20-way one-shot learning\n",
            "=== Training loop 113 ===\n",
            "Epoch 1/1\n",
            "100/100 [==============================] - 6s 64ms/step - loss: 0.7918 - acc: 0.5891\n",
            "Evaluating model on 250 random 20-way one-shot learning tasks ...\n",
            "Got an average of 8.4% accuracy for 20-way one-shot learning\n",
            "=== Training loop 114 ===\n",
            "Epoch 1/1\n",
            "100/100 [==============================] - 7s 66ms/step - loss: 0.7877 - acc: 0.5938\n",
            "Evaluating model on 250 random 20-way one-shot learning tasks ...\n",
            "Got an average of 10.0% accuracy for 20-way one-shot learning\n",
            "=== Training loop 115 ===\n",
            "Epoch 1/1\n",
            "  4/100 [>.............................] - ETA: 6s - loss: 0.7448 - acc: 0.6328"
          ],
          "name": "stdout"
        },
        {
          "output_type": "stream",
          "text": [
            "100/100 [==============================] - 7s 66ms/step - loss: 0.7932 - acc: 0.5931\n",
            "Evaluating model on 250 random 20-way one-shot learning tasks ...\n",
            "Got an average of 12.4% accuracy for 20-way one-shot learning\n",
            "=== Training loop 116 ===\n",
            "Epoch 1/1\n",
            "100/100 [==============================] - 7s 65ms/step - loss: 0.7975 - acc: 0.5839\n",
            "Evaluating model on 250 random 20-way one-shot learning tasks ...\n",
            "Got an average of 9.6% accuracy for 20-way one-shot learning\n",
            "=== Training loop 117 ===\n",
            "Epoch 1/1\n",
            " 95/100 [===========================>..] - ETA: 0s - loss: 0.7896 - acc: 0.5888"
          ],
          "name": "stdout"
        },
        {
          "output_type": "stream",
          "text": [
            "100/100 [==============================] - 7s 66ms/step - loss: 0.7881 - acc: 0.5922\n",
            "Evaluating model on 250 random 20-way one-shot learning tasks ...\n",
            "Got an average of 9.2% accuracy for 20-way one-shot learning\n",
            "=== Training loop 118 ===\n",
            "Epoch 1/1\n",
            "100/100 [==============================] - 7s 66ms/step - loss: 0.7946 - acc: 0.5842\n",
            "Evaluating model on 250 random 20-way one-shot learning tasks ...\n",
            "Got an average of 9.6% accuracy for 20-way one-shot learning\n",
            "=== Training loop 119 ===\n",
            "Epoch 1/1\n",
            "100/100 [==============================] - 7s 66ms/step - loss: 0.7891 - acc: 0.5995\n",
            "Evaluating model on 250 random 20-way one-shot learning tasks ...\n",
            "Got an average of 10.4% accuracy for 20-way one-shot learning\n",
            "=== Training loop 120 ===\n",
            "Epoch 1/1\n",
            "  3/100 [..............................] - ETA: 6s - loss: 0.7887 - acc: 0.6198"
          ],
          "name": "stdout"
        },
        {
          "output_type": "stream",
          "text": [
            "100/100 [==============================] - 7s 65ms/step - loss: 0.7928 - acc: 0.5831\n",
            "Evaluating model on 250 random 20-way one-shot learning tasks ...\n",
            "Got an average of 13.6% accuracy for 20-way one-shot learning\n",
            "=== Training loop 121 ===\n",
            "Epoch 1/1\n",
            "100/100 [==============================] - 7s 65ms/step - loss: 0.7836 - acc: 0.5869\n",
            "Evaluating model on 250 random 20-way one-shot learning tasks ...\n",
            "Got an average of 8.0% accuracy for 20-way one-shot learning\n",
            "=== Training loop 122 ===\n",
            "Epoch 1/1\n",
            " 93/100 [==========================>...] - ETA: 0s - loss: 0.7886 - acc: 0.5968"
          ],
          "name": "stdout"
        },
        {
          "output_type": "stream",
          "text": [
            "100/100 [==============================] - 7s 65ms/step - loss: 0.7890 - acc: 0.5966\n",
            "Evaluating model on 250 random 20-way one-shot learning tasks ...\n",
            "Got an average of 12.4% accuracy for 20-way one-shot learning\n",
            "=== Training loop 123 ===\n",
            "Epoch 1/1\n",
            "100/100 [==============================] - 6s 64ms/step - loss: 0.7901 - acc: 0.5764\n",
            "Evaluating model on 250 random 20-way one-shot learning tasks ...\n",
            "Got an average of 10.8% accuracy for 20-way one-shot learning\n",
            "=== Training loop 124 ===\n",
            "Epoch 1/1\n",
            "100/100 [==============================] - 6s 64ms/step - loss: 0.7720 - acc: 0.5948\n",
            "Evaluating model on 250 random 20-way one-shot learning tasks ...\n",
            "Got an average of 8.8% accuracy for 20-way one-shot learning\n",
            "=== Training loop 125 ===\n",
            "Epoch 1/1\n",
            "  7/100 [=>............................] - ETA: 6s - loss: 0.7441 - acc: 0.6094"
          ],
          "name": "stdout"
        },
        {
          "output_type": "stream",
          "text": [
            "100/100 [==============================] - 6s 65ms/step - loss: 0.7813 - acc: 0.5989\n",
            "Evaluating model on 250 random 20-way one-shot learning tasks ...\n",
            "Got an average of 8.0% accuracy for 20-way one-shot learning\n",
            "=== Training loop 126 ===\n",
            "Epoch 1/1\n",
            "100/100 [==============================] - 6s 64ms/step - loss: 0.7971 - acc: 0.5892\n",
            "Evaluating model on 250 random 20-way one-shot learning tasks ...\n",
            "Got an average of 8.8% accuracy for 20-way one-shot learning\n",
            "=== Training loop 127 ===\n",
            "Epoch 1/1\n",
            "100/100 [==============================] - 6s 64ms/step - loss: 0.7860 - acc: 0.5866\n"
          ],
          "name": "stdout"
        },
        {
          "output_type": "stream",
          "text": [
            "Evaluating model on 250 random 20-way one-shot learning tasks ...\n",
            "Got an average of 8.4% accuracy for 20-way one-shot learning\n",
            "=== Training loop 128 ===\n",
            "Epoch 1/1\n",
            "100/100 [==============================] - 6s 65ms/step - loss: 0.7845 - acc: 0.5900\n",
            "Evaluating model on 250 random 20-way one-shot learning tasks ...\n",
            "Got an average of 8.8% accuracy for 20-way one-shot learning\n",
            "=== Training loop 129 ===\n",
            "Epoch 1/1\n",
            "100/100 [==============================] - 7s 65ms/step - loss: 0.7907 - acc: 0.5812\n",
            "Evaluating model on 250 random 20-way one-shot learning tasks ...\n",
            "Got an average of 7.2% accuracy for 20-way one-shot learning\n",
            "=== Training loop 130 ===\n",
            "Epoch 1/1\n",
            " 29/100 [=======>......................] - ETA: 4s - loss: 0.7922 - acc: 0.5808"
          ],
          "name": "stdout"
        },
        {
          "output_type": "stream",
          "text": [
            "100/100 [==============================] - 7s 65ms/step - loss: 0.7866 - acc: 0.5848\n",
            "Evaluating model on 250 random 20-way one-shot learning tasks ...\n",
            "Got an average of 10.4% accuracy for 20-way one-shot learning\n",
            "=== Training loop 131 ===\n",
            "Epoch 1/1\n",
            "100/100 [==============================] - 6s 65ms/step - loss: 0.7921 - acc: 0.5889\n",
            "Evaluating model on 250 random 20-way one-shot learning tasks ...\n",
            "Got an average of 6.8% accuracy for 20-way one-shot learning\n",
            "=== Training loop 132 ===\n",
            "Epoch 1/1\n",
            "100/100 [==============================] - 7s 66ms/step - loss: 0.7785 - acc: 0.6027\n"
          ],
          "name": "stdout"
        },
        {
          "output_type": "stream",
          "text": [
            "Evaluating model on 250 random 20-way one-shot learning tasks ...\n",
            "Got an average of 9.2% accuracy for 20-way one-shot learning\n",
            "=== Training loop 133 ===\n",
            "Epoch 1/1\n",
            "100/100 [==============================] - 6s 65ms/step - loss: 0.7768 - acc: 0.5991\n",
            "Evaluating model on 250 random 20-way one-shot learning tasks ...\n",
            "Got an average of 14.4% accuracy for 20-way one-shot learning\n",
            "=== Training loop 134 ===\n",
            "Epoch 1/1\n",
            "100/100 [==============================] - 7s 65ms/step - loss: 0.8039 - acc: 0.5769\n",
            "Evaluating model on 250 random 20-way one-shot learning tasks ...\n",
            "Got an average of 10.8% accuracy for 20-way one-shot learning\n",
            "=== Training loop 135 ===\n",
            "Epoch 1/1\n",
            " 28/100 [=======>......................] - ETA: 4s - loss: 0.7989 - acc: 0.5915"
          ],
          "name": "stdout"
        },
        {
          "output_type": "stream",
          "text": [
            "100/100 [==============================] - 6s 64ms/step - loss: 0.7885 - acc: 0.5837\n",
            "Evaluating model on 250 random 20-way one-shot learning tasks ...\n",
            "Got an average of 10.8% accuracy for 20-way one-shot learning\n",
            "=== Training loop 136 ===\n",
            "Epoch 1/1\n",
            "100/100 [==============================] - 6s 65ms/step - loss: 0.7808 - acc: 0.6005\n",
            "Evaluating model on 250 random 20-way one-shot learning tasks ...\n",
            "Got an average of 12.4% accuracy for 20-way one-shot learning\n",
            "=== Training loop 137 ===\n",
            "Epoch 1/1\n",
            " 94/100 [===========================>..] - ETA: 0s - loss: 0.7732 - acc: 0.5918"
          ],
          "name": "stdout"
        },
        {
          "output_type": "stream",
          "text": [
            "100/100 [==============================] - 7s 65ms/step - loss: 0.7738 - acc: 0.5917\n",
            "Evaluating model on 250 random 20-way one-shot learning tasks ...\n",
            "Got an average of 8.8% accuracy for 20-way one-shot learning\n",
            "=== Training loop 138 ===\n",
            "Epoch 1/1\n",
            "100/100 [==============================] - 6s 65ms/step - loss: 0.7912 - acc: 0.5853\n",
            "Evaluating model on 250 random 20-way one-shot learning tasks ...\n",
            "Got an average of 12.8% accuracy for 20-way one-shot learning\n",
            "=== Training loop 139 ===\n",
            "Epoch 1/1\n",
            "100/100 [==============================] - 7s 65ms/step - loss: 0.7927 - acc: 0.5977\n",
            "Evaluating model on 250 random 20-way one-shot learning tasks ...\n",
            "Got an average of 9.6% accuracy for 20-way one-shot learning\n",
            "=== Training loop 140 ===\n",
            "Epoch 1/1\n",
            "  7/100 [=>............................] - ETA: 6s - loss: 0.7917 - acc: 0.5826"
          ],
          "name": "stdout"
        },
        {
          "output_type": "stream",
          "text": [
            "100/100 [==============================] - 6s 65ms/step - loss: 0.7927 - acc: 0.5828\n",
            "Evaluating model on 250 random 20-way one-shot learning tasks ...\n",
            "Got an average of 9.2% accuracy for 20-way one-shot learning\n",
            "=== Training loop 141 ===\n",
            "Epoch 1/1\n",
            "100/100 [==============================] - 7s 66ms/step - loss: 0.7924 - acc: 0.5891\n",
            "Evaluating model on 250 random 20-way one-shot learning tasks ...\n",
            "Got an average of 10.4% accuracy for 20-way one-shot learning\n",
            "=== Training loop 142 ===\n",
            "Epoch 1/1\n",
            " 95/100 [===========================>..] - ETA: 0s - loss: 0.7729 - acc: 0.6008"
          ],
          "name": "stdout"
        },
        {
          "output_type": "stream",
          "text": [
            "100/100 [==============================] - 7s 65ms/step - loss: 0.7741 - acc: 0.6008\n",
            "Evaluating model on 250 random 20-way one-shot learning tasks ...\n",
            "Got an average of 9.2% accuracy for 20-way one-shot learning\n",
            "=== Training loop 143 ===\n",
            "Epoch 1/1\n",
            "100/100 [==============================] - 6s 65ms/step - loss: 0.7859 - acc: 0.5863\n",
            "Evaluating model on 250 random 20-way one-shot learning tasks ...\n",
            "Got an average of 13.6% accuracy for 20-way one-shot learning\n",
            "=== Training loop 144 ===\n",
            "Epoch 1/1\n",
            "100/100 [==============================] - 6s 65ms/step - loss: 0.7927 - acc: 0.5908\n",
            "Evaluating model on 250 random 20-way one-shot learning tasks ...\n",
            "Got an average of 12.0% accuracy for 20-way one-shot learning\n",
            "=== Training loop 145 ===\n",
            "Epoch 1/1\n",
            "  1/100 [..............................] - ETA: 7s - loss: 0.8034 - acc: 0.5469"
          ],
          "name": "stdout"
        },
        {
          "output_type": "stream",
          "text": [
            "100/100 [==============================] - 6s 65ms/step - loss: 0.7846 - acc: 0.5975\n",
            "Evaluating model on 250 random 20-way one-shot learning tasks ...\n",
            "Got an average of 8.4% accuracy for 20-way one-shot learning\n",
            "=== Training loop 146 ===\n",
            "Epoch 1/1\n",
            "100/100 [==============================] - 6s 65ms/step - loss: 0.7759 - acc: 0.5867\n",
            "Evaluating model on 250 random 20-way one-shot learning tasks ...\n",
            "Got an average of 8.8% accuracy for 20-way one-shot learning\n",
            "=== Training loop 147 ===\n",
            "Epoch 1/1\n",
            " 94/100 [===========================>..] - ETA: 0s - loss: 0.7948 - acc: 0.5833"
          ],
          "name": "stdout"
        },
        {
          "output_type": "stream",
          "text": [
            "100/100 [==============================] - 6s 65ms/step - loss: 0.7956 - acc: 0.5866\n",
            "Evaluating model on 250 random 20-way one-shot learning tasks ...\n",
            "Got an average of 10.8% accuracy for 20-way one-shot learning\n",
            "=== Training loop 148 ===\n",
            "Epoch 1/1\n",
            "100/100 [==============================] - 6s 65ms/step - loss: 0.7859 - acc: 0.5986\n",
            "Evaluating model on 250 random 20-way one-shot learning tasks ...\n",
            "Got an average of 7.6% accuracy for 20-way one-shot learning\n",
            "=== Training loop 149 ===\n",
            "Epoch 1/1\n",
            "100/100 [==============================] - 6s 65ms/step - loss: 0.7921 - acc: 0.5938\n",
            "Evaluating model on 250 random 20-way one-shot learning tasks ...\n",
            "Got an average of 8.4% accuracy for 20-way one-shot learning\n",
            "=== Training loop 150 ===\n",
            "Epoch 1/1\n",
            "  7/100 [=>............................] - ETA: 6s - loss: 0.7931 - acc: 0.6094\b\b\b\b\b\b\b\b\b\b\b\b\b\b\b\b\b\b\b\b\b\b\b\b\b\b\b\b\b\b\b\b\b\b\b\b\b\b\b\b\b\b\b\b\b\b\b\b\b\b\b\b\b\b\b\b\b\b\b\b\b\b\b\b\b\b\b\b\b\b\b\b\b\b\b\b\b\b\b"
          ],
          "name": "stdout"
        },
        {
          "output_type": "stream",
          "text": [
            "100/100 [==============================] - 6s 64ms/step - loss: 0.7892 - acc: 0.6053\n",
            "Evaluating model on 250 random 20-way one-shot learning tasks ...\n",
            "Got an average of 12.4% accuracy for 20-way one-shot learning\n",
            "=== Training loop 151 ===\n",
            "Epoch 1/1\n",
            "100/100 [==============================] - 6s 65ms/step - loss: 0.7857 - acc: 0.6003\n",
            "Evaluating model on 250 random 20-way one-shot learning tasks ...\n",
            "Got an average of 11.6% accuracy for 20-way one-shot learning\n",
            "=== Training loop 152 ===\n",
            "Epoch 1/1\n",
            " 98/100 [============================>.] - ETA: 0s - loss: 0.7877 - acc: 0.5917"
          ],
          "name": "stdout"
        },
        {
          "output_type": "stream",
          "text": [
            "100/100 [==============================] - 6s 65ms/step - loss: 0.7867 - acc: 0.5922\n",
            "Evaluating model on 250 random 20-way one-shot learning tasks ...\n",
            "Got an average of 9.6% accuracy for 20-way one-shot learning\n",
            "=== Training loop 153 ===\n",
            "Epoch 1/1\n",
            "100/100 [==============================] - 6s 64ms/step - loss: 0.7859 - acc: 0.5905\n",
            "Evaluating model on 250 random 20-way one-shot learning tasks ...\n",
            "Got an average of 12.8% accuracy for 20-way one-shot learning\n",
            "=== Training loop 154 ===\n",
            "Epoch 1/1\n",
            "100/100 [==============================] - 6s 64ms/step - loss: 0.7915 - acc: 0.5914\n",
            "Evaluating model on 250 random 20-way one-shot learning tasks ...\n",
            "Got an average of 11.2% accuracy for 20-way one-shot learning\n",
            "=== Training loop 155 ===\n",
            "Epoch 1/1\n",
            "  8/100 [=>............................] - ETA: 6s - loss: 0.7874 - acc: 0.5879"
          ],
          "name": "stdout"
        },
        {
          "output_type": "stream",
          "text": [
            "100/100 [==============================] - 7s 65ms/step - loss: 0.7775 - acc: 0.5914\n",
            "Evaluating model on 250 random 20-way one-shot learning tasks ...\n",
            "Got an average of 9.6% accuracy for 20-way one-shot learning\n",
            "=== Training loop 156 ===\n",
            "Epoch 1/1\n",
            "100/100 [==============================] - 6s 65ms/step - loss: 0.7918 - acc: 0.5998\n",
            "Evaluating model on 250 random 20-way one-shot learning tasks ...\n",
            "Got an average of 9.2% accuracy for 20-way one-shot learning\n",
            "=== Training loop 157 ===\n",
            "Epoch 1/1\n",
            " 94/100 [===========================>..] - ETA: 0s - loss: 0.7838 - acc: 0.5874"
          ],
          "name": "stdout"
        },
        {
          "output_type": "stream",
          "text": [
            "100/100 [==============================] - 7s 66ms/step - loss: 0.7833 - acc: 0.5881\n",
            "Evaluating model on 250 random 20-way one-shot learning tasks ...\n",
            "Got an average of 16.4% accuracy for 20-way one-shot learning\n",
            "=== Training loop 158 ===\n",
            "Epoch 1/1\n",
            "100/100 [==============================] - 7s 65ms/step - loss: 0.7732 - acc: 0.5922\n",
            "Evaluating model on 250 random 20-way one-shot learning tasks ...\n",
            "Got an average of 10.4% accuracy for 20-way one-shot learning\n",
            "=== Training loop 159 ===\n",
            "Epoch 1/1\n",
            "100/100 [==============================] - 7s 66ms/step - loss: 0.7860 - acc: 0.5881\n",
            "Evaluating model on 250 random 20-way one-shot learning tasks ...\n",
            "Got an average of 13.2% accuracy for 20-way one-shot learning\n",
            "=== Training loop 160 ===\n",
            "Epoch 1/1\n",
            "  6/100 [>.............................] - ETA: 6s - loss: 0.7787 - acc: 0.5807"
          ],
          "name": "stdout"
        },
        {
          "output_type": "stream",
          "text": [
            "100/100 [==============================] - 7s 65ms/step - loss: 0.7763 - acc: 0.5953\n",
            "Evaluating model on 250 random 20-way one-shot learning tasks ...\n",
            "Got an average of 6.0% accuracy for 20-way one-shot learning\n",
            "=== Training loop 161 ===\n",
            "Epoch 1/1\n",
            "100/100 [==============================] - 6s 65ms/step - loss: 0.7838 - acc: 0.5891\n",
            "Evaluating model on 250 random 20-way one-shot learning tasks ...\n",
            "Got an average of 11.6% accuracy for 20-way one-shot learning\n",
            "=== Training loop 162 ===\n",
            "Epoch 1/1\n",
            " 93/100 [==========================>...] - ETA: 0s - loss: 0.7788 - acc: 0.5840"
          ],
          "name": "stdout"
        },
        {
          "output_type": "stream",
          "text": [
            "100/100 [==============================] - 7s 66ms/step - loss: 0.7795 - acc: 0.5847\n",
            "Evaluating model on 250 random 20-way one-shot learning tasks ...\n",
            "Got an average of 4.8% accuracy for 20-way one-shot learning\n",
            "=== Training loop 163 ===\n",
            "Epoch 1/1\n",
            "100/100 [==============================] - 6s 65ms/step - loss: 0.7646 - acc: 0.6070\n",
            "Evaluating model on 250 random 20-way one-shot learning tasks ...\n",
            "Got an average of 9.2% accuracy for 20-way one-shot learning\n",
            "=== Training loop 164 ===\n",
            "Epoch 1/1\n",
            "100/100 [==============================] - 6s 65ms/step - loss: 0.7793 - acc: 0.6002\n",
            "Evaluating model on 250 random 20-way one-shot learning tasks ...\n",
            "Got an average of 6.4% accuracy for 20-way one-shot learning\n",
            "=== Training loop 165 ===\n",
            "Epoch 1/1\n",
            "  5/100 [>.............................] - ETA: 6s - loss: 0.7981 - acc: 0.5844"
          ],
          "name": "stdout"
        },
        {
          "output_type": "stream",
          "text": [
            "100/100 [==============================] - 7s 65ms/step - loss: 0.7691 - acc: 0.5977\n",
            "Evaluating model on 250 random 20-way one-shot learning tasks ...\n",
            "Got an average of 8.0% accuracy for 20-way one-shot learning\n",
            "=== Training loop 166 ===\n",
            "Epoch 1/1\n",
            "100/100 [==============================] - 6s 65ms/step - loss: 0.7712 - acc: 0.5952\n",
            "Evaluating model on 250 random 20-way one-shot learning tasks ...\n",
            "Got an average of 8.4% accuracy for 20-way one-shot learning\n",
            "=== Training loop 167 ===\n",
            "Epoch 1/1\n",
            " 99/100 [============================>.] - ETA: 0s - loss: 0.7824 - acc: 0.5908"
          ],
          "name": "stdout"
        },
        {
          "output_type": "stream",
          "text": [
            "\b\b\b\b\b\b\b\b\b\b\b\b\b\b\b\b\b\b\b\b\b\b\b\b\b\b\b\b\b\b\b\b\b\b\b\b\b\b\b\b\b\b\b\b\b\b\b\b\b\b\b\b\b\b\b\b\b\b\b\b\b\b\b\b\b\b\b\b\b\b\b\b\b\b\b\b\b\b\b\r100/100 [==============================] - 6s 64ms/step - loss: 0.7824 - acc: 0.5908\n",
            "Evaluating model on 250 random 20-way one-shot learning tasks ...\n",
            "Got an average of 11.2% accuracy for 20-way one-shot learning\n",
            "=== Training loop 168 ===\n",
            "Epoch 1/1\n",
            "100/100 [==============================] - 7s 65ms/step - loss: 0.7809 - acc: 0.5925\n",
            "Evaluating model on 250 random 20-way one-shot learning tasks ...\n",
            "Got an average of 12.0% accuracy for 20-way one-shot learning\n",
            "=== Training loop 169 ===\n",
            "Epoch 1/1\n",
            " 82/100 [=======================>......] - ETA: 1s - loss: 0.7722 - acc: 0.5991\b\b\b\b\b\b\b\b\b\b\b\b\b\b\b\b\b\b\b\b\b\b\b\b\b\b\b\b\b\b\b\b\b\b\b\b\b\b\b\b\b\b\b\b\b\b\b\b\b\b\b\b\b\b\b\b\b\b\b\b\b\b\b\b\b\b\b\b\b\b\b\b\b\b\b\b\b\b\b"
          ],
          "name": "stdout"
        },
        {
          "output_type": "stream",
          "text": [
            "100/100 [==============================] - 7s 65ms/step - loss: 0.7710 - acc: 0.6020\n",
            "Evaluating model on 250 random 20-way one-shot learning tasks ...\n",
            "Got an average of 9.6% accuracy for 20-way one-shot learning\n",
            "=== Training loop 170 ===\n",
            "Epoch 1/1\n",
            "100/100 [==============================] - 6s 65ms/step - loss: 0.7704 - acc: 0.5994\n",
            "Evaluating model on 250 random 20-way one-shot learning tasks ...\n",
            "Got an average of 8.8% accuracy for 20-way one-shot learning\n",
            "=== Training loop 171 ===\n",
            "Epoch 1/1\n",
            "100/100 [==============================] - 7s 65ms/step - loss: 0.7814 - acc: 0.5936\n",
            "Evaluating model on 250 random 20-way one-shot learning tasks ...\n",
            "Got an average of 8.4% accuracy for 20-way one-shot learning\n",
            "=== Training loop 172 ===\n",
            "Epoch 1/1\n",
            "  5/100 [>.............................] - ETA: 6s - loss: 0.7997 - acc: 0.5156"
          ],
          "name": "stdout"
        },
        {
          "output_type": "stream",
          "text": [
            "100/100 [==============================] - 7s 66ms/step - loss: 0.7810 - acc: 0.5866\n",
            "Evaluating model on 250 random 20-way one-shot learning tasks ...\n",
            "Got an average of 9.6% accuracy for 20-way one-shot learning\n",
            "=== Training loop 173 ===\n",
            "Epoch 1/1\n",
            "100/100 [==============================] - 7s 65ms/step - loss: 0.7795 - acc: 0.5964\n",
            "Evaluating model on 250 random 20-way one-shot learning tasks ...\n",
            "Got an average of 10.8% accuracy for 20-way one-shot learning\n",
            "=== Training loop 174 ===\n",
            "Epoch 1/1\n",
            " 96/100 [===========================>..] - ETA: 0s - loss: 0.7879 - acc: 0.5881"
          ],
          "name": "stdout"
        },
        {
          "output_type": "stream",
          "text": [
            "100/100 [==============================] - 6s 65ms/step - loss: 0.7879 - acc: 0.5875\n",
            "Evaluating model on 250 random 20-way one-shot learning tasks ...\n",
            "Got an average of 14.0% accuracy for 20-way one-shot learning\n",
            "=== Training loop 175 ===\n",
            "Epoch 1/1\n",
            "100/100 [==============================] - 7s 65ms/step - loss: 0.7824 - acc: 0.5894\n",
            "Evaluating model on 250 random 20-way one-shot learning tasks ...\n",
            "Got an average of 10.8% accuracy for 20-way one-shot learning\n",
            "=== Training loop 176 ===\n",
            "Epoch 1/1\n",
            "100/100 [==============================] - 7s 65ms/step - loss: 0.7762 - acc: 0.6020\n",
            "Evaluating model on 250 random 20-way one-shot learning tasks ...\n",
            "Got an average of 8.8% accuracy for 20-way one-shot learning\n",
            "=== Training loop 177 ===\n",
            "Epoch 1/1\n",
            "  2/100 [..............................] - ETA: 7s - loss: 0.7820 - acc: 0.5703"
          ],
          "name": "stdout"
        },
        {
          "output_type": "stream",
          "text": [
            "100/100 [==============================] - 7s 65ms/step - loss: 0.7870 - acc: 0.5942\n",
            "Evaluating model on 250 random 20-way one-shot learning tasks ...\n",
            "Got an average of 11.2% accuracy for 20-way one-shot learning\n",
            "=== Training loop 178 ===\n",
            "Epoch 1/1\n",
            "100/100 [==============================] - 7s 66ms/step - loss: 0.7807 - acc: 0.5986\n",
            "Evaluating model on 250 random 20-way one-shot learning tasks ...\n",
            "Got an average of 8.4% accuracy for 20-way one-shot learning\n",
            "=== Training loop 179 ===\n",
            "Epoch 1/1\n",
            " 95/100 [===========================>..] - ETA: 0s - loss: 0.7831 - acc: 0.5962"
          ],
          "name": "stdout"
        },
        {
          "output_type": "stream",
          "text": [
            "100/100 [==============================] - 6s 64ms/step - loss: 0.7836 - acc: 0.5948\n",
            "Evaluating model on 250 random 20-way one-shot learning tasks ...\n",
            "Got an average of 9.2% accuracy for 20-way one-shot learning\n",
            "=== Training loop 180 ===\n",
            "Epoch 1/1\n",
            "100/100 [==============================] - 6s 65ms/step - loss: 0.7797 - acc: 0.5967\n",
            "Evaluating model on 250 random 20-way one-shot learning tasks ...\n",
            "Got an average of 10.4% accuracy for 20-way one-shot learning\n",
            "=== Training loop 181 ===\n",
            "Epoch 1/1\n",
            "100/100 [==============================] - 7s 65ms/step - loss: 0.7696 - acc: 0.6106\n",
            "Evaluating model on 250 random 20-way one-shot learning tasks ...\n",
            "Got an average of 9.6% accuracy for 20-way one-shot learning\n",
            "=== Training loop 182 ===\n",
            "Epoch 1/1\n",
            "  5/100 [>.............................] - ETA: 6s - loss: 0.8216 - acc: 0.5500"
          ],
          "name": "stdout"
        },
        {
          "output_type": "stream",
          "text": [
            "100/100 [==============================] - 7s 65ms/step - loss: 0.7799 - acc: 0.5977\n",
            "Evaluating model on 250 random 20-way one-shot learning tasks ...\n",
            "Got an average of 5.6% accuracy for 20-way one-shot learning\n",
            "=== Training loop 183 ===\n",
            "Epoch 1/1\n",
            "100/100 [==============================] - 6s 65ms/step - loss: 0.7777 - acc: 0.5981\n",
            "Evaluating model on 250 random 20-way one-shot learning tasks ...\n",
            "Got an average of 10.4% accuracy for 20-way one-shot learning\n",
            "=== Training loop 184 ===\n",
            "Epoch 1/1\n",
            " 97/100 [============================>.] - ETA: 0s - loss: 0.7879 - acc: 0.5944"
          ],
          "name": "stdout"
        },
        {
          "output_type": "stream",
          "text": [
            "100/100 [==============================] - 7s 65ms/step - loss: 0.7873 - acc: 0.5962\n",
            "Evaluating model on 250 random 20-way one-shot learning tasks ...\n",
            "Got an average of 8.8% accuracy for 20-way one-shot learning\n",
            "=== Training loop 185 ===\n",
            "Epoch 1/1\n",
            "100/100 [==============================] - 6s 65ms/step - loss: 0.7844 - acc: 0.5975\n",
            "Evaluating model on 250 random 20-way one-shot learning tasks ...\n",
            "Got an average of 12.8% accuracy for 20-way one-shot learning\n",
            "=== Training loop 186 ===\n",
            "Epoch 1/1\n",
            "100/100 [==============================] - 6s 65ms/step - loss: 0.7910 - acc: 0.5852\n",
            "Evaluating model on 250 random 20-way one-shot learning tasks ...\n",
            "Got an average of 8.4% accuracy for 20-way one-shot learning\n",
            "=== Training loop 187 ===\n",
            "Epoch 1/1\n",
            "  6/100 [>.............................] - ETA: 6s - loss: 0.7905 - acc: 0.6302"
          ],
          "name": "stdout"
        },
        {
          "output_type": "stream",
          "text": [
            "100/100 [==============================] - 7s 65ms/step - loss: 0.7948 - acc: 0.5964\n",
            "Evaluating model on 250 random 20-way one-shot learning tasks ...\n",
            "Got an average of 8.4% accuracy for 20-way one-shot learning\n",
            "=== Training loop 188 ===\n",
            "Epoch 1/1\n",
            "100/100 [==============================] - 7s 65ms/step - loss: 0.7805 - acc: 0.5880\n",
            "Evaluating model on 250 random 20-way one-shot learning tasks ...\n",
            "Got an average of 10.0% accuracy for 20-way one-shot learning\n",
            "=== Training loop 189 ===\n",
            "Epoch 1/1\n",
            " 96/100 [===========================>..] - ETA: 0s - loss: 0.7707 - acc: 0.6012"
          ],
          "name": "stdout"
        },
        {
          "output_type": "stream",
          "text": [
            "100/100 [==============================] - 7s 65ms/step - loss: 0.7706 - acc: 0.6009\n",
            "Evaluating model on 250 random 20-way one-shot learning tasks ...\n",
            "Got an average of 12.0% accuracy for 20-way one-shot learning\n",
            "=== Training loop 190 ===\n",
            "Epoch 1/1\n",
            "100/100 [==============================] - 7s 65ms/step - loss: 0.7680 - acc: 0.5989\n",
            "Evaluating model on 250 random 20-way one-shot learning tasks ...\n",
            "Got an average of 9.2% accuracy for 20-way one-shot learning\n",
            "=== Training loop 191 ===\n",
            "Epoch 1/1\n",
            "100/100 [==============================] - 7s 65ms/step - loss: 0.7757 - acc: 0.5959\n",
            "Evaluating model on 250 random 20-way one-shot learning tasks ...\n",
            "Got an average of 10.0% accuracy for 20-way one-shot learning\n",
            "=== Training loop 192 ===\n",
            "Epoch 1/1\n",
            "  4/100 [>.............................] - ETA: 6s - loss: 0.7872 - acc: 0.6367"
          ],
          "name": "stdout"
        },
        {
          "output_type": "stream",
          "text": [
            "100/100 [==============================] - 7s 65ms/step - loss: 0.7694 - acc: 0.6031\n",
            "Evaluating model on 250 random 20-way one-shot learning tasks ...\n",
            "Got an average of 11.2% accuracy for 20-way one-shot learning\n",
            "=== Training loop 193 ===\n",
            "Epoch 1/1\n",
            "100/100 [==============================] - 6s 64ms/step - loss: 0.7734 - acc: 0.5975\n",
            "Evaluating model on 250 random 20-way one-shot learning tasks ...\n",
            "Got an average of 9.6% accuracy for 20-way one-shot learning\n",
            "=== Training loop 194 ===\n",
            "Epoch 1/1\n",
            " 96/100 [===========================>..] - ETA: 0s - loss: 0.7886 - acc: 0.5840"
          ],
          "name": "stdout"
        },
        {
          "output_type": "stream",
          "text": [
            "100/100 [==============================] - 7s 66ms/step - loss: 0.7893 - acc: 0.5858\n",
            "Evaluating model on 250 random 20-way one-shot learning tasks ...\n",
            "Got an average of 12.0% accuracy for 20-way one-shot learning\n",
            "=== Training loop 195 ===\n",
            "Epoch 1/1\n",
            "100/100 [==============================] - 7s 66ms/step - loss: 0.7763 - acc: 0.5950\n",
            "Evaluating model on 250 random 20-way one-shot learning tasks ...\n",
            "Got an average of 9.6% accuracy for 20-way one-shot learning\n",
            "=== Training loop 196 ===\n",
            "Epoch 1/1\n",
            "100/100 [==============================] - 7s 65ms/step - loss: 0.7680 - acc: 0.5866\n",
            "Evaluating model on 250 random 20-way one-shot learning tasks ...\n",
            "Got an average of 9.6% accuracy for 20-way one-shot learning\n",
            "=== Training loop 197 ===\n",
            "Epoch 1/1\n",
            "  2/100 [..............................] - ETA: 7s - loss: 0.7401 - acc: 0.6406"
          ],
          "name": "stdout"
        },
        {
          "output_type": "stream",
          "text": [
            "100/100 [==============================] - 6s 65ms/step - loss: 0.7785 - acc: 0.5975\n",
            "Evaluating model on 250 random 20-way one-shot learning tasks ...\n",
            "Got an average of 8.4% accuracy for 20-way one-shot learning\n",
            "=== Training loop 198 ===\n",
            "Epoch 1/1\n",
            "100/100 [==============================] - 7s 66ms/step - loss: 0.7726 - acc: 0.5964\n",
            "Evaluating model on 250 random 20-way one-shot learning tasks ...\n",
            "Got an average of 10.0% accuracy for 20-way one-shot learning\n",
            "=== Training loop 199 ===\n",
            "Epoch 1/1\n",
            "100/100 [==============================] - 7s 65ms/step - loss: 0.7686 - acc: 0.6009\n"
          ],
          "name": "stdout"
        },
        {
          "output_type": "stream",
          "text": [
            "Evaluating model on 250 random 20-way one-shot learning tasks ...\n",
            "Got an average of 11.2% accuracy for 20-way one-shot learning\n",
            "=== Training loop 200 ===\n",
            "Epoch 1/1\n",
            "100/100 [==============================] - 7s 65ms/step - loss: 0.7622 - acc: 0.6008\n",
            "Evaluating model on 250 random 20-way one-shot learning tasks ...\n",
            "Got an average of 10.0% accuracy for 20-way one-shot learning\n",
            "Best accuracy obtained in loop 68: 16.8\n"
          ],
          "name": "stdout"
        }
      ]
    },
    {
      "metadata": {
        "id": "MaivGyk_AVTY",
        "colab_type": "text"
      },
      "cell_type": "markdown",
      "source": [
        "***\n",
        "\n",
        "**b)** Briefly motivate your model's architecture, as well as its performance. What accuracy would random guessing achieve (on average)?\n",
        "\n",
        "**Answer:**"
      ]
    },
    {
      "metadata": {
        "id": "lQVd8vHrAYEX",
        "colab_type": "text"
      },
      "cell_type": "markdown",
      "source": [
        "Since the accuracy is tested in the last 20 classes, the probabality of randomly guessing the correct class is `1/20 = 0.05`. \n",
        "\n",
        "The architecture is similar than the one has been built for the omniglot dataset with slightly different changes due to the different dimensions of the data. First, we have changed the dimensions of the kernels (filters) for the convoluational layers, by using a `3x3` size. In total we have applied 3 convulotional layers following a typical CNN architecture where for each layer we increase the number of units. At the last layer of each CNN we use a fully connected dense layer of 1024 neurons. Then, the two \"legs\" of the siamese network are measured witht the L1 distance. \n",
        "\n",
        "One can observe that the accuracy of the network on unseen data is somehow poor with a best measurement of `16.8`."
      ]
    },
    {
      "metadata": {
        "id": "COiAqXWDAgCe",
        "colab_type": "text"
      },
      "cell_type": "markdown",
      "source": [
        "***\n",
        "\n",
        "**c)** Compare the performance of your Siamese network for Cifar-100 to the Siamese network from Practical 4 for Omniglot. Name three fundamental differences between the Cifar-100 and Omniglot datasets. How do these differences influence the difference in one-shot accuracy?\n",
        "\n",
        "**Answer:**"
      ]
    },
    {
      "metadata": {
        "id": "IIHkoQ0PBWuB",
        "colab_type": "text"
      },
      "cell_type": "markdown",
      "source": [
        "The accuracy of a similar siamese network in the Omniglot dataset is more than `80%`, while in Cifar-100 the best we could get is `16.8`. \n",
        "\n",
        "Three main difference between the datasets are:\n",
        " - Cifar-100 contains twice the number of classes than Omniglot\n",
        " - Cifar-100 has 6000 samples per class while Omniglot has only 1623 (around 2/3 less)\n",
        " - The domain of the images for Cifar-100 is much more complex. This is, it contains too many colors, shapes and even channels. On the other hand, Onmiglot is simplier and the differences between classes can be learned better. "
      ]
    },
    {
      "metadata": {
        "id": "VWpFF_5-Bf4B",
        "colab_type": "text"
      },
      "cell_type": "markdown",
      "source": [
        "***\n",
        "\n",
        "### Task 1.2: One-shot learning with neural codes\n",
        "**a)**\n",
        "* Train a CNN classifier on the first 80 classes of Cifar-100. Make sure it achieves at least 40% classification accuracy on those 80 classes (use the test set to validate this accuracy).\n",
        "* Then use neural codes from one of the later hidden layers of the CNN with L2-distance to evaluate one-shot learning accuracy for the remaining 20 classes of Cifar-100. I.e. for a given one-shot task, obtain neural codes for the test image as well as the support set. Then pick the image from the support set that is closest (in L2-distance) to the test image as your one-shot prediction."
      ]
    },
    {
      "metadata": {
        "id": "TCUuEUlrBBf3",
        "colab_type": "code",
        "colab": {
          "autoexec": {
            "startup": false,
            "wait_interval": 0
          },
          "base_uri": "https://localhost:8080/",
          "height": 136
        },
        "outputId": "540fb87b-d919-4745-e2be-ab59a83571de",
        "executionInfo": {
          "status": "ok",
          "timestamp": 1523629781704,
          "user_tz": -120,
          "elapsed": 1379,
          "user": {
            "displayName": "Jorge Gómez",
            "photoUrl": "//lh5.googleusercontent.com/-OHXqZEKFiwY/AAAAAAAAAAI/AAAAAAAAG1Q/EYd5cagCTIo/s50-c-k-no/photo.jpg",
            "userId": "108155755194959101108"
          }
        }
      },
      "cell_type": "code",
      "source": [
        "# Sort indices and labels\n",
        "# indices_sorted, labels_sorted = getSortedLabels()\n",
        "\n",
        "# Get the x_train set sorted in the same way as the labels\n",
        "indices_sorted = np.argsort(y_train_digits.flatten())\n",
        "x_train_sorted = x_train[indices_sorted]\n",
        "y_train_digits_sorted = y_train_digits[indices_sorted]#labels_sorted\n",
        "y_train_sorted = y_train[indices_sorted]\n",
        "x_train_80 = x_train_sorted[:40000]\n",
        "x_train_20 = x_train_sorted[40000:]\n",
        "y_train_80 = y_train_sorted[:40000][:, :80]\n",
        "y_train_20 = y_train_sorted[40000:][:, 80:]\n",
        "\n",
        "x_train_80, y_train_80 = shuffle(x_train_80, y_train_80)\n",
        "x_train_20, y_train_20 = shuffle(x_train_20, y_train_20)\n",
        "\n",
        "print(\"x_train shape : \\t\", x_train_sorted.shape)\n",
        "print(\"x_train shape_80 : \\t\", x_train_80.shape)\n",
        "print(\"x_train shape_20: \\t\", x_train_20.shape)\n",
        "\n",
        "# Then we reshape x_train as suggested\n",
        "# x_train_sorted = x_train_sorted.reshape((n_classes, 500, 32, 32, 3))\n",
        "\n",
        "# indices_sorted, labels_sorted = getSortedLabels(True)\n",
        "indices_sorted = np.argsort(y_test_digits.flatten())\n",
        "# Get the x_train set sorted in the same way as the labels\n",
        "x_test_sorted = x_test[indices_sorted]\n",
        "y_test_digits_sorted = y_test_digits[indices_sorted]\n",
        "y_test_sorted = y_test[indices_sorted]\n",
        "x_test_80 = x_test_sorted[:8000]\n",
        "x_test_20 = x_test_sorted[8000:]\n",
        "y_test_80 = y_test_sorted[:8000][:, :80]\n",
        "y_test_20 = y_test_sorted[8000:][:, 80:]\n",
        "\n",
        "x_test_80, y_test_80 = shuffle(x_test_80, y_test_80)\n",
        "x_test_20, y_test_20 = shuffle(x_test_20, y_test_20)\n",
        "\n",
        "print(\"\\nx_test shape : \\t\\t\", x_test_sorted.shape)\n",
        "print(\"x_test shape_80 : \\t\", x_test_80.shape)\n",
        "print(\"x_test shape_20: \\t\", x_test_20.shape)\n"
      ],
      "execution_count": 0,
      "outputs": [
        {
          "output_type": "stream",
          "text": [
            "x_train shape : \t (50000, 32, 32, 3)\n",
            "x_train shape_80 : \t (40000, 32, 32, 3)\n",
            "x_train shape_20: \t (10000, 32, 32, 3)\n",
            "\n",
            "x_test shape : \t\t (10000, 32, 32, 3)\n",
            "x_test shape_80 : \t (8000, 32, 32, 3)\n",
            "x_test shape_20: \t (2000, 32, 32, 3)\n"
          ],
          "name": "stdout"
        }
      ]
    },
    {
      "metadata": {
        "id": "NTzdi7NtYij2",
        "colab_type": "code",
        "colab": {
          "autoexec": {
            "startup": false,
            "wait_interval": 0
          },
          "base_uri": "https://localhost:8080/",
          "height": 680
        },
        "outputId": "15827e2f-41a7-4aa3-fae7-488b58714bfa",
        "executionInfo": {
          "status": "ok",
          "timestamp": 1523826230583,
          "user_tz": -120,
          "elapsed": 1076,
          "user": {
            "displayName": "Jorge Gómez",
            "photoUrl": "//lh5.googleusercontent.com/-OHXqZEKFiwY/AAAAAAAAAAI/AAAAAAAAG1Q/EYd5cagCTIo/s50-c-k-no/photo.jpg",
            "userId": "108155755194959101108"
          }
        }
      },
      "cell_type": "code",
      "source": [
        "n_labelled_classes = 80\n",
        "n_last_dense = 128\n",
        "\n",
        "cnn = Sequential()\n",
        "\n",
        "# === SOLUTION: ===\n",
        "cnn.add(Conv2D(64, (3, 3), activation='relu', input_shape = input_shape))\n",
        "cnn.add(MaxPooling2D())\n",
        "cnn.add(BatchNormalization())\n",
        "cnn.add(Dropout(0.25))\n",
        "cnn.add(Conv2D(128, (3,3), activation='relu'))#, #padding = \"same\", \n",
        "cnn.add(MaxPooling2D())\n",
        "cnn.add(BatchNormalization())\n",
        "cnn.add(Dropout(0.25))\n",
        "cnn.add(Conv2D(128, (3,3), activation='relu'))\n",
        "cnn.add(Flatten())\n",
        "cnn.add(BatchNormalization())\n",
        "cnn.add(Dropout(0.25))\n",
        "cnn.add(Dense(1024, activation=\"sigmoid\", name = \"neural_codes\"))\n",
        "cnn.add(BatchNormalization())\n",
        "cnn.add(Dropout(0.5))\n",
        "cnn.add(Dense(n_labelled_classes, activation='softmax'))\n",
        "\n",
        "cnn.compile(optimizer='adam',\n",
        "          loss='categorical_crossentropy',\n",
        "          metrics=['accuracy'])\n",
        "\n",
        "cnn.summary()\n"
      ],
      "execution_count": 16,
      "outputs": [
        {
          "output_type": "stream",
          "text": [
            "_________________________________________________________________\n",
            "Layer (type)                 Output Shape              Param #   \n",
            "=================================================================\n",
            "conv2d_7 (Conv2D)            (None, 30, 30, 64)        1792      \n",
            "_________________________________________________________________\n",
            "max_pooling2d_5 (MaxPooling2 (None, 15, 15, 64)        0         \n",
            "_________________________________________________________________\n",
            "batch_normalization_7 (Batch (None, 15, 15, 64)        256       \n",
            "_________________________________________________________________\n",
            "dropout_7 (Dropout)          (None, 15, 15, 64)        0         \n",
            "_________________________________________________________________\n",
            "conv2d_8 (Conv2D)            (None, 13, 13, 128)       73856     \n",
            "_________________________________________________________________\n",
            "max_pooling2d_6 (MaxPooling2 (None, 6, 6, 128)         0         \n",
            "_________________________________________________________________\n",
            "batch_normalization_8 (Batch (None, 6, 6, 128)         512       \n",
            "_________________________________________________________________\n",
            "dropout_8 (Dropout)          (None, 6, 6, 128)         0         \n",
            "_________________________________________________________________\n",
            "conv2d_9 (Conv2D)            (None, 4, 4, 128)         147584    \n",
            "_________________________________________________________________\n",
            "flatten_3 (Flatten)          (None, 2048)              0         \n",
            "_________________________________________________________________\n",
            "batch_normalization_9 (Batch (None, 2048)              8192      \n",
            "_________________________________________________________________\n",
            "dropout_9 (Dropout)          (None, 2048)              0         \n",
            "_________________________________________________________________\n",
            "neural_codes (Dense)         (None, 1024)              2098176   \n",
            "_________________________________________________________________\n",
            "batch_normalization_10 (Batc (None, 1024)              4096      \n",
            "_________________________________________________________________\n",
            "dropout_10 (Dropout)         (None, 1024)              0         \n",
            "_________________________________________________________________\n",
            "dense_5 (Dense)              (None, 80)                82000     \n",
            "=================================================================\n",
            "Total params: 2,416,464\n",
            "Trainable params: 2,409,936\n",
            "Non-trainable params: 6,528\n",
            "_________________________________________________________________\n"
          ],
          "name": "stdout"
        }
      ]
    },
    {
      "metadata": {
        "id": "cGtgvsqxYoLw",
        "colab_type": "code",
        "colab": {
          "autoexec": {
            "startup": false,
            "wait_interval": 0
          },
          "base_uri": "https://localhost:8080/",
          "height": 581
        },
        "outputId": "919ecd65-ba40-4385-de14-112b5e1d1ae1",
        "executionInfo": {
          "status": "ok",
          "timestamp": 1523629998546,
          "user_tz": -120,
          "elapsed": 212793,
          "user": {
            "displayName": "Jorge Gómez",
            "photoUrl": "//lh5.googleusercontent.com/-OHXqZEKFiwY/AAAAAAAAAAI/AAAAAAAAG1Q/EYd5cagCTIo/s50-c-k-no/photo.jpg",
            "userId": "108155755194959101108"
          }
        }
      },
      "cell_type": "code",
      "source": [
        "batch_size = 128\n",
        "epochs = 15\n",
        "\n",
        "cnn.fit(x_train_80, y_train_80,\n",
        "          batch_size = batch_size,\n",
        "          epochs=epochs,\n",
        "          validation_data = (x_test_80, y_test_80))"
      ],
      "execution_count": 0,
      "outputs": [
        {
          "output_type": "stream",
          "text": [
            "Train on 40000 samples, validate on 8000 samples\n",
            "Epoch 1/15\n",
            "40000/40000 [==============================] - 15s 386us/step - loss: 3.9933 - acc: 0.1518 - val_loss: 3.7286 - val_acc: 0.1681\n",
            "Epoch 2/15\n",
            "40000/40000 [==============================] - 14s 352us/step - loss: 3.0164 - acc: 0.2721 - val_loss: 2.7262 - val_acc: 0.3132\n",
            "Epoch 3/15\n",
            "18432/40000 [============>.................] - ETA: 7s - loss: 2.6342 - acc: 0.3330"
          ],
          "name": "stdout"
        },
        {
          "output_type": "stream",
          "text": [
            "40000/40000 [==============================] - 14s 348us/step - loss: 2.5893 - acc: 0.3430 - val_loss: 2.8990 - val_acc: 0.3005\n",
            "Epoch 4/15\n",
            "40000/40000 [==============================] - 14s 348us/step - loss: 2.3356 - acc: 0.3957 - val_loss: 2.2645 - val_acc: 0.4213\n",
            "Epoch 5/15\n",
            "39808/40000 [============================>.] - ETA: 0s - loss: 2.1557 - acc: 0.4305"
          ],
          "name": "stdout"
        },
        {
          "output_type": "stream",
          "text": [
            "40000/40000 [==============================] - 14s 348us/step - loss: 2.1569 - acc: 0.4303 - val_loss: 2.2045 - val_acc: 0.4291\n",
            "Epoch 6/15\n",
            "40000/40000 [==============================] - 14s 350us/step - loss: 2.0186 - acc: 0.4567 - val_loss: 2.4888 - val_acc: 0.3835\n",
            "Epoch 7/15\n",
            "40000/40000 [==============================] - 14s 349us/step - loss: 1.9095 - acc: 0.4843 - val_loss: 2.1716 - val_acc: 0.4410\n",
            "Epoch 8/15\n",
            " 2944/40000 [=>............................] - ETA: 12s - loss: 1.7285 - acc: 0.5190"
          ],
          "name": "stdout"
        },
        {
          "output_type": "stream",
          "text": [
            "40000/40000 [==============================] - 14s 349us/step - loss: 1.8115 - acc: 0.5037 - val_loss: 2.1208 - val_acc: 0.4517\n",
            "Epoch 9/15\n",
            "40000/40000 [==============================] - 14s 351us/step - loss: 1.7267 - acc: 0.5262 - val_loss: 2.0526 - val_acc: 0.4685\n",
            "Epoch 10/15\n",
            "35968/40000 [=========================>....] - ETA: 1s - loss: 1.6570 - acc: 0.5390"
          ],
          "name": "stdout"
        },
        {
          "output_type": "stream",
          "text": [
            "40000/40000 [==============================] - 14s 350us/step - loss: 1.6647 - acc: 0.5375 - val_loss: 2.0893 - val_acc: 0.4566\n",
            "Epoch 11/15\n",
            "40000/40000 [==============================] - 14s 349us/step - loss: 1.5981 - acc: 0.5513 - val_loss: 1.9330 - val_acc: 0.4953\n",
            "Epoch 12/15\n",
            "40000/40000 [==============================] - 14s 351us/step - loss: 1.5380 - acc: 0.5686 - val_loss: 1.9696 - val_acc: 0.4913\n",
            "Epoch 13/15\n",
            " 1920/40000 [>.............................] - ETA: 12s - loss: 1.3043 - acc: 0.6255"
          ],
          "name": "stdout"
        },
        {
          "output_type": "stream",
          "text": [
            "40000/40000 [==============================] - 14s 349us/step - loss: 1.4823 - acc: 0.5798 - val_loss: 1.9784 - val_acc: 0.4935\n",
            "Epoch 14/15\n",
            "40000/40000 [==============================] - 14s 348us/step - loss: 1.4450 - acc: 0.5901 - val_loss: 2.4005 - val_acc: 0.4125\n",
            "Epoch 15/15\n",
            "35840/40000 [=========================>....] - ETA: 1s - loss: 1.3928 - acc: 0.6019"
          ],
          "name": "stdout"
        },
        {
          "output_type": "stream",
          "text": [
            "40000/40000 [==============================] - 14s 352us/step - loss: 1.4016 - acc: 0.6001 - val_loss: 2.0909 - val_acc: 0.4739\n"
          ],
          "name": "stdout"
        },
        {
          "output_type": "execute_result",
          "data": {
            "text/plain": [
              "<keras.callbacks.History at 0x7f5f802d3588>"
            ]
          },
          "metadata": {
            "tags": []
          },
          "execution_count": 52
        }
      ]
    },
    {
      "metadata": {
        "id": "YlMPGn-nYuHo",
        "colab_type": "code",
        "colab": {
          "autoexec": {
            "startup": false,
            "wait_interval": 0
          },
          "base_uri": "https://localhost:8080/",
          "height": 51
        },
        "outputId": "555de99e-21e7-4b46-dc1e-78069717e782",
        "executionInfo": {
          "status": "ok",
          "timestamp": 1523629001994,
          "user_tz": -120,
          "elapsed": 2122,
          "user": {
            "displayName": "Jorge Gómez",
            "photoUrl": "//lh5.googleusercontent.com/-OHXqZEKFiwY/AAAAAAAAAAI/AAAAAAAAG1Q/EYd5cagCTIo/s50-c-k-no/photo.jpg",
            "userId": "108155755194959101108"
          }
        }
      },
      "cell_type": "code",
      "source": [
        "loss, accuracy = cnn.evaluate(x_test_80, y_test_80, verbose=0)\n",
        "\n",
        "print('Test loss:', loss)\n",
        "print('Test accuracy:', accuracy)"
      ],
      "execution_count": 0,
      "outputs": [
        {
          "output_type": "stream",
          "text": [
            "Test loss: 2.328828109741211\n",
            "Test accuracy: 0.408875\n"
          ],
          "name": "stdout"
        }
      ]
    },
    {
      "metadata": {
        "id": "nMue0iBcN7_B",
        "colab_type": "code",
        "colab": {
          "autoexec": {
            "startup": false,
            "wait_interval": 0
          }
        }
      },
      "cell_type": "code",
      "source": [
        "# Get last hidden layer \n",
        "neural_codes_output = Model([cnn.layers[0].input], \n",
        "                                 [cnn.get_layer(\"neural_codes\").output])\n",
        "\n",
        "# Reshape test set\n",
        "x_test_20r = x_test_20.reshape((20, 100, 32, 32, 3))\n"
      ],
      "execution_count": 0,
      "outputs": []
    },
    {
      "metadata": {
        "id": "IDLjKYzefR_k",
        "colab_type": "code",
        "colab": {
          "autoexec": {
            "startup": false,
            "wait_interval": 0
          },
          "base_uri": "https://localhost:8080/",
          "height": 305
        },
        "outputId": "830fe074-d1e6-40f4-ce04-b10c39891f92",
        "executionInfo": {
          "status": "ok",
          "timestamp": 1523629313105,
          "user_tz": -120,
          "elapsed": 4562,
          "user": {
            "displayName": "Jorge Gómez",
            "photoUrl": "//lh5.googleusercontent.com/-OHXqZEKFiwY/AAAAAAAAAAI/AAAAAAAAG1Q/EYd5cagCTIo/s50-c-k-no/photo.jpg",
            "userId": "108155755194959101108"
          }
        }
      },
      "cell_type": "code",
      "source": [
        "\n",
        "# Number of queries\n",
        "n_queries = 250 # as in one shot task of task 1.1\n",
        "\n",
        "to_show = 11\n",
        "\n",
        "# Make nice canvas for plotting\n",
        "fig, axes = plt.subplots(nrows = 2, ncols = to_show)\n",
        "fig.set_size_inches(18, 5)\n",
        "\n",
        "count_correct = 0\n",
        "# For each trial...\n",
        "for trial in range(n_queries):\n",
        "  # Get the one-shot task\n",
        "  pairs, targets = make_oneshot_task(20, x_test_20r)\n",
        "\n",
        "  # Get the correspondant test_set and support_set\n",
        "  test_set = pairs[0]\n",
        "  support_set = pairs[1]\n",
        "\n",
        "  tests_embeddings = neural_codes_output([ test_set ])[0]\n",
        "  features_space = neural_codes_output([ support_set ])[0]\n",
        "\n",
        "  # p = 2  is equivalent to L2 as indicated in the sklearn documentation\n",
        "  nn = NearestNeighbors(n_neighbors = 1, metric = \"l2\").fit( features_space )\n",
        "\n",
        "  # The test_set has the query image repated N times.\n",
        "  query = test_set[0]\n",
        "\n",
        "  # These is the embedding we obtained from the neural codes\n",
        "  query_embedding = tests_embeddings[0]\n",
        "  distances, indices = nn.kneighbors([ query_embedding ])\n",
        "  nearest_index = indices[0][0] # Get the nearest neighbor\n",
        "  distance = distances[0][0]\n",
        "  answer_image = support_set[nearest_index]\n",
        "  answer_target = bool(targets[nearest_index])\n",
        "  \n",
        "  if answer_target :\n",
        "    count_correct += 1\n",
        "    \n",
        "  if trial < to_show :\n",
        "    # Print the query\n",
        "    axes[0][trial].imshow(query)\n",
        "    axes[0][trial].set_title(\"Query {}\".format(trial))\n",
        "    axes[0][trial].axis(\"off\")\n",
        "\n",
        "    # Print the retrieved image\n",
        "    axes[1][trial].imshow(answer_image)\n",
        "    axes[1][trial].set_title(\"Answer {} \\nSame = {}\\nDist = {:.2f}\".format(trial, \n",
        "                                                              answer_target, distance))\n",
        "    axes[1][trial].axis(\"off\")\n",
        "\n",
        "print(\"Accuracy is {}%\".format((count_correct/n_queries)*100))"
      ],
      "execution_count": 0,
      "outputs": [
        {
          "output_type": "stream",
          "text": [
            "Accuracy is 2.0%\n"
          ],
          "name": "stdout"
        },
        {
          "output_type": "display_data",
          "data": {
            "image/png": "[encoded data removed]",
            "text/plain": [
              "<matplotlib.figure.Figure at 0x7f5f80c0c908>"
            ]
          },
          "metadata": {
            "tags": []
          }
        }
      ]
    },
    {
      "metadata": {
        "id": "M1BDzdPAz26B",
        "colab_type": "text"
      },
      "cell_type": "markdown",
      "source": [
        "***\n",
        "\n",
        "**b)** Briefly motivate your CNN architecture, and discuss the difference in one-shot accuracy between the Siamese network approach and the CNN neural codes approach.\n",
        "\n",
        "**Answer:**"
      ]
    },
    {
      "metadata": {
        "id": "oRpVm956FR8P",
        "colab_type": "text"
      },
      "cell_type": "markdown",
      "source": [
        "Our CNN architecture follows a simplier approach than the convolutional components of the Siamase Network. We use the same number of neurons in the last dense layer as we made in the siamase network to have a fair comparison of the quality of the embeddings. \n",
        "\n",
        "We can see that with the CNN approach tested on the last 20 classes we see a very poor average accuracy, however, while visualizing some of the queries in a) we observe that for some of them the nearest neighbor does not belong to the same class but it is somehow similar. This may be due to the high number of classes of the dataset where many similar objects may be classified differently. However, even if senseful, this is still a poor accuracy for an stric one-shot task."
      ]
    }
  ]
}