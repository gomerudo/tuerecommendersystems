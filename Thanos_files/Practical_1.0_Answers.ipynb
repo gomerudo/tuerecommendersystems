{
 "cells": [
  {
   "cell_type": "markdown",
   "metadata": {},
   "source": [
    "## Example 1:\n",
    "Counting words in a document\n",
    "- document-words matrix implementation (few documents)\n",
    "- retrival with cosine similarity\n",
    "\n",
    "Some example plots:\n",
    "- Ch15, Fig. 15.3 for small corpus\n"
   ]
  },
  {
   "cell_type": "code",
   "execution_count": 1,
   "metadata": {},
   "outputs": [
    {
     "name": "stderr",
     "output_type": "stream",
     "text": [
      "Using TensorFlow backend.\n"
     ]
    }
   ],
   "source": [
    "import numpy as np\n",
    "np.random.seed(13) #TODO Check if this is used for sgd\n",
    "import keras.backend as K\n",
    "from keras.models import Sequential\n",
    "from keras.layers import Dense, Embedding, Reshape, Lambda\n",
    "from IPython.display import SVG\n",
    "from keras.utils import np_utils\n",
    "from keras.utils.data_utils import get_file\n",
    "from keras.preprocessing.text import Tokenizer\n",
    "from keras.utils.vis_utils import model_to_dot\n",
    "from keras.preprocessing import sequence\n",
    "from gensim.models import KeyedVectors\n",
    "from sklearn.manifold import TSNE\n",
    "from sklearn.metrics.pairwise import cosine_similarity\n",
    "from sklearn.neighbors import NearestNeighbors as nn\n",
    "from itertools import islice\n",
    "from matplotlib import pylab\n",
    "from __future__ import division"
   ]
  },
  {
   "cell_type": "code",
   "execution_count": 4,
   "metadata": {
    "collapsed": true
   },
   "outputs": [],
   "source": [
    "# DO NOT Modify the lines in this cell\n",
    "path = 'alice.txt'\n",
    "corpus = open(path).readlines()[0:700]\n",
    "\n",
    "corpus = [sentence for sentence in corpus if sentence.count(\" \") >= 2]\n",
    "\n",
    "tokenizer = Tokenizer(filters='!\"#$%&()*+,-./:;<=>?@[\\\\]^_`{|}~\\t\\n'+\"'\")\n",
    "tokenizer.fit_on_texts(corpus)\n",
    "corpus = tokenizer.texts_to_sequences(corpus)\n",
    "nb_samples = sum(len(s) for s in corpus)\n",
    "V = len(tokenizer.word_index) + 1\n",
    "\n",
    "# Is this something they need to change?\n",
    "dim = 100\n",
    "window_size = 2\n",
    "window_size_corpus = 4"
   ]
  },
  {
   "cell_type": "code",
   "execution_count": 11,
   "metadata": {
    "collapsed": true
   },
   "outputs": [],
   "source": [
    "#you have to figure these questions out yourself, as you will need them for the assignment"
   ]
  },
  {
   "cell_type": "code",
   "execution_count": null,
   "metadata": {
    "collapsed": true
   },
   "outputs": [],
   "source": []
  },
  {
   "cell_type": "code",
   "execution_count": null,
   "metadata": {},
   "outputs": [],
   "source": []
  },
  {
   "cell_type": "markdown",
   "metadata": {},
   "source": [
    "## Example 2:\n",
    "Word embedding (dense) comparisons\n",
    "- Load the pre-trained word embeddings of word2vec\n",
    "- See whether the differences between the following word pairs are similar:\n",
    "    - _A king is to a queen as a man is to a woman_\n",
    "    - _A cat is to a kitten as a dog is to a puppy_\n",
    "    - _Cats are to a cat as dogs are to a dog_\n",
    "- Compare the following synonyms and antonyms:\n",
    "    - Unhappy and happy\n",
    "    - Happy and cheerful\n",
    "    - Unhappy and cheerful\n",
    "    - Synonym and equivalence\n",
    "    - Synonym and antonym\n",
    "    \n",
    "\n",
    "Download word2vec here: https://drive.google.com/file/d/0B7XkCwpI5KDYNlNUTTlSS21pQmM/edit\n"
   ]
  },
  {
   "cell_type": "code",
   "execution_count": 2,
   "metadata": {
    "collapsed": true
   },
   "outputs": [],
   "source": [
    "#load word2vec\n",
    "path = \"/Users/puckmulders/GoogleNews-vectors-negative300.bin\"\n",
    "\n",
    "word2vec = KeyedVectors.load_word2vec_format(path, binary=True)"
   ]
  },
  {
   "cell_type": "code",
   "execution_count": 9,
   "metadata": {},
   "outputs": [
    {
     "name": "stdout",
     "output_type": "stream",
     "text": [
      "('queen, king, woman, man', 0.24791393122070618)\n",
      "('cat, kitten, dog, puppy', 0.81997004469673884)\n",
      "('cat, cats, dog, dogs', 0.7703975883356613)\n",
      "('unhappy, happy', 0.61280379941972618)\n",
      "('cheerful, happy', 0.38377381971166791)\n",
      "('cheerful, unhappy', 0.20910789016696754)\n",
      "('synonym, equivalence', 0.16996252561199232)\n",
      "('synonym, antonym', 0.56810540179238223)\n"
     ]
    }
   ],
   "source": [
    "print(\"queen, king, woman, man\",word2vec.wv.n_similarity(['queen','king'],['woman','man']))\n",
    "print(\"cat, kitten, dog, puppy\",word2vec.wv.n_similarity(['cat','kitten'],['dog','puppy']))\n",
    "print(\"cat, cats, dog, dogs\",word2vec.wv.n_similarity(['cat','cats'],['dog','dogs']))\n",
    "\n",
    "print(\"unhappy, happy\", word2vec.wv.similarity(\"unhappy\",\"happy\"))\n",
    "print(\"cheerful, happy\",word2vec.wv.similarity(\"cheerful\",\"happy\"))\n",
    "print(\"cheerful, unhappy\",word2vec.wv.similarity(\"cheerful\",\"unhappy\"))\n",
    "print(\"synonym, equivalence\", word2vec.wv.similarity(\"synonym\",\"equivalence\"))\n",
    "print(\"synonym, antonym\",word2vec.wv.similarity(\"synonym\",\"antonym\"))"
   ]
  },
  {
   "cell_type": "code",
   "execution_count": null,
   "metadata": {
    "collapsed": true
   },
   "outputs": [],
   "source": []
  }
 ],
 "metadata": {
  "kernelspec": {
   "display_name": "Python 3",
   "language": "python",
   "name": "python3"
  },
  "language_info": {
   "codemirror_mode": {
    "name": "ipython",
    "version": 3
   },
   "file_extension": ".py",
   "mimetype": "text/x-python",
   "name": "python",
   "nbconvert_exporter": "python",
   "pygments_lexer": "ipython3",
   "version": "3.6.2"
  }
 },
 "nbformat": 4,
 "nbformat_minor": 2
}
