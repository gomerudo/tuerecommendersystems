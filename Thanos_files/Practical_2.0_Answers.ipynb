{
 "cells": [
  {
   "cell_type": "markdown",
   "metadata": {},
   "source": [
    "Code based on: https://github.com/keras-team/keras/blob/master/examples/mnist_mlp.py"
   ]
  },
  {
   "cell_type": "code",
   "execution_count": 1,
   "metadata": {},
   "outputs": [
    {
     "name": "stderr",
     "output_type": "stream",
     "text": [
      "Using TensorFlow backend.\n"
     ]
    }
   ],
   "source": [
    "from keras.models import Sequential\n",
    "from keras.layers import Dense, Dropout\n",
    "from keras.utils import to_categorical\n",
    "import matplotlib.pyplot as plt\n",
    "%matplotlib inline"
   ]
  },
  {
   "cell_type": "markdown",
   "metadata": {},
   "source": [
    "# Data (MNIST)\n",
    "We obtain the MNIST data set directly through Keras, given as fully labelled training and test sets."
   ]
  },
  {
   "cell_type": "code",
   "execution_count": 2,
   "metadata": {
    "collapsed": true
   },
   "outputs": [],
   "source": [
    "from keras.datasets import mnist\n",
    "(x_train, y_train), (x_test, y_test) = mnist.load_data()"
   ]
  },
  {
   "cell_type": "markdown",
   "metadata": {},
   "source": [
    "Each example is an image of 28x28 pixels, given as integer grayscale values from 0 to 255. Each example has a label, an integer 0 to 9. The training set contains 60,000 examples, the test set 10,000."
   ]
  },
  {
   "cell_type": "code",
   "execution_count": 3,
   "metadata": {},
   "outputs": [
    {
     "name": "stdout",
     "output_type": "stream",
     "text": [
      "(60000, 28, 28)\n",
      "(60000,)\n",
      "(10000, 28, 28)\n",
      "(10000,)\n"
     ]
    }
   ],
   "source": [
    "print(x_train.shape)\n",
    "print(y_train.shape)\n",
    "print(x_test.shape)\n",
    "print(y_test.shape)"
   ]
  },
  {
   "cell_type": "markdown",
   "metadata": {},
   "source": [
    "We can use matplotlib to quickly visualise some of the data."
   ]
  },
  {
   "cell_type": "code",
   "execution_count": 4,
   "metadata": {},
   "outputs": [
    {
     "name": "stdout",
     "output_type": "stream",
     "text": [
      "Class label: 5\n"
     ]
    },
    {
     "data": {
      "image/png": "[encoded data removed]",
      "text/plain": [
       "<matplotlib.figure.Figure at 0x2645db496a0>"
      ]
     },
     "metadata": {},
     "output_type": "display_data"
    }
   ],
   "source": [
    "example_id = 0  # pick any integer from 0 to 59999 to visualize a training example\n",
    "example = x_train[example_id]\n",
    "label = y_train[example_id]\n",
    "print(\"Class label:\", label)\n",
    "plt.matshow(example, cmap=\"gray\")\n",
    "plt.show()"
   ]
  },
  {
   "cell_type": "markdown",
   "metadata": {},
   "source": [
    "MNIST digits have 28\\*28=784 dimensions/pixels, and belong to one of 10 possible classes."
   ]
  },
  {
   "cell_type": "code",
   "execution_count": 5,
   "metadata": {
    "collapsed": true
   },
   "outputs": [],
   "source": [
    "n_dims = 784  # MNIST digits have 28*28=784 dimensions/pixels\n",
    "n_classes = 10"
   ]
  },
  {
   "cell_type": "markdown",
   "metadata": {},
   "source": [
    "* We are going to build a multi-layer perceptron, which uses Dense layers. These layers expect the data to be given as vectors, not matrices.\n",
    "* The pixel values are given by integer values from 0 to 255, we normalise this to obtain float values from 0 to 1.\n",
    "* Labels are given as values 0 to 9, but here we need so-called \"one-hot\" encodings, e.g. 3 becomes [0,0,0,1,0,0,0,0,0,0]"
   ]
  },
  {
   "cell_type": "code",
   "execution_count": 6,
   "metadata": {
    "collapsed": true
   },
   "outputs": [],
   "source": [
    "x_train = x_train.reshape(60000, n_dims)\n",
    "x_test = x_test.reshape(10000, n_dims)\n",
    "\n",
    "x_train = x_train.astype(\"float32\")\n",
    "x_test = x_test.astype(\"float32\")\n",
    "x_train /= 255\n",
    "x_test /= 255\n",
    "\n",
    "y_train = to_categorical(y_train, n_classes)\n",
    "y_test = to_categorical(y_test, n_classes)"
   ]
  },
  {
   "cell_type": "markdown",
   "metadata": {},
   "source": [
    "Observe how the shapes of the datasets have changed."
   ]
  },
  {
   "cell_type": "code",
   "execution_count": 7,
   "metadata": {},
   "outputs": [
    {
     "name": "stdout",
     "output_type": "stream",
     "text": [
      "(60000, 784)\n",
      "(60000, 10)\n",
      "(10000, 784)\n",
      "(10000, 10)\n",
      "example one-hot encoding: [ 0.  0.  0.  0.  0.  1.  0.  0.  0.  0.]\n"
     ]
    }
   ],
   "source": [
    "print(x_train.shape)\n",
    "print(y_train.shape)\n",
    "print(x_test.shape)\n",
    "print(y_test.shape)\n",
    "print(\"example one-hot encoding:\", y_train[0])"
   ]
  },
  {
   "cell_type": "markdown",
   "metadata": {},
   "source": [
    "# Model architecture & settings"
   ]
  },
  {
   "cell_type": "markdown",
   "metadata": {},
   "source": [
    "We build an MLP with two hidden layers, with the given number of hidden units. We also include Dropout for each of the layers, with the given dropout rate."
   ]
  },
  {
   "cell_type": "code",
   "execution_count": 8,
   "metadata": {
    "collapsed": true
   },
   "outputs": [],
   "source": [
    "intermediate_dim1 = 256\n",
    "intermediate_dim2 = 128\n",
    "dropout_rate = 0.2"
   ]
  },
  {
   "cell_type": "markdown",
   "metadata": {},
   "source": [
    "* Initialise a Keras Sequential model\n",
    "* Add two hidden (Dense) layers with ReLU activations and dropout, then a (Dense) Softmax layer with 10 classes (to obtain classification predictions summing up to 1). The first layer must explicitly receive the shape of the input, following layers can do automatice shape inference.\n",
    "* Optional: print a summary of the model\n",
    "* Compile the model with the following settings:\n",
    "    * use stochastic gradient descent with the \"adadelta\" optimizer to train the model\n",
    "    * MNIST is a multi-class classification problem, use categorical cross entropy loss function\n",
    "    * output accuracy (% of correctly classified instances) when evaluating the model"
   ]
  },
  {
   "cell_type": "code",
   "execution_count": 9,
   "metadata": {},
   "outputs": [
    {
     "name": "stdout",
     "output_type": "stream",
     "text": [
      "_________________________________________________________________\n",
      "Layer (type)                 Output Shape              Param #   \n",
      "=================================================================\n",
      "dense_1 (Dense)              (None, 256)               200960    \n",
      "_________________________________________________________________\n",
      "dropout_1 (Dropout)          (None, 256)               0         \n",
      "_________________________________________________________________\n",
      "dense_2 (Dense)              (None, 128)               32896     \n",
      "_________________________________________________________________\n",
      "dropout_2 (Dropout)          (None, 128)               0         \n",
      "_________________________________________________________________\n",
      "dense_3 (Dense)              (None, 10)                1290      \n",
      "=================================================================\n",
      "Total params: 235,146\n",
      "Trainable params: 235,146\n",
      "Non-trainable params: 0\n",
      "_________________________________________________________________\n"
     ]
    }
   ],
   "source": [
    "model = Sequential()\n",
    "\n",
    "model.add(Dense(intermediate_dim1, activation=\"relu\", input_shape=(n_dims,)))\n",
    "model.add(Dropout(dropout_rate))\n",
    "model.add(Dense(intermediate_dim2, activation=\"relu\"))\n",
    "model.add(Dropout(dropout_rate))\n",
    "model.add(Dense(n_classes, activation=\"softmax\"))\n",
    "\n",
    "model.summary()\n",
    "\n",
    "model.compile(optimizer=\"adadelta\", loss=\"categorical_crossentropy\", metrics=[\"accuracy\"])"
   ]
  },
  {
   "cell_type": "markdown",
   "metadata": {},
   "source": [
    "# Training the model\n",
    "Train the model (using stochastic gradient descent) with given batch size, for given number of epochs. We split of 1/12-th of the data (5,000 of the 60,000 samples) as validation data, such that we can use the validation accuracy for hyperparameter tuning."
   ]
  },
  {
   "cell_type": "code",
   "execution_count": 12,
   "metadata": {},
   "outputs": [
    {
     "name": "stdout",
     "output_type": "stream",
     "text": [
      "Train on 55000 samples, validate on 5000 samples\n",
      "Epoch 1/20\n",
      "55000/55000 [==============================] - 2s - loss: 0.1746 - acc: 0.9488 - val_loss: 0.0975 - val_acc: 0.9744\n",
      "Epoch 2/20\n",
      "55000/55000 [==============================] - 2s - loss: 0.1701 - acc: 0.9496 - val_loss: 0.0961 - val_acc: 0.9740\n",
      "Epoch 3/20\n",
      "55000/55000 [==============================] - 2s - loss: 0.1672 - acc: 0.9515 - val_loss: 0.0948 - val_acc: 0.9744\n",
      "Epoch 4/20\n",
      "55000/55000 [==============================] - 2s - loss: 0.1629 - acc: 0.9512 - val_loss: 0.0930 - val_acc: 0.9760\n",
      "Epoch 5/20\n",
      "55000/55000 [==============================] - 2s - loss: 0.1560 - acc: 0.9541 - val_loss: 0.0906 - val_acc: 0.9756\n",
      "Epoch 6/20\n",
      "55000/55000 [==============================] - 2s - loss: 0.1539 - acc: 0.9545 - val_loss: 0.0897 - val_acc: 0.9758\n",
      "Epoch 7/20\n",
      "55000/55000 [==============================] - 2s - loss: 0.1512 - acc: 0.9551 - val_loss: 0.0884 - val_acc: 0.9760\n",
      "Epoch 8/20\n",
      "55000/55000 [==============================] - 2s - loss: 0.1462 - acc: 0.9574 - val_loss: 0.0860 - val_acc: 0.9766\n",
      "Epoch 9/20\n",
      "55000/55000 [==============================] - 2s - loss: 0.1439 - acc: 0.9574 - val_loss: 0.0855 - val_acc: 0.9760\n",
      "Epoch 10/20\n",
      "55000/55000 [==============================] - 2s - loss: 0.1412 - acc: 0.9584 - val_loss: 0.0843 - val_acc: 0.9766\n",
      "Epoch 11/20\n",
      "55000/55000 [==============================] - 2s - loss: 0.1383 - acc: 0.9593 - val_loss: 0.0834 - val_acc: 0.9766\n",
      "Epoch 12/20\n",
      "55000/55000 [==============================] - 2s - loss: 0.1342 - acc: 0.9607 - val_loss: 0.0818 - val_acc: 0.9780\n",
      "Epoch 13/20\n",
      "55000/55000 [==============================] - 2s - loss: 0.1319 - acc: 0.9612 - val_loss: 0.0811 - val_acc: 0.9778\n",
      "Epoch 14/20\n",
      "55000/55000 [==============================] - 2s - loss: 0.1296 - acc: 0.9618 - val_loss: 0.0797 - val_acc: 0.9778\n",
      "Epoch 15/20\n",
      "55000/55000 [==============================] - 2s - loss: 0.1270 - acc: 0.9627 - val_loss: 0.0792 - val_acc: 0.9786\n",
      "Epoch 16/20\n",
      "55000/55000 [==============================] - 2s - loss: 0.1268 - acc: 0.9630 - val_loss: 0.0783 - val_acc: 0.9792\n",
      "Epoch 17/20\n",
      "55000/55000 [==============================] - 2s - loss: 0.1246 - acc: 0.9634 - val_loss: 0.0777 - val_acc: 0.9798\n",
      "Epoch 18/20\n",
      "55000/55000 [==============================] - 2s - loss: 0.1205 - acc: 0.9651 - val_loss: 0.0762 - val_acc: 0.9802\n",
      "Epoch 19/20\n",
      "55000/55000 [==============================] - 2s - loss: 0.1185 - acc: 0.9649 - val_loss: 0.0758 - val_acc: 0.9798\n",
      "Epoch 20/20\n",
      "55000/55000 [==============================] - 2s - loss: 0.1176 - acc: 0.9656 - val_loss: 0.0747 - val_acc: 0.9808\n"
     ]
    },
    {
     "data": {
      "text/plain": [
       "<keras.callbacks.History at 0x2646eac9320>"
      ]
     },
     "execution_count": 12,
     "metadata": {},
     "output_type": "execute_result"
    }
   ],
   "source": [
    "batch_size = 100\n",
    "epochs = 20\n",
    "\n",
    "model.fit(x_train, y_train,\n",
    "          batch_size=batch_size,\n",
    "          epochs=epochs,\n",
    "          validation_split=1/12)"
   ]
  },
  {
   "cell_type": "markdown",
   "metadata": {},
   "source": [
    "# Evaluating the model"
   ]
  },
  {
   "cell_type": "markdown",
   "metadata": {},
   "source": [
    "We evaluate the model using the test set, obtaining the test loss and accuracy (% examples correctly classified)"
   ]
  },
  {
   "cell_type": "code",
   "execution_count": 11,
   "metadata": {},
   "outputs": [
    {
     "name": "stdout",
     "output_type": "stream",
     "text": [
      "Test loss: 0.135846870592\n",
      "Test accuracy: 0.959\n"
     ]
    }
   ],
   "source": [
    "loss, accuracy = model.evaluate(x_test, y_test, verbose=0)\n",
    "\n",
    "print('Test loss:', loss)\n",
    "print('Test accuracy:', accuracy)"
   ]
  }
 ],
 "metadata": {
  "kernelspec": {
   "display_name": "Python 3",
   "language": "python",
   "name": "python3"
  },
  "language_info": {
   "codemirror_mode": {
    "name": "ipython",
    "version": 3
   },
   "file_extension": ".py",
   "mimetype": "text/x-python",
   "name": "python",
   "nbconvert_exporter": "python",
   "pygments_lexer": "ipython3",
   "version": "3.6.2"
  }
 },
 "nbformat": 4,
 "nbformat_minor": 2
}
