{
 "cells": [
  {
   "cell_type": "markdown",
   "metadata": {},
   "source": [
    "## Example 1:\n",
    "Counting words in a document\n",
    "- Word co-occurence implementation with Alice in Wonderland\n",
    "- Word similarity with cosine similarity\n",
    "\n",
    "Some example plots:\n",
    "- Ch15, Fig. 15.3 for small corpus\n"
   ]
  },
  {
   "cell_type": "code",
   "execution_count": 1,
   "metadata": {},
   "outputs": [
    {
     "name": "stderr",
     "output_type": "stream",
     "text": [
      "Using TensorFlow backend.\n"
     ]
    }
   ],
   "source": [
    "import numpy as np\n",
    "np.random.seed(13)\n",
    "import keras.backend as K\n",
    "from keras.models import Sequential\n",
    "from keras.layers import Dense, Embedding, Reshape, Lambda\n",
    "from IPython.display import SVG\n",
    "from keras.utils import np_utils\n",
    "from keras.utils.data_utils import get_file\n",
    "from keras.preprocessing.text import Tokenizer\n",
    "from keras.utils.vis_utils import model_to_dot\n",
    "from keras.preprocessing import sequence\n",
    "from gensim.models import KeyedVectors\n",
    "from sklearn.manifold import TSNE\n",
    "from sklearn.metrics.pairwise import cosine_similarity\n",
    "from sklearn.neighbors import NearestNeighbors as nn\n",
    "from itertools import islice\n",
    "from matplotlib import pylab\n",
    "from __future__ import division"
   ]
  },
  {
   "cell_type": "code",
   "execution_count": 18,
   "metadata": {
    "scrolled": false
   },
   "outputs": [
    {
     "name": "stdout",
     "output_type": "stream",
     "text": [
      "Original number of lines in corpus: 700\n",
      "Number of lines in corpus after first filter: 560\n",
      "Number of words is: 6563\n",
      "Length of the word index is: 6563\n"
     ]
    }
   ],
   "source": [
    "# DO NOT Modify the lines in this cell\n",
    "path = 'alice.txt'\n",
    "# JG> Read and store the first 700 words (text representation)\n",
    "corpus = open(path).readlines()[0:700]\n",
    "print(\"Original number of lines in corpus:\", len(corpus))\n",
    "\n",
    "# JG> Retrieving the sentences having at least 3 words (at least 2 white spaces), resulting in 560 lines\n",
    "# JG> Note that this removes line breaks also. \n",
    "corpus = [sentence for sentence in corpus if sentence.count(\" \") >= 2]\n",
    "print(\"Number of lines in corpus after first filter:\", len(corpus))\n",
    "\n",
    "# JG> List of characters to filter out (ex: punctiation, etc. ) I guess it is the default plus the single quote.\n",
    "tokenizer = Tokenizer(filters='!\"#$%&()*+,-./:;<=>?@[\\\\]^_`{|}~\\t\\n'+\"'\")\n",
    "\n",
    "# JG> Train (why???)\n",
    "tokenizer.fit_on_texts(corpus)\n",
    "\n",
    "# Encode all document into numbers (how?)\n",
    "corpus = tokenizer.texts_to_sequences(corpus)\n",
    "#print(corpus)\n",
    "\n",
    "# JG> Number of words in the corpus.\n",
    "# JG> Each s is a list, where each elements encodes a word into a number. Then, computing the length of s\n",
    "# is the same than counting the words in the line.\n",
    "nb_samples = sum(len(s) for s in corpus) \n",
    "# JG> Get the length of the word_index, where each element in the document is represented\n",
    "V = len(tokenizer.word_index) + 1 # JG> Why plus 1?\n",
    "\n",
    "# JG> These two numbers should match\n",
    "print(\"Number of words is:\", nb_samples)\n",
    "print(\"Length of the word index is:\", nb_samples)\n",
    "\n",
    "# Is this something they need to change?\n",
    "dim = 100\n",
    "window_size = 2\n",
    "window_size_corpus = 4"
   ]
  },
  {
   "cell_type": "markdown",
   "metadata": {
    "collapsed": true
   },
   "source": [
    "###### Word co-occurrence matrix for _The dog chased the cat away from the garden_\n",
    "---------------------------------------------------------\n",
    "|     | The | dog | chased | cat | away | from | garden |\n",
    "|-----|-----|-----|--------|-----|------|------|--------|\n",
    "| The | 0 | 2 | 2 | 3 | 2 | 2 | 1 |\n",
    "|dog | 2 | 0 | 1 | 1 | 1 | 0 | 0 |\n",
    "|chased | 2 | 1 | 0 | 1 | 1 | 1 | 0 |\n",
    "|cat | 3 | 1 | 1 | 0 | 1 | 1 | 1 |\n",
    "|away | 2 | 1 | 1 | 1 | 0 | 1 | 1 |\n",
    "|from | 2 | 0 | 1 | 1 | 1 | 0 | 1 |\n",
    "|garden | 1 | 0 | 0 | 1 | 1 | 1 | 0 |\n",
    "\n",
    "This is an example of a word co-occurence matrix of only one sentence. Create a word co-occurrence matrix for Alice in Wonderland"
   ]
  },
  {
   "cell_type": "code",
   "execution_count": null,
   "metadata": {
    "collapsed": true
   },
   "outputs": [],
   "source": [
    "#co-occurrence matrix"
   ]
  },
  {
   "cell_type": "code",
   "execution_count": null,
   "metadata": {
    "collapsed": true
   },
   "outputs": [],
   "source": [
    "#Compute similarity between the words Alice, Rabbit and Dinah"
   ]
  },
  {
   "cell_type": "code",
   "execution_count": null,
   "metadata": {
    "collapsed": true
   },
   "outputs": [],
   "source": [
    "#Retrieve the five most similar words to Alice with nearest neighbors"
   ]
  },
  {
   "cell_type": "markdown",
   "metadata": {},
   "source": [
    "## Example 2:\n",
    "Word embedding (dense) comparisons\n",
    "- Load the pre-trained word embeddings of word2vec\n",
    "- See whether the differences between the following word pairs are similar:\n",
    "    - _A king is to a queen as a man is to a woman_\n",
    "    - _A cat is to a kitten as a dog is to a puppy_\n",
    "    - _Cats are to a cat as dogs are to a dog_\n",
    "- Compare the following synonyms and antonyms:\n",
    "    - Unhappy and happy\n",
    "    - Happy and cheerful\n",
    "    - Unhappy and cheerful\n",
    "    - Synonym and equivalence\n",
    "    - Synonym and antonym\n",
    "    \n",
    "\n",
    "Download word2vec here: https://drive.google.com/file/d/0B7XkCwpI5KDYNlNUTTlSS21pQmM/edit\n"
   ]
  },
  {
   "cell_type": "code",
   "execution_count": 5,
   "metadata": {
    "collapsed": true
   },
   "outputs": [],
   "source": [
    "#load word2vec\n",
    "word2vec = KeyedVectors.load_word2vec_format(\"your path to word2vec\")"
   ]
  },
  {
   "cell_type": "code",
   "execution_count": 1,
   "metadata": {
    "collapsed": true
   },
   "outputs": [],
   "source": [
    "#perform gensim tasks"
   ]
  }
 ],
 "metadata": {
  "kernelspec": {
   "display_name": "Python 3",
   "language": "python",
   "name": "python3"
  },
  "language_info": {
   "codemirror_mode": {
    "name": "ipython",
    "version": 3
   },
   "file_extension": ".py",
   "mimetype": "text/x-python",
   "name": "python",
   "nbconvert_exporter": "python",
   "pygments_lexer": "ipython3",
   "version": "3.6.2"
  }
 },
 "nbformat": 4,
 "nbformat_minor": 2
}
